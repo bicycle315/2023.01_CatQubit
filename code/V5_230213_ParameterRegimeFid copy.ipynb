{
 "cells": [
  {
   "cell_type": "code",
   "execution_count": 2,
   "metadata": {},
   "outputs": [],
   "source": [
    "from datetime import date\n",
    "from qutip import *\n",
    "from numpy import *\n",
    "import matplotlib as mpl\n",
    "import matplotlib.pyplot as plt\n",
    "from matplotlib import animation"
   ]
  },
  {
   "cell_type": "code",
   "execution_count": 3,
   "metadata": {},
   "outputs": [],
   "source": [
    "def plot_wigner(rho, fig=None, ax=None):\n",
    "    if fig is None or ax is None:\n",
    "        fig, ax=plt.subplots(1,1,figsize=(8,8))\n",
    "    if isket(rho):\n",
    "        rho=ket2dm(rho)\n",
    "    xvec=linspace(-7.5, 7.5, 200)\n",
    "    W=wigner(rho,xvec,xvec)\n",
    "    wlim=abs(W).max()\n",
    "    ax.contourf(xvec, xvec, W, 100, norm=mpl.colors.Normalize(-wlim,wlim), cmap=mpl.cm.get_cmap('RdBu'))\n",
    "    ax.set_xlabel(r'x1', fontsize=16)\n",
    "    ax.set_ylabel(r'x2', fontsize=16)\n",
    "    return fig, ax"
   ]
  },
  {
   "cell_type": "code",
   "execution_count": 38,
   "metadata": {},
   "outputs": [],
   "source": [
    "class system:\n",
    "    def __init__(self, chi, tau_speed, ramp, catsize, start, stop, num):\n",
    "        self.purechi=chi\n",
    "        self.chi=chi*(2)*pi\n",
    "        self.ramp=ramp\n",
    "        self.catsize=catsize\n",
    "        self.tau_speed=tau_speed\n",
    "        self.tau=self.tau_speed/self.chi #puri=5, frattini=2.14\n",
    "        self.start=start\n",
    "        self.stop=stop\n",
    "        self.num=num\n",
    "        self.tlist=linspace(self.start, self.stop, self.num)\n",
    "        self.N=15\n",
    "        self.x_chi=[]\n",
    "        self.y_v=[]\n",
    "        self.fidelity=[]\n",
    "        self.a=destroy(self.N)\n",
    "        self.ad=self.a.dag()\n",
    "        self.H0=self.ad*self.ad*self.a*self.a\n",
    "        self.Hdet=self.ad*self.a\n",
    "        self.Hx=self.ad*self.ad+self.a*self.a\n",
    "        self.Hy=self.ad*self.ad-self.a*self.a\n",
    "        self.zero=basis(self.N, 0)\n",
    "        self.one=basis(self.N, 1)\n",
    "        self.N_plus=(1/(sqrt(2*(1+(exp((-2)*self.catsize))))))\n",
    "        self.zero=coherent(self.N, 0)\n",
    "        self.P0=self.catsize*self.chi\n",
    "        self.expectedcat=self.N_plus*(coherent(self.N, sqrt(self.catsize))+coherent(self.N, -sqrt(self.catsize)))\n",
    "    def Epx(self, t, args):\n",
    "        if self.ramp == 'ad_exp':\n",
    "            return self.P0 *(1-exp((-(t)**4)/(self.tau**4)))\n",
    "        elif self.ramp == 'ad_tanh':\n",
    "            return self.P0*tanh(4*(t/self.tau))\n",
    "        elif self.ramp == 'lin':\n",
    "            if t<self.tau:\n",
    "                return self.P0*(t/self.tau) \n",
    "            if t>=self.tau :\n",
    "                return self.P0\n",
    "        elif self.ramp =='inst':\n",
    "            return self.P0   \n",
    "    def det(self, t, args):\n",
    "        return (-1.7)*(1-(t/self.tau))     \n",
    "    def Epy(self, t,args):\n",
    "        Ep= self.P0*self.chi*(1-exp((-(t)**4)/(self.tau**4)))\n",
    "        alpha_0=sqrt(Ep/self.chi)\n",
    "        alpha_prime=sqrt(0.5*(1/sqrt(self.catsize*(1-exp((-(t)**4)/(self.tau**4)))))*((-1)*self.catsize*exp((-(t)**4)/(self.tau**4)))*((-4)*(t**3)/(self.tau**4)))\n",
    "        N_m=1/(sqrt(2*(1-exp((-2)*(self.catsize)))))\n",
    "        return (1j*alpha_prime)/((1+2*alpha_0)*(N_m))\n",
    "    def init_fidelity(self, spec,kstart, kstop, knum, vstart, vstop, vnum): \n",
    "        kerr=linspace(kstart, kstop, knum)\n",
    "        tau_speed=linspace(vstart,vstop, vnum)\n",
    "        x=[]\n",
    "        y=[]\n",
    "        fid=[]\n",
    "        for chi in kerr:\n",
    "            for v in tau_speed:\n",
    "                def Epx_k_speed(t, args):\n",
    "                    return (2*pi)*chi*self.catsize*(1-exp((-(t)**4)/((v/(2*pi)*chi)**4)))\n",
    "                result=mesolve([(-1)*(2*pi)*chi*self.H0,[self.Hx, Epx_k_speed]],self.zero, self.tlist, [], [])\n",
    "                f=[]\n",
    "                for i in range(len(self.tlist)):\n",
    "                    f.append(fidelity(self.expectedcat, result.states[i]))\n",
    "                maxfid=max(f)\n",
    "                f.clear()\n",
    "                self.x_chi.append(chi)\n",
    "                self.y_v.append(v)\n",
    "                self.fidelity.append(round(maxfid*100,4))\n",
    "                if maxfid<0.9:\n",
    "                    pass\n",
    "                if maxfid>=0.9:\n",
    "                    x.append(chi)\n",
    "                    y.append(v)\n",
    "                    fid.append(round(maxfid*100,4))\n",
    "        plt.scatter(x,y,c=fid, s=20, cmap=plt.cm.viridis, alpha=1)\n",
    "        #plt.scatter(self.x_chi,self.y_v,c=self.fidelity, s=20, cmap=plt.cm.viridis, alpha=1,vmin=90, vmax=100)\n",
    "        plt.xlabel('kerr(MHz)')\n",
    "        plt.ylabel('ramp speed')\n",
    "        plt.colorbar(label='fidelity(%)')\n",
    "        name=f\"{spec},n={self.catsize},k=({kstart},{kstop},{knum}),v=({vstart},{vstop},{vnum})\"\n",
    "        file_name=f\"C:/Users/kimje/Desktop/Project/Posco/Cat/data/fidelity/230213/{name}.png\"\n",
    "        plt.savefig(file_name, format='png', dpi=100, bbox_inches='tight')\n",
    "        plt.show()\n",
    "        \n",
    "    def generate(self, H, spec, speed):\n",
    "        n=len(self.tlist)\n",
    "        if H=='x':\n",
    "            H=[(-1)*self.chi*self.H0,[self.Hx, self.Epx]]\n",
    "        elif H=='x,y':\n",
    "            H=[(-1)*self.chi*self.H0,[self.Hx, self.Epx],[self.Hy, self.Epy]]\n",
    "        elif H=='x,det':\n",
    "            H=[(-1)*self.chi*self.H0,[self.Hx, self.Epx],[self.Hdet, self.det]]\n",
    "        result=mesolve(H, self.zero, self.tlist, [], [])        \n",
    "        # fidelity, time\n",
    "        f=[]\n",
    "        for i in range(n):\n",
    "            f.append(fidelity(self.expectedcat, result.states[i]))\n",
    "        maxfid=max(f)\n",
    "        maxfid_idx=f.index(maxfid)\n",
    "        time_taken=((self.stop-self.start)/self.num)*(maxfid_idx+1)\n",
    "        # animation\n",
    "        fig, ax= plt.subplots(1,1,figsize=(8,8))\n",
    "        def update(frame):\n",
    "            plot_wigner(result.states[frame*speed], fig=fig, ax=ax)\n",
    "        ani=animation.FuncAnimation(fig, update, frames=int(n/speed))\n",
    "        FFwriter=animation.FFMpegWriter()\n",
    "        name=f\"{spec},F={round(maxfid*100,4)},time={round(time_taken,3)}us,chi={self.purechi},v={self.tau_speed},n={self.catsize},t=({self.start},{self.stop},{self.num}).mp4\"\n",
    "        file_name=f\"C:/Users/kimje/Desktop/Project/Posco/Cat/animation/230213/{name}.mp4\"\n",
    "        ani.save(file_name, writer=FFwriter)\n",
    "        plt.close()\n",
    "        return maxfid, time_taken"
   ]
  },
  {
   "cell_type": "code",
   "execution_count": 39,
   "metadata": {},
   "outputs": [],
   "source": [
    "sys=system(chi=0.75, tau_speed=5, ramp='ad_exp', catsize=2.6, start=0, stop=3,num=2000)\n"
   ]
  },
  {
   "cell_type": "code",
   "execution_count": 41,
   "metadata": {},
   "outputs": [
    {
     "ename": "KeyboardInterrupt",
     "evalue": "",
     "output_type": "error",
     "traceback": [
      "\u001b[1;31m---------------------------------------------------------------------------\u001b[0m",
      "\u001b[1;31mKeyboardInterrupt\u001b[0m                         Traceback (most recent call last)",
      "\u001b[1;32mc:\\Users\\kimje\\Desktop\\Project\\Posco\\Cat\\code\\V5_230213_ParameterRegimeFid copy.ipynb Cell 5\u001b[0m in \u001b[0;36m<cell line: 1>\u001b[1;34m()\u001b[0m\n\u001b[1;32m----> <a href='vscode-notebook-cell:/c%3A/Users/kimje/Desktop/Project/Posco/Cat/code/V5_230213_ParameterRegimeFid%20copy.ipynb#W4sZmlsZQ%3D%3D?line=0'>1</a>\u001b[0m sys\u001b[39m.\u001b[39;49minit_fidelity(\u001b[39m'\u001b[39;49m\u001b[39mad_exp\u001b[39;49m\u001b[39m'\u001b[39;49m,\u001b[39m0.35\u001b[39;49m, \u001b[39m80\u001b[39;49m, \u001b[39m100\u001b[39;49m, \u001b[39m0.01\u001b[39;49m,\u001b[39m30\u001b[39;49m, \u001b[39m100\u001b[39;49m)\n",
      "\u001b[1;32mc:\\Users\\kimje\\Desktop\\Project\\Posco\\Cat\\code\\V5_230213_ParameterRegimeFid copy.ipynb Cell 5\u001b[0m in \u001b[0;36msystem.init_fidelity\u001b[1;34m(self, spec, kstart, kstop, knum, vstart, vstop, vnum)\u001b[0m\n\u001b[0;32m     <a href='vscode-notebook-cell:/c%3A/Users/kimje/Desktop/Project/Posco/Cat/code/V5_230213_ParameterRegimeFid%20copy.ipynb#W4sZmlsZQ%3D%3D?line=57'>58</a>\u001b[0m \u001b[39mdef\u001b[39;00m \u001b[39mEpx_k_speed\u001b[39m(t, args):\n\u001b[0;32m     <a href='vscode-notebook-cell:/c%3A/Users/kimje/Desktop/Project/Posco/Cat/code/V5_230213_ParameterRegimeFid%20copy.ipynb#W4sZmlsZQ%3D%3D?line=58'>59</a>\u001b[0m     \u001b[39mreturn\u001b[39;00m (\u001b[39m2\u001b[39m\u001b[39m*\u001b[39mpi)\u001b[39m*\u001b[39mchi\u001b[39m*\u001b[39m\u001b[39mself\u001b[39m\u001b[39m.\u001b[39mcatsize\u001b[39m*\u001b[39m(\u001b[39m1\u001b[39m\u001b[39m-\u001b[39mexp((\u001b[39m-\u001b[39m(t)\u001b[39m*\u001b[39m\u001b[39m*\u001b[39m\u001b[39m4\u001b[39m)\u001b[39m/\u001b[39m((v\u001b[39m/\u001b[39m(\u001b[39m2\u001b[39m\u001b[39m*\u001b[39mpi)\u001b[39m*\u001b[39mchi)\u001b[39m*\u001b[39m\u001b[39m*\u001b[39m\u001b[39m4\u001b[39m)))\n\u001b[1;32m---> <a href='vscode-notebook-cell:/c%3A/Users/kimje/Desktop/Project/Posco/Cat/code/V5_230213_ParameterRegimeFid%20copy.ipynb#W4sZmlsZQ%3D%3D?line=59'>60</a>\u001b[0m result\u001b[39m=\u001b[39mmesolve([(\u001b[39m-\u001b[39;49m\u001b[39m1\u001b[39;49m)\u001b[39m*\u001b[39;49m(\u001b[39m2\u001b[39;49m\u001b[39m*\u001b[39;49mpi)\u001b[39m*\u001b[39;49mchi\u001b[39m*\u001b[39;49m\u001b[39mself\u001b[39;49m\u001b[39m.\u001b[39;49mH0,[\u001b[39mself\u001b[39;49m\u001b[39m.\u001b[39;49mHx, Epx_k_speed]],\u001b[39mself\u001b[39;49m\u001b[39m.\u001b[39;49mzero, \u001b[39mself\u001b[39;49m\u001b[39m.\u001b[39;49mtlist, [], [])\n\u001b[0;32m     <a href='vscode-notebook-cell:/c%3A/Users/kimje/Desktop/Project/Posco/Cat/code/V5_230213_ParameterRegimeFid%20copy.ipynb#W4sZmlsZQ%3D%3D?line=60'>61</a>\u001b[0m f\u001b[39m=\u001b[39m[]\n\u001b[0;32m     <a href='vscode-notebook-cell:/c%3A/Users/kimje/Desktop/Project/Posco/Cat/code/V5_230213_ParameterRegimeFid%20copy.ipynb#W4sZmlsZQ%3D%3D?line=61'>62</a>\u001b[0m \u001b[39mfor\u001b[39;00m i \u001b[39min\u001b[39;00m \u001b[39mrange\u001b[39m(\u001b[39mlen\u001b[39m(\u001b[39mself\u001b[39m\u001b[39m.\u001b[39mtlist)):\n",
      "File \u001b[1;32mc:\\Users\\kimje\\anaconda3\\envs\\qutip\\lib\\site-packages\\qutip\\mesolve.py:217\u001b[0m, in \u001b[0;36mmesolve\u001b[1;34m(H, rho0, tlist, c_ops, e_ops, args, options, progress_bar, _safe_mode)\u001b[0m\n\u001b[0;32m    205\u001b[0m use_mesolve \u001b[39m=\u001b[39m ((c_ops \u001b[39mand\u001b[39;00m \u001b[39mlen\u001b[39m(c_ops) \u001b[39m>\u001b[39m \u001b[39m0\u001b[39m)\n\u001b[0;32m    206\u001b[0m                \u001b[39mor\u001b[39;00m (\u001b[39mnot\u001b[39;00m isket(rho0))\n\u001b[0;32m    207\u001b[0m                \u001b[39mor\u001b[39;00m (\u001b[39misinstance\u001b[39m(H, Qobj) \u001b[39mand\u001b[39;00m issuper(H))\n\u001b[1;32m   (...)\u001b[0m\n\u001b[0;32m    213\u001b[0m                \u001b[39mor\u001b[39;00m (\u001b[39mnot\u001b[39;00m \u001b[39misinstance\u001b[39m(H, (Qobj, QobjEvo)) \u001b[39mand\u001b[39;00m callable(H) \u001b[39mand\u001b[39;00m\n\u001b[0;32m    214\u001b[0m                         options\u001b[39m.\u001b[39mrhs_with_state))\n\u001b[0;32m    216\u001b[0m \u001b[39mif\u001b[39;00m \u001b[39mnot\u001b[39;00m use_mesolve:\n\u001b[1;32m--> 217\u001b[0m     \u001b[39mreturn\u001b[39;00m sesolve(H, rho0, tlist, e_ops\u001b[39m=\u001b[39;49me_ops, args\u001b[39m=\u001b[39;49margs, options\u001b[39m=\u001b[39;49moptions,\n\u001b[0;32m    218\u001b[0m                    progress_bar\u001b[39m=\u001b[39;49mprogress_bar, _safe_mode\u001b[39m=\u001b[39;49m_safe_mode)\n\u001b[0;32m    220\u001b[0m \u001b[39mif\u001b[39;00m isket(rho0):\n\u001b[0;32m    221\u001b[0m     rho0 \u001b[39m=\u001b[39m ket2dm(rho0)\n",
      "File \u001b[1;32mc:\\Users\\kimje\\anaconda3\\envs\\qutip\\lib\\site-packages\\qutip\\sesolve.py:136\u001b[0m, in \u001b[0;36msesolve\u001b[1;34m(H, psi0, tlist, e_ops, args, options, progress_bar, _safe_mode)\u001b[0m\n\u001b[0;32m    133\u001b[0m     v \u001b[39m=\u001b[39m psi0\u001b[39m.\u001b[39mfull()\u001b[39m.\u001b[39mravel(\u001b[39m'\u001b[39m\u001b[39mF\u001b[39m\u001b[39m'\u001b[39m)\n\u001b[0;32m    134\u001b[0m     func(\u001b[39m0.\u001b[39m, v, \u001b[39m*\u001b[39mode_args) \u001b[39m+\u001b[39m v\n\u001b[1;32m--> 136\u001b[0m res \u001b[39m=\u001b[39m _generic_ode_solve(func, ode_args, psi0, tlist, e_ops, options,\n\u001b[0;32m    137\u001b[0m                          progress_bar, dims\u001b[39m=\u001b[39;49mpsi0\u001b[39m.\u001b[39;49mdims)\n\u001b[0;32m    138\u001b[0m \u001b[39mif\u001b[39;00m e_ops_dict:\n\u001b[0;32m    139\u001b[0m     res\u001b[39m.\u001b[39mexpect \u001b[39m=\u001b[39m {e: res\u001b[39m.\u001b[39mexpect[n]\n\u001b[0;32m    140\u001b[0m                   \u001b[39mfor\u001b[39;00m n, e \u001b[39min\u001b[39;00m \u001b[39menumerate\u001b[39m(e_ops_dict\u001b[39m.\u001b[39mkeys())}\n",
      "File \u001b[1;32mc:\\Users\\kimje\\anaconda3\\envs\\qutip\\lib\\site-packages\\qutip\\sesolve.py:381\u001b[0m, in \u001b[0;36m_generic_ode_solve\u001b[1;34m(func, ode_args, psi0, tlist, e_ops, opt, progress_bar, dims)\u001b[0m\n\u001b[0;32m    377\u001b[0m             output\u001b[39m.\u001b[39mexpect[m][t_idx] \u001b[39m=\u001b[39m cy_expect_psi(e_ops_data[m], cdata,\n\u001b[0;32m    378\u001b[0m                                                     e_ops[m]\u001b[39m.\u001b[39misherm)\n\u001b[0;32m    380\u001b[0m     \u001b[39mif\u001b[39;00m t_idx \u001b[39m<\u001b[39m n_tsteps \u001b[39m-\u001b[39m \u001b[39m1\u001b[39m:\n\u001b[1;32m--> 381\u001b[0m         r\u001b[39m.\u001b[39;49mintegrate(r\u001b[39m.\u001b[39;49mt \u001b[39m+\u001b[39;49m dt[t_idx])\n\u001b[0;32m    383\u001b[0m progress_bar\u001b[39m.\u001b[39mfinished()\n\u001b[0;32m    385\u001b[0m \u001b[39mif\u001b[39;00m opt\u001b[39m.\u001b[39mstore_final_state:\n",
      "File \u001b[1;32mc:\\Users\\kimje\\anaconda3\\envs\\qutip\\lib\\site-packages\\scipy\\integrate\\_ode.py:433\u001b[0m, in \u001b[0;36mode.integrate\u001b[1;34m(self, t, step, relax)\u001b[0m\n\u001b[0;32m    430\u001b[0m     mth \u001b[39m=\u001b[39m \u001b[39mself\u001b[39m\u001b[39m.\u001b[39m_integrator\u001b[39m.\u001b[39mrun\n\u001b[0;32m    432\u001b[0m \u001b[39mtry\u001b[39;00m:\n\u001b[1;32m--> 433\u001b[0m     \u001b[39mself\u001b[39m\u001b[39m.\u001b[39m_y, \u001b[39mself\u001b[39m\u001b[39m.\u001b[39mt \u001b[39m=\u001b[39m mth(\u001b[39mself\u001b[39;49m\u001b[39m.\u001b[39;49mf, \u001b[39mself\u001b[39;49m\u001b[39m.\u001b[39;49mjac \u001b[39mor\u001b[39;49;00m (\u001b[39mlambda\u001b[39;49;00m: \u001b[39mNone\u001b[39;49;00m),\n\u001b[0;32m    434\u001b[0m                           \u001b[39mself\u001b[39;49m\u001b[39m.\u001b[39;49m_y, \u001b[39mself\u001b[39;49m\u001b[39m.\u001b[39;49mt, t,\n\u001b[0;32m    435\u001b[0m                           \u001b[39mself\u001b[39;49m\u001b[39m.\u001b[39;49mf_params, \u001b[39mself\u001b[39;49m\u001b[39m.\u001b[39;49mjac_params)\n\u001b[0;32m    436\u001b[0m \u001b[39mexcept\u001b[39;00m \u001b[39mSystemError\u001b[39;00m \u001b[39mas\u001b[39;00m e:\n\u001b[0;32m    437\u001b[0m     \u001b[39m# f2py issue with tuple returns, see ticket 1187.\u001b[39;00m\n\u001b[0;32m    438\u001b[0m     \u001b[39mraise\u001b[39;00m \u001b[39mValueError\u001b[39;00m(\n\u001b[0;32m    439\u001b[0m         \u001b[39m'\u001b[39m\u001b[39mFunction to integrate must not return a tuple.\u001b[39m\u001b[39m'\u001b[39m\n\u001b[0;32m    440\u001b[0m     ) \u001b[39mfrom\u001b[39;00m \u001b[39me\u001b[39;00m\n",
      "File \u001b[1;32mc:\\Users\\kimje\\anaconda3\\envs\\qutip\\lib\\site-packages\\scipy\\integrate\\_ode.py:1009\u001b[0m, in \u001b[0;36mvode.run\u001b[1;34m(self, f, jac, y0, t0, t1, f_params, jac_params)\u001b[0m\n\u001b[0;32m   1005\u001b[0m     jac \u001b[39m=\u001b[39m _vode_banded_jac_wrapper(jac, \u001b[39mself\u001b[39m\u001b[39m.\u001b[39mml, jac_params)\n\u001b[0;32m   1007\u001b[0m args \u001b[39m=\u001b[39m ((f, jac, y0, t0, t1) \u001b[39m+\u001b[39m \u001b[39mtuple\u001b[39m(\u001b[39mself\u001b[39m\u001b[39m.\u001b[39mcall_args) \u001b[39m+\u001b[39m\n\u001b[0;32m   1008\u001b[0m         (f_params, jac_params))\n\u001b[1;32m-> 1009\u001b[0m y1, t, istate \u001b[39m=\u001b[39m \u001b[39mself\u001b[39;49m\u001b[39m.\u001b[39;49mrunner(\u001b[39m*\u001b[39;49margs)\n\u001b[0;32m   1010\u001b[0m \u001b[39mself\u001b[39m\u001b[39m.\u001b[39mistate \u001b[39m=\u001b[39m istate\n\u001b[0;32m   1011\u001b[0m \u001b[39mif\u001b[39;00m istate \u001b[39m<\u001b[39m \u001b[39m0\u001b[39m:\n",
      "File \u001b[1;32mc:\\Users\\kimje\\anaconda3\\envs\\qutip\\lib\\site-packages\\qutip\\cy\\cqobjevo.pyx:212\u001b[0m, in \u001b[0;36mqutip.cy.cqobjevo.CQobjEvo.mul_vec\u001b[1;34m()\u001b[0m\n",
      "File \u001b[1;32mc:\\Users\\kimje\\anaconda3\\envs\\qutip\\lib\\site-packages\\qutip\\cy\\cqobjevo.pyx:679\u001b[0m, in \u001b[0;36mqutip.cy.cqobjevo.CQobjEvoTd._mul_vec\u001b[1;34m()\u001b[0m\n",
      "File \u001b[1;32mc:\\Users\\kimje\\anaconda3\\envs\\qutip\\lib\\site-packages\\qutip\\cy\\cqobjevo.pyx:293\u001b[0m, in \u001b[0;36mqutip.cy.cqobjevo.CQobjEvo._factor_dyn\u001b[1;34m()\u001b[0m\n",
      "File \u001b[1;32mc:\\Users\\kimje\\anaconda3\\envs\\qutip\\lib\\site-packages\\qutip\\cy\\cqobjevo.pyx:278\u001b[0m, in \u001b[0;36mqutip.cy.cqobjevo.CQobjEvo._factor\u001b[1;34m()\u001b[0m\n",
      "File \u001b[1;32mc:\\Users\\kimje\\anaconda3\\envs\\qutip\\lib\\site-packages\\qutip\\qobjevo.py:1808\u001b[0m, in \u001b[0;36m_UnitedFuncCaller.__call__\u001b[1;34m(self, t, args)\u001b[0m\n\u001b[0;32m   1805\u001b[0m             \u001b[39melse\u001b[39;00m:\n\u001b[0;32m   1806\u001b[0m                 \u001b[39mself\u001b[39m\u001b[39m.\u001b[39margs[name] \u001b[39m=\u001b[39m op\u001b[39m.\u001b[39mexpect(t, state)\n\u001b[1;32m-> 1808\u001b[0m \u001b[39mdef\u001b[39;00m \u001b[39m__call__\u001b[39m(\u001b[39mself\u001b[39m, t, args\u001b[39m=\u001b[39m{}):\n\u001b[0;32m   1809\u001b[0m     \u001b[39mif\u001b[39;00m args:\n\u001b[0;32m   1810\u001b[0m         now_args \u001b[39m=\u001b[39m \u001b[39mself\u001b[39m\u001b[39m.\u001b[39margs\u001b[39m.\u001b[39mcopy()\n",
      "\u001b[1;31mKeyboardInterrupt\u001b[0m: "
     ]
    }
   ],
   "source": [
    "sys.init_fidelity('ad_exp',0.35, 80, 100, 0.01,30, 100)"
   ]
  },
  {
   "cell_type": "code",
   "execution_count": null,
   "metadata": {},
   "outputs": [
    {
     "data": {
      "text/plain": [
       "(0.998500370278381, 1.3800000000000001)"
      ]
     },
     "metadata": {},
     "output_type": "display_data"
    }
   ],
   "source": [
    "sys.generate(H='adiabatic', spec='ad_exp', speed=20)"
   ]
  },
  {
   "cell_type": "code",
   "execution_count": 65,
   "metadata": {},
   "outputs": [],
   "source": [
    "sys_lin=system(chi=0.75, tau_speed=5, ramp='lin', catsize=4, start=0, stop=2,num=500)\n"
   ]
  },
  {
   "cell_type": "code",
   "execution_count": 66,
   "metadata": {},
   "outputs": [
    {
     "data": {
      "text/plain": [
       "(0.998500370278381, 1.3800000000000001)"
      ]
     },
     "execution_count": 66,
     "metadata": {},
     "output_type": "execute_result"
    }
   ],
   "source": [
    "sys.generate(H='adiabatic', spec='ad_exp', speed=20)"
   ]
  },
  {
   "cell_type": "code",
   "execution_count": 64,
   "metadata": {},
   "outputs": [
    {
     "data": {
      "text/plain": [
       "(0.9994474023327627, 1.932)"
      ]
     },
     "execution_count": 64,
     "metadata": {},
     "output_type": "execute_result"
    }
   ],
   "source": [
    "sys.generate(H='drv+det', spec='ad_exp,ad_det', speed=20)"
   ]
  },
  {
   "cell_type": "code",
   "execution_count": 67,
   "metadata": {},
   "outputs": [
    {
     "data": {
      "text/plain": [
       "(0.9955463654702429, 0.9480000000000001)"
      ]
     },
     "execution_count": 67,
     "metadata": {},
     "output_type": "execute_result"
    }
   ],
   "source": [
    "sys_lin.generate(H='drv+det', spec='ad_lin,ad_det', speed=20)"
   ]
  },
  {
   "cell_type": "code",
   "execution_count": 49,
   "metadata": {},
   "outputs": [
    {
     "name": "stdout",
     "output_type": "stream",
     "text": [
      "[0.75, 0.75, 0.75, 0.75, 0.75, 0.75, 0.75, 0.75, 0.75, 9.555555555555555, 9.555555555555555, 18.36111111111111, 27.166666666666664, 35.97222222222222, 44.77777777777778, 53.58333333333333, 62.388888888888886, 71.19444444444444, 80.0]\n",
      "[2.231111111111111, 4.452222222222222, 6.673333333333333, 8.894444444444444, 11.115555555555554, 13.336666666666666, 15.557777777777778, 17.77888888888889, 20.0, 0.01, 2.231111111111111, 0.01, 0.01, 0.01, 0.01, 0.01, 0.01, 0.01, 0.01]\n",
      "[82.3607, 94.7612, 99.0027, 99.8528, 99.9824, 100.0055, 100.0094, 99.9929, 99.6363, 68.7723, 80.4065, 97.9598, 100.0039, 100.011, 100.011, 100.011, 100.011, 100.011, 100.011]\n"
     ]
    },
    {
     "data": {
      "image/png": "[encoded data removed]",
      "text/plain": [
       "<Figure size 432x288 with 2 Axes>"
      ]
     },
     "metadata": {
      "needs_background": "light"
     },
     "output_type": "display_data"
    }
   ],
   "source": [
    "sys.init_fidelity(0.75, 80, 10, 0.01, 20, 10)"
   ]
  },
  {
   "cell_type": "code",
   "execution_count": 46,
   "metadata": {},
   "outputs": [
    {
     "ename": "KeyboardInterrupt",
     "evalue": "",
     "output_type": "error",
     "traceback": [
      "\u001b[1;31m---------------------------------------------------------------------------\u001b[0m",
      "\u001b[1;31mKeyboardInterrupt\u001b[0m                         Traceback (most recent call last)",
      "\u001b[1;32mc:\\Users\\kimje\\Desktop\\Project\\Posco\\Cat\\code\\V4_230211_maxFidelity, time(max) .ipynb Cell 6\u001b[0m in \u001b[0;36m<cell line: 1>\u001b[1;34m()\u001b[0m\n\u001b[1;32m----> <a href='vscode-notebook-cell:/c%3A/Users/kimje/Desktop/Project/Posco/Cat/code/V4_230211_maxFidelity%2C%20time%28max%29%20.ipynb#X36sZmlsZQ%3D%3D?line=0'>1</a>\u001b[0m sys\u001b[39m.\u001b[39;49minit_fidelity(\u001b[39m0.35\u001b[39;49m, \u001b[39m80\u001b[39;49m, \u001b[39m100\u001b[39;49m, \u001b[39m0.01\u001b[39;49m, \u001b[39m20\u001b[39;49m, \u001b[39m100\u001b[39;49m)\n",
      "\u001b[1;32mc:\\Users\\kimje\\Desktop\\Project\\Posco\\Cat\\code\\V4_230211_maxFidelity, time(max) .ipynb Cell 6\u001b[0m in \u001b[0;36msystem.init_fidelity\u001b[1;34m(self, kstart, kstop, knum, vstart, vstop, vnum)\u001b[0m\n\u001b[0;32m     <a href='vscode-notebook-cell:/c%3A/Users/kimje/Desktop/Project/Posco/Cat/code/V4_230211_maxFidelity%2C%20time%28max%29%20.ipynb#X36sZmlsZQ%3D%3D?line=56'>57</a>\u001b[0m f\u001b[39m=\u001b[39m[]\n\u001b[0;32m     <a href='vscode-notebook-cell:/c%3A/Users/kimje/Desktop/Project/Posco/Cat/code/V4_230211_maxFidelity%2C%20time%28max%29%20.ipynb#X36sZmlsZQ%3D%3D?line=57'>58</a>\u001b[0m \u001b[39mfor\u001b[39;00m i \u001b[39min\u001b[39;00m \u001b[39mrange\u001b[39m(\u001b[39mlen\u001b[39m(\u001b[39mself\u001b[39m\u001b[39m.\u001b[39mtlist)):\n\u001b[1;32m---> <a href='vscode-notebook-cell:/c%3A/Users/kimje/Desktop/Project/Posco/Cat/code/V4_230211_maxFidelity%2C%20time%28max%29%20.ipynb#X36sZmlsZQ%3D%3D?line=58'>59</a>\u001b[0m     f\u001b[39m.\u001b[39mappend(fidelity(\u001b[39mself\u001b[39;49m\u001b[39m.\u001b[39;49mexpectedcat, result\u001b[39m.\u001b[39;49mstates[i]))\n\u001b[0;32m     <a href='vscode-notebook-cell:/c%3A/Users/kimje/Desktop/Project/Posco/Cat/code/V4_230211_maxFidelity%2C%20time%28max%29%20.ipynb#X36sZmlsZQ%3D%3D?line=59'>60</a>\u001b[0m maxfid\u001b[39m=\u001b[39m\u001b[39mmax\u001b[39m(f)\n\u001b[0;32m     <a href='vscode-notebook-cell:/c%3A/Users/kimje/Desktop/Project/Posco/Cat/code/V4_230211_maxFidelity%2C%20time%28max%29%20.ipynb#X36sZmlsZQ%3D%3D?line=60'>61</a>\u001b[0m \u001b[39m# x.append(chi)\u001b[39;00m\n\u001b[0;32m     <a href='vscode-notebook-cell:/c%3A/Users/kimje/Desktop/Project/Posco/Cat/code/V4_230211_maxFidelity%2C%20time%28max%29%20.ipynb#X36sZmlsZQ%3D%3D?line=61'>62</a>\u001b[0m \u001b[39m# y.append(v)\u001b[39;00m\n\u001b[0;32m     <a href='vscode-notebook-cell:/c%3A/Users/kimje/Desktop/Project/Posco/Cat/code/V4_230211_maxFidelity%2C%20time%28max%29%20.ipynb#X36sZmlsZQ%3D%3D?line=62'>63</a>\u001b[0m \u001b[39m# fid_color.append(round(maxfid*100,4))\u001b[39;00m\n\u001b[0;32m     <a href='vscode-notebook-cell:/c%3A/Users/kimje/Desktop/Project/Posco/Cat/code/V4_230211_maxFidelity%2C%20time%28max%29%20.ipynb#X36sZmlsZQ%3D%3D?line=63'>64</a>\u001b[0m \u001b[39m# f.clear()\u001b[39;00m\n",
      "File \u001b[1;32mc:\\Users\\kimje\\anaconda3\\envs\\qutip\\lib\\site-packages\\qutip\\metrics.py:79\u001b[0m, in \u001b[0;36mfidelity\u001b[1;34m(A, B)\u001b[0m\n\u001b[0;32m     72\u001b[0m     \u001b[39mraise\u001b[39;00m \u001b[39mTypeError\u001b[39;00m(\u001b[39m'\u001b[39m\u001b[39mDensity matrices do not have same dimensions.\u001b[39m\u001b[39m'\u001b[39m)\n\u001b[0;32m     74\u001b[0m \u001b[39m# We don't actually need the whole matrix here, just the trace\u001b[39;00m\n\u001b[0;32m     75\u001b[0m \u001b[39m# of its square root, so let's just get its eigenenergies instead.\u001b[39;00m\n\u001b[0;32m     76\u001b[0m \u001b[39m# We also truncate negative eigenvalues to avoid nan propagation;\u001b[39;00m\n\u001b[0;32m     77\u001b[0m \u001b[39m# even for positive semidefinite matrices, small negative eigenvalues\u001b[39;00m\n\u001b[0;32m     78\u001b[0m \u001b[39m# can be reported.\u001b[39;00m\n\u001b[1;32m---> 79\u001b[0m eig_vals \u001b[39m=\u001b[39m (sqrtmA \u001b[39m*\u001b[39;49m B \u001b[39m*\u001b[39;49m sqrtmA)\u001b[39m.\u001b[39meigenenergies()\n\u001b[0;32m     80\u001b[0m \u001b[39mreturn\u001b[39;00m \u001b[39mfloat\u001b[39m(np\u001b[39m.\u001b[39mreal(np\u001b[39m.\u001b[39msqrt(eig_vals[eig_vals \u001b[39m>\u001b[39m \u001b[39m0\u001b[39m])\u001b[39m.\u001b[39msum()))\n",
      "File \u001b[1;32mc:\\Users\\kimje\\anaconda3\\envs\\qutip\\lib\\site-packages\\qutip\\qobj.py:492\u001b[0m, in \u001b[0;36mQobj.__mul__\u001b[1;34m(self, other)\u001b[0m\n\u001b[0;32m    490\u001b[0m \u001b[39mif\u001b[39;00m \u001b[39misinstance\u001b[39m(other, Qobj):\n\u001b[0;32m    491\u001b[0m     \u001b[39mif\u001b[39;00m \u001b[39mself\u001b[39m\u001b[39m.\u001b[39mdims[\u001b[39m1\u001b[39m] \u001b[39m==\u001b[39m other\u001b[39m.\u001b[39mdims[\u001b[39m0\u001b[39m]:\n\u001b[1;32m--> 492\u001b[0m         out \u001b[39m=\u001b[39m Qobj()\n\u001b[0;32m    493\u001b[0m         out\u001b[39m.\u001b[39mdata \u001b[39m=\u001b[39m \u001b[39mself\u001b[39m\u001b[39m.\u001b[39mdata \u001b[39m*\u001b[39m other\u001b[39m.\u001b[39mdata\n\u001b[0;32m    494\u001b[0m         dims \u001b[39m=\u001b[39m [\u001b[39mself\u001b[39m\u001b[39m.\u001b[39mdims[\u001b[39m0\u001b[39m], other\u001b[39m.\u001b[39mdims[\u001b[39m1\u001b[39m]]\n",
      "File \u001b[1;32mc:\\Users\\kimje\\anaconda3\\envs\\qutip\\lib\\site-packages\\qutip\\qobj.py:335\u001b[0m, in \u001b[0;36mQobj.__init__\u001b[1;34m(self, inpt, dims, shape, type, isherm, copy, fast, superrep, isunitary)\u001b[0m\n\u001b[0;32m    329\u001b[0m         \u001b[39mself\u001b[39m\u001b[39m.\u001b[39msuperrep \u001b[39m=\u001b[39m \u001b[39m'\u001b[39m\u001b[39msuper\u001b[39m\u001b[39m'\u001b[39m\n\u001b[0;32m    331\u001b[0m \u001b[39m# While the obvious check would be != that would fail valid\u001b[39;00m\n\u001b[0;32m    332\u001b[0m \u001b[39m# use cases such as enr_fock and other enr_ functions.\u001b[39;00m\n\u001b[0;32m    333\u001b[0m \u001b[39m# This does leave open the possibility of data still being\u001b[39;00m\n\u001b[0;32m    334\u001b[0m \u001b[39m# misused such as Qobj(complex[n**2][1], dims = [[n],[n]])\u001b[39;00m\n\u001b[1;32m--> 335\u001b[0m \u001b[39mif\u001b[39;00m (\u001b[39mself\u001b[39m\u001b[39m.\u001b[39m_data\u001b[39m.\u001b[39mshape[\u001b[39m0\u001b[39m] \u001b[39m>\u001b[39m np\u001b[39m.\u001b[39;49mprod(np\u001b[39m.\u001b[39;49mhstack(\u001b[39mself\u001b[39;49m\u001b[39m.\u001b[39;49mdims[\u001b[39m0\u001b[39;49m])) \u001b[39mor\u001b[39;00m\n\u001b[0;32m    336\u001b[0m    \u001b[39mself\u001b[39m\u001b[39m.\u001b[39m_data\u001b[39m.\u001b[39mshape[\u001b[39m1\u001b[39m] \u001b[39m>\u001b[39m np\u001b[39m.\u001b[39mprod(np\u001b[39m.\u001b[39mhstack(\u001b[39mself\u001b[39m\u001b[39m.\u001b[39mdims[\u001b[39m1\u001b[39m]))) \u001b[39mand\u001b[39;00m \\\n\u001b[0;32m    337\u001b[0m    \u001b[39mself\u001b[39m\u001b[39m.\u001b[39mtype \u001b[39m!=\u001b[39m \u001b[39m'\u001b[39m\u001b[39msuper\u001b[39m\u001b[39m'\u001b[39m:\n\u001b[0;32m    339\u001b[0m     \u001b[39mraise\u001b[39;00m \u001b[39mValueError\u001b[39;00m(\u001b[39mf\u001b[39m\u001b[39m\"\u001b[39m\u001b[39mQobj has smaller dims \u001b[39m\u001b[39m{\u001b[39;00m\u001b[39mself\u001b[39m\u001b[39m.\u001b[39mdims\u001b[39m}\u001b[39;00m\u001b[39m \u001b[39m\u001b[39m\"\u001b[39m \u001b[39m+\u001b[39m\n\u001b[0;32m    340\u001b[0m                      \u001b[39mf\u001b[39m\u001b[39m\"\u001b[39m\u001b[39mthan underlying shape \u001b[39m\u001b[39m{\u001b[39;00m\u001b[39mself\u001b[39m\u001b[39m.\u001b[39m_data\u001b[39m.\u001b[39mshape\u001b[39m}\u001b[39;00m\u001b[39m\"\u001b[39m)\n\u001b[0;32m    342\u001b[0m \u001b[39m# clear type cache\u001b[39;00m\n",
      "File \u001b[1;32m<__array_function__ internals>:180\u001b[0m, in \u001b[0;36mprod\u001b[1;34m(*args, **kwargs)\u001b[0m\n",
      "File \u001b[1;32mc:\\Users\\kimje\\anaconda3\\envs\\qutip\\lib\\site-packages\\numpy\\core\\fromnumeric.py:3088\u001b[0m, in \u001b[0;36mprod\u001b[1;34m(a, axis, dtype, out, keepdims, initial, where)\u001b[0m\n\u001b[0;32m   2970\u001b[0m \u001b[39m@array_function_dispatch\u001b[39m(_prod_dispatcher)\n\u001b[0;32m   2971\u001b[0m \u001b[39mdef\u001b[39;00m \u001b[39mprod\u001b[39m(a, axis\u001b[39m=\u001b[39m\u001b[39mNone\u001b[39;00m, dtype\u001b[39m=\u001b[39m\u001b[39mNone\u001b[39;00m, out\u001b[39m=\u001b[39m\u001b[39mNone\u001b[39;00m, keepdims\u001b[39m=\u001b[39mnp\u001b[39m.\u001b[39m_NoValue,\n\u001b[0;32m   2972\u001b[0m          initial\u001b[39m=\u001b[39mnp\u001b[39m.\u001b[39m_NoValue, where\u001b[39m=\u001b[39mnp\u001b[39m.\u001b[39m_NoValue):\n\u001b[0;32m   2973\u001b[0m     \u001b[39m\"\"\"\u001b[39;00m\n\u001b[0;32m   2974\u001b[0m \u001b[39m    Return the product of array elements over a given axis.\u001b[39;00m\n\u001b[0;32m   2975\u001b[0m \n\u001b[1;32m   (...)\u001b[0m\n\u001b[0;32m   3086\u001b[0m \u001b[39m    10\u001b[39;00m\n\u001b[0;32m   3087\u001b[0m \u001b[39m    \"\"\"\u001b[39;00m\n\u001b[1;32m-> 3088\u001b[0m     \u001b[39mreturn\u001b[39;00m _wrapreduction(a, np\u001b[39m.\u001b[39;49mmultiply, \u001b[39m'\u001b[39;49m\u001b[39mprod\u001b[39;49m\u001b[39m'\u001b[39;49m, axis, dtype, out,\n\u001b[0;32m   3089\u001b[0m                           keepdims\u001b[39m=\u001b[39;49mkeepdims, initial\u001b[39m=\u001b[39;49minitial, where\u001b[39m=\u001b[39;49mwhere)\n",
      "File \u001b[1;32mc:\\Users\\kimje\\anaconda3\\envs\\qutip\\lib\\site-packages\\numpy\\core\\fromnumeric.py:70\u001b[0m, in \u001b[0;36m_wrapreduction\u001b[1;34m(obj, ufunc, method, axis, dtype, out, **kwargs)\u001b[0m\n\u001b[0;32m     69\u001b[0m \u001b[39mdef\u001b[39;00m \u001b[39m_wrapreduction\u001b[39m(obj, ufunc, method, axis, dtype, out, \u001b[39m*\u001b[39m\u001b[39m*\u001b[39mkwargs):\n\u001b[1;32m---> 70\u001b[0m     passkwargs \u001b[39m=\u001b[39m {k: v \u001b[39mfor\u001b[39;00m k, v \u001b[39min\u001b[39;00m kwargs\u001b[39m.\u001b[39mitems()\n\u001b[0;32m     71\u001b[0m                   \u001b[39mif\u001b[39;00m v \u001b[39mis\u001b[39;00m \u001b[39mnot\u001b[39;00m np\u001b[39m.\u001b[39m_NoValue}\n\u001b[0;32m     73\u001b[0m     \u001b[39mif\u001b[39;00m \u001b[39mtype\u001b[39m(obj) \u001b[39mis\u001b[39;00m \u001b[39mnot\u001b[39;00m mu\u001b[39m.\u001b[39mndarray:\n\u001b[0;32m     74\u001b[0m         \u001b[39mtry\u001b[39;00m:\n",
      "File \u001b[1;32mc:\\Users\\kimje\\anaconda3\\envs\\qutip\\lib\\site-packages\\numpy\\core\\fromnumeric.py:70\u001b[0m, in \u001b[0;36m<dictcomp>\u001b[1;34m(.0)\u001b[0m\n\u001b[0;32m     69\u001b[0m \u001b[39mdef\u001b[39;00m \u001b[39m_wrapreduction\u001b[39m(obj, ufunc, method, axis, dtype, out, \u001b[39m*\u001b[39m\u001b[39m*\u001b[39mkwargs):\n\u001b[1;32m---> 70\u001b[0m     passkwargs \u001b[39m=\u001b[39m {k: v \u001b[39mfor\u001b[39;00m k, v \u001b[39min\u001b[39;00m kwargs\u001b[39m.\u001b[39mitems()\n\u001b[0;32m     71\u001b[0m                   \u001b[39mif\u001b[39;00m v \u001b[39mis\u001b[39;00m \u001b[39mnot\u001b[39;00m np\u001b[39m.\u001b[39m_NoValue}\n\u001b[0;32m     73\u001b[0m     \u001b[39mif\u001b[39;00m \u001b[39mtype\u001b[39m(obj) \u001b[39mis\u001b[39;00m \u001b[39mnot\u001b[39;00m mu\u001b[39m.\u001b[39mndarray:\n\u001b[0;32m     74\u001b[0m         \u001b[39mtry\u001b[39;00m:\n",
      "\u001b[1;31mKeyboardInterrupt\u001b[0m: "
     ]
    }
   ],
   "source": [
    "sys.init_fidelity(0.35, 80, 100, 0.01, 20, 100)"
   ]
  },
  {
   "cell_type": "code",
   "execution_count": null,
   "metadata": {},
   "outputs": [
    {
     "name": "stdout",
     "output_type": "stream",
     "text": [
      "[0.75, 0.75, 0.75]\n",
      "[5.0, 7.5, 10.0]\n",
      "[96.8406, 99.5558, 99.9414]\n"
     ]
    },
    {
     "data": {
      "image/png": "[encoded data removed]",
      "text/plain": [
       "<Figure size 432x288 with 2 Axes>"
      ]
     },
     "metadata": {},
     "output_type": "display_data"
    }
   ],
   "source": [
    "sys.init_fidelity(0.75, 80, 3, 5, 10, 3)"
   ]
  },
  {
   "cell_type": "code",
   "execution_count": null,
   "metadata": {},
   "outputs": [
    {
     "name": "stdout",
     "output_type": "stream",
     "text": [
      "[0.75, 0.75, 0.75, 40.375, 40.375, 40.375, 80.0, 80.0, 80.0]\n",
      "[5.0, 7.5, 10.0, 5.0, 7.5, 10.0, 5.0, 7.5, 10.0]\n",
      "[96.8406, 99.5558, 99.9414, 19.1488, 19.1395, 19.1379, 19.138, 19.1374, 19.1373]\n"
     ]
    },
    {
     "data": {
      "image/png": "[encoded data removed]",
      "text/plain": [
       "<Figure size 432x288 with 2 Axes>"
      ]
     },
     "metadata": {},
     "output_type": "display_data"
    }
   ],
   "source": [
    "sys.init_fidelity(0.75, 80, 3, 5, 10, 3)"
   ]
  },
  {
   "cell_type": "code",
   "execution_count": 26,
   "metadata": {},
   "outputs": [
    {
     "data": {
      "image/png": "[encoded data removed]",
      "text/plain": [
       "<Figure size 432x288 with 2 Axes>"
      ]
     },
     "metadata": {
      "needs_background": "light"
     },
     "output_type": "display_data"
    }
   ],
   "source": [
    "sys.init_fidelity() #10000 pt 275min"
   ]
  },
  {
   "cell_type": "code",
   "execution_count": 10,
   "metadata": {},
   "outputs": [
    {
     "data": {
      "text/plain": [
       "(0.9985003605227244, 1.3800000000000001)"
      ]
     },
     "execution_count": 10,
     "metadata": {},
     "output_type": "execute_result"
    }
   ],
   "source": [
    "sys.generate('adiabatic','K',  20)"
   ]
  },
  {
   "cell_type": "code",
   "execution_count": 32,
   "metadata": {},
   "outputs": [],
   "source": [
    "sys=system(-0.75, 5, 'ad_exp', 4)"
   ]
  },
  {
   "cell_type": "code",
   "execution_count": 33,
   "metadata": {},
   "outputs": [
    {
     "data": {
      "text/plain": [
       "(0.9985003634474527, 1.3800000000000001)"
      ]
     },
     "execution_count": 33,
     "metadata": {},
     "output_type": "execute_result"
    }
   ],
   "source": [
    "sys.generate('adiabatic','K', 0, 2, 500, 20)"
   ]
  },
  {
   "cell_type": "code",
   "execution_count": 34,
   "metadata": {},
   "outputs": [],
   "source": [
    "sys=system(-0.075, 5, 'ad_exp', 4)"
   ]
  },
  {
   "cell_type": "code",
   "execution_count": 35,
   "metadata": {},
   "outputs": [
    {
     "data": {
      "text/plain": [
       "(0.9985142334532595, 13.787999999999998)"
      ]
     },
     "execution_count": 35,
     "metadata": {},
     "output_type": "execute_result"
    }
   ],
   "source": [
    "sys.generate('adiabatic','0.1K', 0, 18, 500, 20)"
   ]
  },
  {
   "cell_type": "code",
   "execution_count": 36,
   "metadata": {},
   "outputs": [],
   "source": [
    "sys=system(75, 5, 'ad_exp', 4)"
   ]
  },
  {
   "cell_type": "code",
   "execution_count": 37,
   "metadata": {},
   "outputs": [
    {
     "data": {
      "text/plain": [
       "(0.9982953398900526, 0.014)"
      ]
     },
     "execution_count": 37,
     "metadata": {},
     "output_type": "execute_result"
    }
   ],
   "source": [
    "sys.generate('adiabatic','100K', 0, 0.1, 500, 20)"
   ]
  },
  {
   "cell_type": "code",
   "execution_count": null,
   "metadata": {},
   "outputs": [],
   "source": []
  },
  {
   "cell_type": "code",
   "execution_count": null,
   "metadata": {},
   "outputs": [],
   "source": []
  },
  {
   "cell_type": "code",
   "execution_count": null,
   "metadata": {},
   "outputs": [],
   "source": []
  },
  {
   "cell_type": "code",
   "execution_count": null,
   "metadata": {},
   "outputs": [],
   "source": []
  }
 ],
 "metadata": {
  "kernelspec": {
   "display_name": "qutip",
   "language": "python",
   "name": "python3"
  },
  "language_info": {
   "codemirror_mode": {
    "name": "ipython",
    "version": 3
   },
   "file_extension": ".py",
   "mimetype": "text/x-python",
   "name": "python",
   "nbconvert_exporter": "python",
   "pygments_lexer": "ipython3",
   "version": "3.9.12"
  },
  "orig_nbformat": 4,
  "vscode": {
   "interpreter": {
    "hash": "7a589a19ec3db10b92f36ace0ea9ad5e5e5cf2b41d1bfa5969087b22bf53177d"
   }
  }
 },
 "nbformat": 4,
 "nbformat_minor": 2
}
