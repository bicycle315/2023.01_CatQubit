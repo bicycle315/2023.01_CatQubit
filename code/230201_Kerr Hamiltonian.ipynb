{
 "cells": [
  {
   "cell_type": "code",
   "execution_count": 1,
   "metadata": {},
   "outputs": [
    {
     "data": {
      "text/plain": [
       "'c:\\\\Users\\\\kimje\\\\Desktop\\\\Project\\\\Posco\\\\Cat\\\\code'"
      ]
     },
     "execution_count": 1,
     "metadata": {},
     "output_type": "execute_result"
    }
   ],
   "source": [
    "import os\n",
    "os.getcwd()"
   ]
  },
  {
   "cell_type": "code",
   "execution_count": 2,
   "metadata": {},
   "outputs": [],
   "source": [
    "from qutip import *\n",
    "from numpy import *\n",
    "import matplotlib as mpl\n",
    "import matplotlib.pyplot as plt\n",
    "from matplotlib import animation"
   ]
  },
  {
   "cell_type": "code",
   "execution_count": 3,
   "metadata": {},
   "outputs": [],
   "source": [
    "def plot_wigner(rho, fig=None, ax=None):\n",
    "    if fig is None or ax is None:\n",
    "        fig, ax=plt.subplots(1,1,figsize=(8,8))\n",
    "    if isket(rho):\n",
    "        rho=ket2dm(rho)\n",
    "    xvec=linspace(-7.5, 7.5, 200)\n",
    "\n",
    "    W=wigner(rho,xvec,xvec)\n",
    "    wlim=abs(W).max()\n",
    "\n",
    "    ax.contourf(xvec, xvec, W, 100, norm=mpl.colors.Normalize(-wlim,wlim), cmap=mpl.cm.get_cmap('RdBu'))\n",
    "    ax.set_xlabel(r'x1', fontsize=16)\n",
    "    ax.set_ylabel(r'x2', fontsize=16)\n",
    "    return fig, ax\n"
   ]
  },
  {
   "cell_type": "code",
   "execution_count": 4,
   "metadata": {},
   "outputs": [],
   "source": [
    "N=15\n",
    "a=destroy(N)\n",
    "psi0=coherent(N,sqrt(4.8))\n",
    "zero=basis(N,0)\n",
    "chi=-0.75*2*pi\n",
    "Ep=3.7*2*pi\n",
    "tlist=linspace(0, 26.67, 501)\n",
    "tlist2=linspace(0, 50, 1001)\n",
    "H=chi*a.dag()*a.dag()*a*a+Ep*(a.dag()*a.dag()+a*a)\n"
   ]
  },
  {
   "cell_type": "code",
   "execution_count": 15,
   "metadata": {},
   "outputs": [
    {
     "data": {
      "text/plain": [
       "'N=15,alpha=2.2,t=(0,50,500).mp4'"
      ]
     },
     "execution_count": 15,
     "metadata": {},
     "output_type": "execute_result"
    }
   ],
   "source": [
    "N=15\n",
    "alpha=sqrt(4.8)\n",
    "start=0\n",
    "stop=50\n",
    "num=500\n",
    "a=f\"N={N},alpha={round(alpha,1)},t=({start},{stop},{num}).mp4\"\n",
    "a"
   ]
  },
  {
   "cell_type": "code",
   "execution_count": 24,
   "metadata": {},
   "outputs": [],
   "source": [
    "def solve(H, N, alpha, start, stop, num, speed):\n",
    "    psi=coherent(N, alpha)\n",
    "    tlist=linspace(start, stop, num)\n",
    "    n=len(tlist)\n",
    "    result=mesolve(H, psi, tlist, [], [])\n",
    "    fig, ax= plt.subplots(1,1,figsize=(8,8))\n",
    "    def update(frame):\n",
    "        plot_wigner(result.states[frame*speed], fig=fig, ax=ax)\n",
    "    ani=animation.FuncAnimation(fig, update, frames=int(n/speed))\n",
    "    FFwriter=animation.FFMpegWriter()\n",
    "    name=f\"N={N},alpha={round(alpha,1)},t=({start},{stop},{num}).mp4\"\n",
    "    file_name=f\"C:/Users/kimje/Desktop/Project/Posco/Cat/animation/{name}.mp4\"\n",
    "    ani.save(file_name, writer=FFwriter)\n",
    "    plt.close()\n",
    "    # ani.save(name , writer=FFwriter)"
   ]
  },
  {
   "cell_type": "code",
   "execution_count": 25,
   "metadata": {},
   "outputs": [],
   "source": [
    "solve(H, 15, sqrt(4.8),0,50,500 ,50)"
   ]
  },
  {
   "cell_type": "code",
   "execution_count": null,
   "metadata": {},
   "outputs": [],
   "source": []
  }
 ],
 "metadata": {
  "kernelspec": {
   "display_name": "qutip",
   "language": "python",
   "name": "python3"
  },
  "language_info": {
   "codemirror_mode": {
    "name": "ipython",
    "version": 3
   },
   "file_extension": ".py",
   "mimetype": "text/x-python",
   "name": "python",
   "nbconvert_exporter": "python",
   "pygments_lexer": "ipython3",
   "version": "3.9.12"
  },
  "orig_nbformat": 4,
  "vscode": {
   "interpreter": {
    "hash": "7a589a19ec3db10b92f36ace0ea9ad5e5e5cf2b41d1bfa5969087b22bf53177d"
   }
  }
 },
 "nbformat": 4,
 "nbformat_minor": 2
}
