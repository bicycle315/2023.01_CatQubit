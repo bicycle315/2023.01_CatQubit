{
 "cells": [
  {
   "cell_type": "code",
   "execution_count": 1,
   "metadata": {},
   "outputs": [],
   "source": [
    "from datetime import date\n",
    "from qutip import *\n",
    "from numpy import *\n",
    "import matplotlib as mpl\n",
    "import matplotlib.pyplot as plt\n",
    "from matplotlib import animation"
   ]
  },
  {
   "cell_type": "code",
   "execution_count": 2,
   "metadata": {},
   "outputs": [],
   "source": [
    "def plot_wigner(rho, fig=None, ax=None):\n",
    "    if fig is None or ax is None:\n",
    "        fig, ax=plt.subplots(1,1,figsize=(8,8))\n",
    "    if isket(rho):\n",
    "        rho=ket2dm(rho)\n",
    "    xvec=linspace(-7.5, 7.5, 200)\n",
    "    W=wigner(rho,xvec,xvec)\n",
    "    wlim=abs(W).max()\n",
    "    ax.contourf(xvec, xvec, W, 100, norm=mpl.colors.Normalize(-wlim,wlim), cmap=mpl.cm.get_cmap('RdBu'))\n",
    "    ax.set_xlabel(r'x1', fontsize=16)\n",
    "    ax.set_ylabel(r'x2', fontsize=16)\n",
    "    return fig, ax"
   ]
  },
  {
   "cell_type": "code",
   "execution_count": 134,
   "metadata": {},
   "outputs": [],
   "source": [
    "class system:\n",
    "    def __init__(self, chi, tau_speed, ramp, catsize, start, stop, num):\n",
    "        self.purechi=chi\n",
    "        self.chi=chi*(2)*pi\n",
    "        self.ramp=ramp\n",
    "        self.catsize=catsize\n",
    "        self.tau_speed=tau_speed\n",
    "        self.tau=self.tau_speed/self.chi #puri=5, frattini=2.14\n",
    "        self.start=start\n",
    "        self.stop=stop\n",
    "        self.num=num\n",
    "        self.tlist=linspace(self.start, self.stop, self.num)\n",
    "        self.N=15\n",
    "        self.x=[]\n",
    "        self.y=[]\n",
    "        self.z=[]\n",
    "        self.fid=[]\n",
    "        self.t=[]\n",
    "        self.a=destroy(self.N)\n",
    "        self.ad=self.a.dag()\n",
    "        self.H0=self.ad*self.ad*self.a*self.a\n",
    "        self.Hdet=self.ad*self.a\n",
    "        self.Hx=self.ad*self.ad+self.a*self.a\n",
    "        self.Hy=self.ad*self.ad-self.a*self.a\n",
    "        self.zero=basis(self.N, 0)\n",
    "        self.one=basis(self.N, 1)\n",
    "        self.N_plus=(1/(sqrt(2*(1+(exp((-2)*self.catsize))))))\n",
    "        self.zero=coherent(self.N, 0)\n",
    "        self.P0=self.catsize*self.chi\n",
    "        self.expectedcat=self.N_plus*(coherent(self.N, sqrt(self.catsize))+coherent(self.N, -sqrt(self.catsize)))\n",
    "    def Epx(self, t, args):\n",
    "        if self.ramp == 'ad_exp':\n",
    "            return self.P0 *(1-exp((-(t)**4)/(self.tau**4)))\n",
    "        elif self.ramp == 'ad_tanh':\n",
    "            return self.P0*tanh(4*(t/self.tau))\n",
    "        elif self.ramp == 'lin':\n",
    "            if t<self.tau:\n",
    "                return self.P0*(t/self.tau) \n",
    "            if t>=self.tau :\n",
    "                return self.P0\n",
    "        elif self.ramp =='inst':\n",
    "            return self.P0   \n",
    "    def det(self, t, args):\n",
    "        return (-1.7)*(self.chi)*(1-(t/self.tau))     \n",
    "    def Epy(self, t,args):\n",
    "        Ep= self.P0*self.chi*(1-exp((-(t)**4)/(self.tau**4)))\n",
    "        alpha_0=sqrt(Ep/self.chi)\n",
    "        alpha_prime=sqrt(0.5*(1/sqrt(self.catsize*(1-exp((-(t)**4)/(self.tau**4)))))*((-1)*self.catsize*exp((-(t)**4)/(self.tau**4)))*((-4)*(t**3)/(self.tau**4)))\n",
    "        N_m=1/(sqrt(2*(1-exp((-2)*(self.catsize)))))\n",
    "        return (1j*alpha_prime)/((1+2*alpha_0)*(N_m))\n",
    "    def init_fidelity(self, spec,kstart, kstop, knum, vstart, vstop, vnum): \n",
    "        kerr=linspace(kstart, kstop, knum)\n",
    "        tau_speed=linspace(vstart,vstop, vnum)\n",
    "        x=[]\n",
    "        y=[]\n",
    "        fid=[]\n",
    "        for chi in kerr:\n",
    "            for v in tau_speed:\n",
    "                def Epx_k_speed(t, args):\n",
    "                    return (2*pi)*chi*self.catsize*(1-exp((-(t)**4)/((v/(2*pi)*chi)**4)))\n",
    "                result=mesolve([(-1)*(2*pi)*chi*self.H0,[self.Hx, Epx_k_speed]],self.zero, self.tlist, [], [])\n",
    "                f=[]\n",
    "                for i in range(len(self.tlist)):\n",
    "                    f.append(fidelity(self.expectedcat, result.states[i]))\n",
    "                maxfid=max(f)\n",
    "                f.clear()\n",
    "                self.x_chi.append(chi)\n",
    "                self.y_v.append(v)\n",
    "                self.fidelity.append(round(maxfid*100,4))\n",
    "                if maxfid<0.9:\n",
    "                    pass\n",
    "                if maxfid>=0.9:\n",
    "                    x.append(chi)\n",
    "                    y.append(v)\n",
    "                    fid.append(round(maxfid*100,4))\n",
    "        plt.scatter(x,y,c=fid, s=20, cmap=plt.cm.viridis, alpha=1,vmin=90, vmax=100)\n",
    "        #plt.scatter(self.x_chi,self.y_v,c=self.fidelity, s=20, cmap=plt.cm.viridis, alpha=1,vmin=90, vmax=100)\n",
    "        plt.xlabel('kerr(MHz)')\n",
    "        plt.ylabel('ramp speed')\n",
    "        plt.colorbar(label='fidelity(%)')\n",
    "        name=f\"{spec},n={self.catsize},k=({kstart},{kstop},{knum}),v=({vstart},{vstop},{vnum})\"\n",
    "        file_name=f\"C:/Users/kimje/Desktop/Project/Posco/Cat/data/fidelity/230214/{name}.png\"\n",
    "        plt.savefig(file_name, format='png', dpi=100, bbox_inches='tight')\n",
    "        plt.show()\n",
    "    \n",
    "    def init_fidelity_3d_exp_amp(self, spec, kstart, kstop, knum, vstart, vstop, vnum): \n",
    "        kerr=linspace(kstart, kstop, knum)\n",
    "        tau_speed=linspace(vstart,vstop, vnum) # adiabatic cond tau>>1/(Delta_gap=4Kn) =>min v=0.1!(JW setting)\n",
    "        #power=linspace(0,4*self.catsize-2, round(4*self.catsize)-2)\n",
    "        power=[4,5,6]\n",
    "        for chi in kerr:\n",
    "            for v in tau_speed:\n",
    "                for p in power :\n",
    "                    def Epx_k_v(t, args):\n",
    "                        return (2*pi)*chi*p*(1-exp((-(t)**4)/((v/(2*pi)*chi)**4)))\n",
    "                    result=mesolve([(-1)*(2*pi)*chi*self.H0,[self.Hx, Epx_k_v]],self.zero, self.tlist, [], [])\n",
    "                                \n",
    "                    f=[]\n",
    "                    for i in range(len(self.tlist)):\n",
    "                        f.append(fidelity(self.expectedcat, result.states[i]))\n",
    "                    maxfid=max(f)\n",
    "                    if maxfid<0.9:\n",
    "                        pass\n",
    "                    if maxfid>=0.9:\n",
    "                        self.x.append(chi)\n",
    "                        self.y.append(v)\n",
    "                        self.z.append(p)\n",
    "                        self.fid.append(round(maxfid*100,2))\n",
    "                        self.t.append(round(((self.stop-self.start)/self.num)*(f.index(maxfid)+1),2))\n",
    "                    f.clear()\n",
    "        fig=plt.figure(figsize=(8,8))\n",
    "        ax=fig.add_subplot(111,projection='3d')\n",
    "        scatter=ax.scatter(self.x,self.y,self.z, c=self.fid, marker='o', s=15, cmap='Greys',vmin=90,vmax=100)\n",
    "        ax.set_xlabel('kerr(MHz)')\n",
    "        ax.set_ylabel('ramp speed')\n",
    "        ax.set_zlabel('MaxDrvAmp')\n",
    "        plt.colorbar(scatter,shrink=0.6, location='bottom').set_label('Fidelity(%)')\n",
    "        name=f\"{spec},n={self.catsize},k=({kstart},{kstop},{knum}),v=({vstart},{vstop},{vnum})\"\n",
    "        file_name=f\"C:/Users/kimje/Desktop/Project/Posco/Cat/data/fidelity/230217/{name}.png\"\n",
    "        plt.savefig(file_name, format='png', dpi=100, bbox_inches='tight')\n",
    "        plt.show()\n",
    "    def init_fidelity_3d_exp(self, spec, kstart, kstop, knum, vstart, vstop, vnum): \n",
    "        kerr=linspace(kstart, kstop, knum)\n",
    "        tau_speed=linspace(vstart,vstop, vnum) # adiabatic cond tau>>1/(Delta_gap=4Kn) =>min v=0.2!(JW setting) (n=2, v>0.12)\n",
    "        x=[]\n",
    "        y=[]\n",
    "        fid=[]\n",
    "        t=[]\n",
    "        for chi in kerr:\n",
    "            for v in tau_speed:\n",
    "                def Epx_k_v(t, args):\n",
    "                    return (2*pi)*chi*self.catsize*(1-exp((-(t)**4)/((v/(2*pi)*chi)**4)))\n",
    "                result=mesolve([(-1)*(2*pi)*chi*self.H0,[self.Hx, Epx_k_v]],self.zero, self.tlist, [], [])\n",
    "                              \n",
    "                f=[]\n",
    "                for i in range(len(self.tlist)):\n",
    "                    f.append(fidelity(self.expectedcat, result.states[i]))\n",
    "                maxfid=max(f)\n",
    "                if maxfid<0.9:\n",
    "                    pass\n",
    "                if maxfid>=0.9:\n",
    "                    x.append(chi)\n",
    "                    y.append(v)\n",
    "                    fid.append(round(maxfid*100,2))\n",
    "                    t.append(round(((self.stop-self.start)/self.num)*(f.index(maxfid)+1),2))\n",
    "                f.clear()\n",
    "        fig=plt.figure(figsize=(8,8))\n",
    "        norm=mpl.colors.Normalize(vmin=90, vmax=100)\n",
    "        ax=fig.add_subplot(111,projection='3d')\n",
    "        ax.scatter(x,y,t, c=fid,marker='o', s=15, cmap='Greys')\n",
    "        ax.set_xlabel('kerr(MHz)')\n",
    "        ax.set_ylabel('ramp speed')\n",
    "        ax.set_zlabel('taken_time')\n",
    "        fig.colorbar(plt.cm.ScalarMappable(norm=norm,cmap='Greys'),ax=ax, shrink=0.5)\n",
    "        name=f\"{spec},n={self.catsize},k=({kstart},{kstop},{knum}),v=({vstart},{vstop},{vnum})\"\n",
    "        file_name=f\"C:/Users/kimje/Desktop/Project/Posco/Cat/data/fidelity/230217/{name}.png\"\n",
    "        plt.savefig(file_name, format='png', dpi=100, bbox_inches='tight')\n",
    "        plt.show()\n",
    "    def init_fidelity_3d_lin(self, spec, kstart, kstop, knum, vstart, vstop, vnum): \n",
    "        kerr=linspace(kstart, kstop, knum)\n",
    "        tau_speed=linspace(vstart,vstop, vnum) # adiabatic cond tau>>1/(Delta_gap=4Kn) =>min v=0.1!(JW setting)\n",
    "        x=[]\n",
    "        y=[]\n",
    "        fid=[]\n",
    "        t=[]\n",
    "        for chi in kerr:\n",
    "            for v in tau_speed:\n",
    "                def Epx_k_v(t, args):\n",
    "                        if t<(v/(2*pi*chi)):\n",
    "                            return self.catsize*2*pi*chi*(t/(v/(2*pi*chi))) \n",
    "                        if t>=(v/(2*pi*chi)) :\n",
    "                            return self.catsize*2*pi*chi\n",
    "                    #return (2*pi)*chi*self.catsize*(1-exp((-(t)**4)/((v/(2*pi)*chi)**4)))\n",
    "                result=mesolve([(-1)*(2*pi)*chi*self.H0,[self.Hx, Epx_k_v]],self.zero, self.tlist, [], [])\n",
    "                              \n",
    "                f=[]\n",
    "                for i in range(len(self.tlist)):\n",
    "                    f.append(fidelity(self.expectedcat, result.states[i]))\n",
    "                maxfid=max(f)\n",
    "                self.x_chi.append(chi)\n",
    "                self.y_v.append(v)\n",
    "                self.fidelity.append(round(maxfid*100,2))\n",
    "                if maxfid<0.9:\n",
    "                    pass\n",
    "                if maxfid>=0.9:\n",
    "                    x.append(chi)\n",
    "                    y.append(v)\n",
    "                    fid.append(round(maxfid*100,2))\n",
    "                    t.append(round(((self.stop-self.start)/self.num)*(f.index(maxfid)+1),2))\n",
    "                f.clear()\n",
    "        fig=plt.figure(figsize=(8,8))\n",
    "        norm=mpl.colors.Normalize(vmin=90, vmax=100)\n",
    "        ax=fig.add_subplot(111,projection='3d')\n",
    "        ax.scatter(x,y,t, c=fid,marker='o', s=15, cmap='Greys')\n",
    "        ax.set_xlabel('kerr(MHz)')\n",
    "        ax.set_ylabel('ramp speed')\n",
    "        ax.set_zlabel('taken_time')\n",
    "        fig.colorbar(plt.cm.ScalarMappable(norm=norm,cmap='Greys'),ax=ax, shrink=0.5)\n",
    "        name=f\"{spec},n={self.catsize},k=({kstart},{kstop},{knum}),v=({vstart},{vstop},{vnum})\"\n",
    "        file_name=f\"C:/Users/kimje/Desktop/Project/Posco/Cat/data/fidelity/230217/{name}.png\"\n",
    "        plt.savefig(file_name, format='png', dpi=100, bbox_inches='tight')\n",
    "        plt.show()\n",
    "    def init_fidelity_3d_det(self, spec, kstart, kstop, knum, vstart, vstop, vnum): \n",
    "        kerr=linspace(kstart, kstop, knum)\n",
    "        tau_speed=linspace(vstart,vstop, vnum) # adiabatic cond tau>>1/(Delta_gap=4Kn) =>min v=0.1!(JW setting)\n",
    "        x=[]\n",
    "        y=[]\n",
    "        fid=[]\n",
    "        t=[]\n",
    "        for chi in kerr:\n",
    "            for v in tau_speed:\n",
    "                def Epx_k_v(t, args):\n",
    "                        if t<(v/(2*pi*chi)):\n",
    "                            return self.catsize*2*pi*chi*(t/(v/(2*pi*chi))) \n",
    "                        if t>=(v/(2*pi*chi)) :\n",
    "                            return self.catsize*2*pi*chi\n",
    "                def detuning(t, args):\n",
    "                        return (-1.7)*(2*pi*chi)*(1-(t/(v/(2*pi*chi))))\n",
    "                    \n",
    "                result=mesolve([(-1)*(2*pi)*chi*self.H0,[self.Hx, Epx_k_v],[self.Hdet, detuning]],self.zero, self.tlist, [], [])\n",
    "                              \n",
    "                f=[]\n",
    "                for i in range(len(self.tlist)):\n",
    "                    f.append(fidelity(self.expectedcat, result.states[i]))\n",
    "                maxfid=max(f)\n",
    "                self.x_chi.append(chi)\n",
    "                self.y_v.append(v)\n",
    "                self.fidelity.append(round(maxfid*100,2))\n",
    "                if maxfid<0.9:\n",
    "                    pass\n",
    "                if maxfid>=0.9:\n",
    "                    x.append(chi)\n",
    "                    y.append(v)\n",
    "                    fid.append(round(maxfid*100,2))\n",
    "                    t.append(round(((self.stop-self.start)/self.num)*(f.index(maxfid)+1),2))\n",
    "                f.clear()\n",
    "        fig=plt.figure(figsize=(8,8))\n",
    "        norm=mpl.colors.Normalize(vmin=90, vmax=100)\n",
    "        ax=fig.add_subplot(111,projection='3d')\n",
    "        ax.scatter(x,y,t, c=fid,marker='o', s=15, cmap='Greys')\n",
    "        ax.set_xlabel('kerr(MHz)')\n",
    "        ax.set_ylabel('ramp speed')\n",
    "        ax.set_zlabel('taken_time')\n",
    "        fig.colorbar(plt.cm.ScalarMappable(norm=norm,cmap='Greys'),ax=ax, shrink=0.5)\n",
    "        name=f\"{spec},n={self.catsize},k=({kstart},{kstop},{knum}),v=({vstart},{vstop},{vnum})\"\n",
    "        file_name=f\"C:/Users/kimje/Desktop/Project/Posco/Cat/data/fidelity/230217/{name}.png\"\n",
    "        plt.savefig(file_name, format='png', dpi=100, bbox_inches='tight')\n",
    "        plt.show()\n",
    "    def generate(self, H, spec, speed):\n",
    "        n=len(self.tlist)\n",
    "        if H=='x':\n",
    "            H=[(-1)*self.chi*self.H0,[self.Hx, self.Epx]]\n",
    "        elif H=='x,y':\n",
    "            H=[(-1)*self.chi*self.H0,[self.Hx, self.Epx],[self.Hy, self.Epy]]\n",
    "        elif H=='x,det':\n",
    "            H=[(-1)*self.chi*self.H0,[self.Hx, self.Epx],[self.Hdet, self.det]]\n",
    "        result=mesolve(H, self.zero, self.tlist, [], [])        \n",
    "        # fidelity, time\n",
    "        f=[]\n",
    "        for i in range(n):\n",
    "            f.append(fidelity(self.expectedcat, result.states[i]))\n",
    "        maxfid=max(f)\n",
    "        maxfid_idx=f.index(maxfid)\n",
    "        time_taken=((self.stop-self.start)/self.num)*(maxfid_idx+1)\n",
    "        # animation\n",
    "        fig, ax= plt.subplots(1,1,figsize=(8,8))\n",
    "        def update(frame):\n",
    "            plot_wigner(result.states[frame*speed], fig=fig, ax=ax)\n",
    "        ani=animation.FuncAnimation(fig, update, frames=int(n/speed))\n",
    "        FFwriter=animation.FFMpegWriter()\n",
    "        name=f\"n={self.catsize},{spec},{self.ramp},{self.tau_speed},F={round(maxfid*100,4)},time={round(time_taken,3)}us,chi={self.purechi},v={self.tau_speed},t=({self.start},{self.stop},{self.num}).mp4\"\n",
    "        file_name=f\"C:/Users/kimje/Desktop/Project/Posco/Cat/animation/230217/{name}.mp4\"\n",
    "        ani.save(file_name, writer=FFwriter)\n",
    "        plt.close()\n",
    "        return maxfid, time_taken"
   ]
  },
  {
   "attachments": {},
   "cell_type": "markdown",
   "metadata": {},
   "source": [
    "### init_fidelity only detuning not working -> abandon det, only optimizing drive pump"
   ]
  },
  {
   "cell_type": "code",
   "execution_count": null,
   "metadata": {},
   "outputs": [],
   "source": [
    "# 왜amp 까지 하면 잘 안찍히는지 찾아내기\n"
   ]
  },
  {
   "cell_type": "code",
   "execution_count": 135,
   "metadata": {},
   "outputs": [],
   "source": [
    "ref=system(chi=0.75, tau_speed=5, ramp='ad_exp', catsize=4, start=0, stop=2,num=2000)\n"
   ]
  },
  {
   "cell_type": "code",
   "execution_count": 136,
   "metadata": {},
   "outputs": [
    {
     "data": {
      "text/plain": [
       "[]"
      ]
     },
     "execution_count": 136,
     "metadata": {},
     "output_type": "execute_result"
    }
   ],
   "source": [
    "ref.z"
   ]
  },
  {
   "cell_type": "code",
   "execution_count": 137,
   "metadata": {},
   "outputs": [],
   "source": [
    "ref=system(chi=20, tau_speed=5, ramp='ad_exp', catsize=4, start=0, stop=2,num=2000)\n"
   ]
  },
  {
   "cell_type": "code",
   "execution_count": 128,
   "metadata": {},
   "outputs": [
    {
     "data": {
      "image/png": "[encoded data removed]",
      "text/plain": [
       "<Figure size 576x576 with 2 Axes>"
      ]
     },
     "metadata": {
      "needs_background": "light"
     },
     "output_type": "display_data"
    }
   ],
   "source": [
    "ref.init_fidelity_3d_exp(spec='JWK_exp',\n",
    "kstart=0.75, kstop=80, knum=3,\n",
    "vstart=0.1, vstop=20, vnum=3)"
   ]
  },
  {
   "cell_type": "code",
   "execution_count": 142,
   "metadata": {},
   "outputs": [
    {
     "data": {
      "text/plain": [
       "[0.75, 0.75, 0.75, 40.375, 40.375, 40.375, 80.0, 80.0, 80.0]"
      ]
     },
     "execution_count": 142,
     "metadata": {},
     "output_type": "execute_result"
    }
   ],
   "source": [
    "ref.x"
   ]
  },
  {
   "cell_type": "code",
   "execution_count": 143,
   "metadata": {},
   "outputs": [
    {
     "data": {
      "text/plain": [
       "[10.049999999999999,\n",
       " 10.049999999999999,\n",
       " 10.049999999999999,\n",
       " 0.1,\n",
       " 0.1,\n",
       " 0.1,\n",
       " 0.1,\n",
       " 0.1,\n",
       " 0.1]"
      ]
     },
     "execution_count": 143,
     "metadata": {},
     "output_type": "execute_result"
    }
   ],
   "source": [
    "ref.y # 왜 v찍으면 범위가 20안나옥 0.1로 다시 돌아간건지 코드 검토!"
   ]
  },
  {
   "cell_type": "code",
   "execution_count": 144,
   "metadata": {},
   "outputs": [
    {
     "data": {
      "text/plain": [
       "[4, 5, 6, 4, 5, 6, 4, 5, 6]"
      ]
     },
     "execution_count": 144,
     "metadata": {},
     "output_type": "execute_result"
    }
   ],
   "source": [
    "ref.z"
   ]
  },
  {
   "cell_type": "code",
   "execution_count": 141,
   "metadata": {},
   "outputs": [
    {
     "data": {
      "image/png": "[encoded data removed]",
      "text/plain": [
       "<Figure size 576x576 with 2 Axes>"
      ]
     },
     "metadata": {
      "needs_background": "light"
     },
     "output_type": "display_data"
    }
   ],
   "source": [
    "ref.init_fidelity_3d_exp_amp(spec='JWK_exp_amp',\n",
    "kstart=0.75, kstop=80, knum=3,\n",
    "vstart=0.1, vstop=20, vnum=3)"
   ]
  },
  {
   "cell_type": "code",
   "execution_count": 122,
   "metadata": {},
   "outputs": [
    {
     "data": {
      "image/png": "[encoded data removed]",
      "text/plain": [
       "<Figure size 576x576 with 2 Axes>"
      ]
     },
     "metadata": {
      "needs_background": "light"
     },
     "output_type": "display_data"
    }
   ],
   "source": [
    "ref.init_fidelity_3d_exp_amp(spec='JWK_exp_amp',\n",
    "kstart=0.75, kstop=80, knum=1,\n",
    "vstart=0.1, vstop=20, vnum=1)"
   ]
  },
  {
   "cell_type": "code",
   "execution_count": 61,
   "metadata": {},
   "outputs": [
    {
     "name": "stderr",
     "output_type": "stream",
     "text": [
      "c:\\Users\\kimje\\anaconda3\\envs\\qutip\\lib\\site-packages\\scipy\\integrate\\_ode.py:1013: UserWarning: zvode: Excess work done on this call. (Perhaps wrong MF.)\n",
      "  warnings.warn('{:s}: {:s}'.format(self.__class__.__name__,\n"
     ]
    },
    {
     "ename": "Exception",
     "evalue": "ODE integration error: Try to increase the allowed number of substeps by increasing the nsteps parameter in the Options class.",
     "output_type": "error",
     "traceback": [
      "\u001b[1;31m---------------------------------------------------------------------------\u001b[0m",
      "\u001b[1;31mException\u001b[0m                                 Traceback (most recent call last)",
      "\u001b[1;32mc:\\Users\\kimje\\Desktop\\Project\\Posco\\Cat\\code\\V8_230217_V6,V7 mix.ipynb Cell 6\u001b[0m in \u001b[0;36m<cell line: 1>\u001b[1;34m()\u001b[0m\n\u001b[1;32m----> <a href='vscode-notebook-cell:/c%3A/Users/kimje/Desktop/Project/Posco/Cat/code/V8_230217_V6%2CV7%20mix.ipynb#Y105sZmlsZQ%3D%3D?line=0'>1</a>\u001b[0m ref\u001b[39m.\u001b[39;49mgenerate(H\u001b[39m=\u001b[39;49m\u001b[39m'\u001b[39;49m\u001b[39mx,det\u001b[39;49m\u001b[39m'\u001b[39;49m,spec\u001b[39m=\u001b[39;49m\u001b[39m'\u001b[39;49m\u001b[39mtest\u001b[39;49m\u001b[39m'\u001b[39;49m,speed\u001b[39m=\u001b[39;49m\u001b[39m20\u001b[39;49m)\n",
      "\u001b[1;32mc:\\Users\\kimje\\Desktop\\Project\\Posco\\Cat\\code\\V8_230217_V6,V7 mix.ipynb Cell 6\u001b[0m in \u001b[0;36msystem.generate\u001b[1;34m(self, H, spec, speed)\u001b[0m\n\u001b[0;32m    <a href='vscode-notebook-cell:/c%3A/Users/kimje/Desktop/Project/Posco/Cat/code/V8_230217_V6%2CV7%20mix.ipynb#Y105sZmlsZQ%3D%3D?line=257'>258</a>\u001b[0m \u001b[39melif\u001b[39;00m H\u001b[39m==\u001b[39m\u001b[39m'\u001b[39m\u001b[39mx,det\u001b[39m\u001b[39m'\u001b[39m:\n\u001b[0;32m    <a href='vscode-notebook-cell:/c%3A/Users/kimje/Desktop/Project/Posco/Cat/code/V8_230217_V6%2CV7%20mix.ipynb#Y105sZmlsZQ%3D%3D?line=258'>259</a>\u001b[0m     H\u001b[39m=\u001b[39m[(\u001b[39m-\u001b[39m\u001b[39m1\u001b[39m)\u001b[39m*\u001b[39m\u001b[39mself\u001b[39m\u001b[39m.\u001b[39mchi\u001b[39m*\u001b[39m\u001b[39mself\u001b[39m\u001b[39m.\u001b[39mH0,[\u001b[39mself\u001b[39m\u001b[39m.\u001b[39mHx, \u001b[39mself\u001b[39m\u001b[39m.\u001b[39mEpx],[\u001b[39mself\u001b[39m\u001b[39m.\u001b[39mHdet, \u001b[39mself\u001b[39m\u001b[39m.\u001b[39mdet]]\n\u001b[1;32m--> <a href='vscode-notebook-cell:/c%3A/Users/kimje/Desktop/Project/Posco/Cat/code/V8_230217_V6%2CV7%20mix.ipynb#Y105sZmlsZQ%3D%3D?line=259'>260</a>\u001b[0m result\u001b[39m=\u001b[39mmesolve(H, \u001b[39mself\u001b[39;49m\u001b[39m.\u001b[39;49mzero, \u001b[39mself\u001b[39;49m\u001b[39m.\u001b[39;49mtlist, [], [])        \n\u001b[0;32m    <a href='vscode-notebook-cell:/c%3A/Users/kimje/Desktop/Project/Posco/Cat/code/V8_230217_V6%2CV7%20mix.ipynb#Y105sZmlsZQ%3D%3D?line=260'>261</a>\u001b[0m \u001b[39m# fidelity, time\u001b[39;00m\n\u001b[0;32m    <a href='vscode-notebook-cell:/c%3A/Users/kimje/Desktop/Project/Posco/Cat/code/V8_230217_V6%2CV7%20mix.ipynb#Y105sZmlsZQ%3D%3D?line=261'>262</a>\u001b[0m f\u001b[39m=\u001b[39m[]\n",
      "File \u001b[1;32mc:\\Users\\kimje\\anaconda3\\envs\\qutip\\lib\\site-packages\\qutip\\mesolve.py:217\u001b[0m, in \u001b[0;36mmesolve\u001b[1;34m(H, rho0, tlist, c_ops, e_ops, args, options, progress_bar, _safe_mode)\u001b[0m\n\u001b[0;32m    205\u001b[0m use_mesolve \u001b[39m=\u001b[39m ((c_ops \u001b[39mand\u001b[39;00m \u001b[39mlen\u001b[39m(c_ops) \u001b[39m>\u001b[39m \u001b[39m0\u001b[39m)\n\u001b[0;32m    206\u001b[0m                \u001b[39mor\u001b[39;00m (\u001b[39mnot\u001b[39;00m isket(rho0))\n\u001b[0;32m    207\u001b[0m                \u001b[39mor\u001b[39;00m (\u001b[39misinstance\u001b[39m(H, Qobj) \u001b[39mand\u001b[39;00m issuper(H))\n\u001b[1;32m   (...)\u001b[0m\n\u001b[0;32m    213\u001b[0m                \u001b[39mor\u001b[39;00m (\u001b[39mnot\u001b[39;00m \u001b[39misinstance\u001b[39m(H, (Qobj, QobjEvo)) \u001b[39mand\u001b[39;00m callable(H) \u001b[39mand\u001b[39;00m\n\u001b[0;32m    214\u001b[0m                         options\u001b[39m.\u001b[39mrhs_with_state))\n\u001b[0;32m    216\u001b[0m \u001b[39mif\u001b[39;00m \u001b[39mnot\u001b[39;00m use_mesolve:\n\u001b[1;32m--> 217\u001b[0m     \u001b[39mreturn\u001b[39;00m sesolve(H, rho0, tlist, e_ops\u001b[39m=\u001b[39;49me_ops, args\u001b[39m=\u001b[39;49margs, options\u001b[39m=\u001b[39;49moptions,\n\u001b[0;32m    218\u001b[0m                    progress_bar\u001b[39m=\u001b[39;49mprogress_bar, _safe_mode\u001b[39m=\u001b[39;49m_safe_mode)\n\u001b[0;32m    220\u001b[0m \u001b[39mif\u001b[39;00m isket(rho0):\n\u001b[0;32m    221\u001b[0m     rho0 \u001b[39m=\u001b[39m ket2dm(rho0)\n",
      "File \u001b[1;32mc:\\Users\\kimje\\anaconda3\\envs\\qutip\\lib\\site-packages\\qutip\\sesolve.py:136\u001b[0m, in \u001b[0;36msesolve\u001b[1;34m(H, psi0, tlist, e_ops, args, options, progress_bar, _safe_mode)\u001b[0m\n\u001b[0;32m    133\u001b[0m     v \u001b[39m=\u001b[39m psi0\u001b[39m.\u001b[39mfull()\u001b[39m.\u001b[39mravel(\u001b[39m'\u001b[39m\u001b[39mF\u001b[39m\u001b[39m'\u001b[39m)\n\u001b[0;32m    134\u001b[0m     func(\u001b[39m0.\u001b[39m, v, \u001b[39m*\u001b[39mode_args) \u001b[39m+\u001b[39m v\n\u001b[1;32m--> 136\u001b[0m res \u001b[39m=\u001b[39m _generic_ode_solve(func, ode_args, psi0, tlist, e_ops, options,\n\u001b[0;32m    137\u001b[0m                          progress_bar, dims\u001b[39m=\u001b[39;49mpsi0\u001b[39m.\u001b[39;49mdims)\n\u001b[0;32m    138\u001b[0m \u001b[39mif\u001b[39;00m e_ops_dict:\n\u001b[0;32m    139\u001b[0m     res\u001b[39m.\u001b[39mexpect \u001b[39m=\u001b[39m {e: res\u001b[39m.\u001b[39mexpect[n]\n\u001b[0;32m    140\u001b[0m                   \u001b[39mfor\u001b[39;00m n, e \u001b[39min\u001b[39;00m \u001b[39menumerate\u001b[39m(e_ops_dict\u001b[39m.\u001b[39mkeys())}\n",
      "File \u001b[1;32mc:\\Users\\kimje\\anaconda3\\envs\\qutip\\lib\\site-packages\\qutip\\sesolve.py:329\u001b[0m, in \u001b[0;36m_generic_ode_solve\u001b[1;34m(func, ode_args, psi0, tlist, e_ops, opt, progress_bar, dims)\u001b[0m\n\u001b[0;32m    327\u001b[0m progress_bar\u001b[39m.\u001b[39mupdate(t_idx)\n\u001b[0;32m    328\u001b[0m \u001b[39mif\u001b[39;00m \u001b[39mnot\u001b[39;00m r\u001b[39m.\u001b[39msuccessful():\n\u001b[1;32m--> 329\u001b[0m     \u001b[39mraise\u001b[39;00m \u001b[39mException\u001b[39;00m(\u001b[39m\"\u001b[39m\u001b[39mODE integration error: Try to increase \u001b[39m\u001b[39m\"\u001b[39m\n\u001b[0;32m    330\u001b[0m                     \u001b[39m\"\u001b[39m\u001b[39mthe allowed number of substeps by increasing \u001b[39m\u001b[39m\"\u001b[39m\n\u001b[0;32m    331\u001b[0m                     \u001b[39m\"\u001b[39m\u001b[39mthe nsteps parameter in the Options class.\u001b[39m\u001b[39m\"\u001b[39m)\n\u001b[0;32m    332\u001b[0m \u001b[39m# get the current state / oper data if needed\u001b[39;00m\n\u001b[0;32m    333\u001b[0m \u001b[39mif\u001b[39;00m opt\u001b[39m.\u001b[39mstore_states \u001b[39mor\u001b[39;00m opt\u001b[39m.\u001b[39mnormalize_output \\\n\u001b[0;32m    334\u001b[0m    \u001b[39mor\u001b[39;00m n_expt_op \u001b[39m>\u001b[39m \u001b[39m0\u001b[39m \u001b[39mor\u001b[39;00m expt_callback:\n",
      "\u001b[1;31mException\u001b[0m: ODE integration error: Try to increase the allowed number of substeps by increasing the nsteps parameter in the Options class."
     ]
    }
   ],
   "source": [
    "ref.generate(H='x,det',spec='test',speed=20)"
   ]
  },
  {
   "cell_type": "code",
   "execution_count": 97,
   "metadata": {},
   "outputs": [
    {
     "data": {
      "image/png": "[encoded data removed]",
      "text/plain": [
       "<Figure size 576x576 with 2 Axes>"
      ]
     },
     "metadata": {
      "needs_background": "light"
     },
     "output_type": "display_data"
    }
   ],
   "source": [
    "ref.init_fidelity_3d_exp(spec='JWK_exp',\n",
    "kstart=0.75, kstop=80, knum=4,\n",
    "vstart=0.1, vstop=20, vnum=4)"
   ]
  },
  {
   "cell_type": "code",
   "execution_count": null,
   "metadata": {},
   "outputs": [],
   "source": [
    "ref.generate(H='x,det',spec='test',speed=20)"
   ]
  },
  {
   "cell_type": "code",
   "execution_count": 5,
   "metadata": {},
   "outputs": [
    {
     "data": {
      "text/plain": [
       "(0.998500370278381, 1.3800000000000001)"
      ]
     },
     "execution_count": 5,
     "metadata": {},
     "output_type": "execute_result"
    }
   ],
   "source": [
    "ref.generate(H='x',spec='JW',speed=20)"
   ]
  },
  {
   "cell_type": "code",
   "execution_count": 6,
   "metadata": {},
   "outputs": [
    {
     "data": {
      "text/plain": [
       "(0.9999374194630607, 1.444)"
      ]
     },
     "execution_count": 6,
     "metadata": {},
     "output_type": "execute_result"
    }
   ],
   "source": [
    "ref.generate(H='x,det',spec='JW',speed=20)"
   ]
  },
  {
   "cell_type": "code",
   "execution_count": 25,
   "metadata": {},
   "outputs": [
    {
     "data": {
      "image/png": "[encoded data removed]",
      "text/plain": [
       "<Figure size 432x288 with 2 Axes>"
      ]
     },
     "metadata": {
      "needs_background": "light"
     },
     "output_type": "display_data"
    }
   ],
   "source": [
    "ref.init_fidelity(spec='JW',\n",
    "kstart=0.75, kstop=80, knum=3,\n",
    "vstart=0.1, vstop=20, vnum=3)"
   ]
  },
  {
   "cell_type": "code",
   "execution_count": 84,
   "metadata": {},
   "outputs": [],
   "source": [
    "ref_inst=system(chi=6.7, tau_speed=1.125, ramp='inst', catsize=2.6, start=0, stop=2,num=500)\n"
   ]
  },
  {
   "cell_type": "code",
   "execution_count": 78,
   "metadata": {},
   "outputs": [],
   "source": [
    "ref_tanh=system(chi=6.7, tau_speed=1.125, ramp='ad_tanh', catsize=2.6, start=0, stop=2,num=500)\n"
   ]
  },
  {
   "cell_type": "code",
   "execution_count": 82,
   "metadata": {},
   "outputs": [],
   "source": [
    "ref_lin=system(chi=6.7, tau_speed=1.125, ramp='lin', catsize=2.6, start=0, stop=2,num=500)\n"
   ]
  },
  {
   "cell_type": "code",
   "execution_count": 70,
   "metadata": {},
   "outputs": [],
   "source": [
    "det=system(chi=6.7, tau_speed=1.125, ramp='lin', catsize=2.6, start=0, stop=2,num=500)\n"
   ]
  },
  {
   "cell_type": "code",
   "execution_count": 85,
   "metadata": {},
   "outputs": [
    {
     "data": {
      "text/plain": [
       "(0.38436203474328706, 0.012)"
      ]
     },
     "execution_count": 85,
     "metadata": {},
     "output_type": "execute_result"
    }
   ],
   "source": [
    "ref_inst.generate(H='x',spec='ref_inst_1.125',speed=20)"
   ]
  },
  {
   "cell_type": "code",
   "execution_count": null,
   "metadata": {},
   "outputs": [
    {
     "data": {
      "text/plain": [
       "(0.5327329343455133, 0.02)"
      ]
     },
     "metadata": {},
     "output_type": "display_data"
    }
   ],
   "source": [
    "ref_tanh.generate(H='x',spec='ref_tanh_1.125',speed=20)"
   ]
  },
  {
   "cell_type": "code",
   "execution_count": 71,
   "metadata": {},
   "outputs": [
    {
     "data": {
      "text/plain": [
       "(0.9897998443749221, 1.972)"
      ]
     },
     "execution_count": 71,
     "metadata": {},
     "output_type": "execute_result"
    }
   ],
   "source": [
    "det.generate(H='x,det',spec='det_1.125',speed=20)"
   ]
  },
  {
   "cell_type": "code",
   "execution_count": 83,
   "metadata": {},
   "outputs": [
    {
     "data": {
      "text/plain": [
       "(0.8269649870030051, 0.032)"
      ]
     },
     "execution_count": 83,
     "metadata": {},
     "output_type": "execute_result"
    }
   ],
   "source": [
    "ref_lin.generate(H='x',spec='ref_lin_1.125',speed=20)"
   ]
  },
  {
   "cell_type": "code",
   "execution_count": 28,
   "metadata": {},
   "outputs": [
    {
     "data": {
      "text/plain": [
       "(0.9994474023327627, 1.932)"
      ]
     },
     "execution_count": 28,
     "metadata": {},
     "output_type": "execute_result"
    }
   ],
   "source": [
    "sys.generate(H='x,det',spec='ref_Hx,det',speed=20)"
   ]
  },
  {
   "cell_type": "code",
   "execution_count": 18,
   "metadata": {},
   "outputs": [],
   "source": [
    "det=system(chi=0.75, tau_speed=2, ramp='lin', catsize=4, start=0, stop=2,num=500)\n"
   ]
  },
  {
   "cell_type": "code",
   "execution_count": 19,
   "metadata": {},
   "outputs": [
    {
     "data": {
      "text/plain": [
       "(0.9099304777219263, 0.252)"
      ]
     },
     "execution_count": 19,
     "metadata": {},
     "output_type": "execute_result"
    }
   ],
   "source": [
    "det.generate(H='adiabatic',spec='wo_d',speed=20)"
   ]
  },
  {
   "cell_type": "code",
   "execution_count": 20,
   "metadata": {},
   "outputs": [
    {
     "data": {
      "text/plain": [
       "(0.9671376285120935, 1.944)"
      ]
     },
     "execution_count": 20,
     "metadata": {},
     "output_type": "execute_result"
    }
   ],
   "source": [
    "det.generate(H='drv+det',spec='w_d',speed=20)"
   ]
  },
  {
   "cell_type": "code",
   "execution_count": 11,
   "metadata": {},
   "outputs": [],
   "source": [
    "sys2=system(chi=0.75, tau_speed=1, ramp='ad_exp', catsize=4, start=0.01, stop=2,num=500)\n"
   ]
  },
  {
   "cell_type": "code",
   "execution_count": 12,
   "metadata": {},
   "outputs": [
    {
     "name": "stderr",
     "output_type": "stream",
     "text": [
      "C:\\Users\\kimje\\AppData\\Local\\Temp\\ipykernel_25880\\1229571872.py:47: RuntimeWarning: divide by zero encountered in double_scalars\n",
      "  alpha_prime=sqrt(0.5*(1/sqrt(self.catsize*(1-exp((-(t)**4)/(self.tau**4)))))*((-1)*self.catsize*exp((-(t)**4)/(self.tau**4)))*((-4)*(t**3)/(self.tau**4)))\n",
      "C:\\Users\\kimje\\AppData\\Local\\Temp\\ipykernel_25880\\1229571872.py:47: RuntimeWarning: invalid value encountered in double_scalars\n",
      "  alpha_prime=sqrt(0.5*(1/sqrt(self.catsize*(1-exp((-(t)**4)/(self.tau**4)))))*((-1)*self.catsize*exp((-(t)**4)/(self.tau**4)))*((-4)*(t**3)/(self.tau**4)))\n"
     ]
    },
    {
     "data": {
      "text/plain": [
       "(0.7730910708615085, 0.25472)"
      ]
     },
     "execution_count": 12,
     "metadata": {},
     "output_type": "execute_result"
    }
   ],
   "source": [
    "sys2.generate(H='nonadiabatic',spec='x,y',speed=20)"
   ]
  },
  {
   "cell_type": "code",
   "execution_count": 4,
   "metadata": {},
   "outputs": [],
   "source": [
    "sys2=system(chi=0.75, tau_speed=1, ramp='ad_exp', ham='x,y', catsize=4, start=0, stop=2,num=500)\n"
   ]
  },
  {
   "cell_type": "code",
   "execution_count": null,
   "metadata": {},
   "outputs": [],
   "source": [
    "sys2.generate(spec='2',speed=20)"
   ]
  },
  {
   "cell_type": "code",
   "execution_count": 69,
   "metadata": {},
   "outputs": [
    {
     "data": {
      "image/png": "[encoded data removed]",
      "text/plain": [
       "<Figure size 432x288 with 2 Axes>"
      ]
     },
     "metadata": {
      "needs_background": "light"
     },
     "output_type": "display_data"
    }
   ],
   "source": [
    "sys.init_fidelity(0.35, 80, 100, 0.01, 20, 100)"
   ]
  },
  {
   "cell_type": "code",
   "execution_count": 109,
   "metadata": {},
   "outputs": [
    {
     "data": {
      "text/plain": [
       "array([1.00000000e-02, 2.11919192e-01, 4.13838384e-01, 6.15757576e-01,\n",
       "       8.17676768e-01, 1.01959596e+00, 1.22151515e+00, 1.42343434e+00,\n",
       "       1.62535354e+00, 1.82727273e+00, 2.02919192e+00, 2.23111111e+00,\n",
       "       2.43303030e+00, 2.63494949e+00, 2.83686869e+00, 3.03878788e+00,\n",
       "       3.24070707e+00, 3.44262626e+00, 3.64454545e+00, 3.84646465e+00,\n",
       "       4.04838384e+00, 4.25030303e+00, 4.45222222e+00, 4.65414141e+00,\n",
       "       4.85606061e+00, 5.05797980e+00, 5.25989899e+00, 5.46181818e+00,\n",
       "       5.66373737e+00, 5.86565657e+00, 6.06757576e+00, 6.26949495e+00,\n",
       "       6.47141414e+00, 6.67333333e+00, 6.87525253e+00, 7.07717172e+00,\n",
       "       7.27909091e+00, 7.48101010e+00, 7.68292929e+00, 7.88484848e+00,\n",
       "       8.08676768e+00, 8.28868687e+00, 8.49060606e+00, 8.69252525e+00,\n",
       "       8.89444444e+00, 9.09636364e+00, 9.29828283e+00, 9.50020202e+00,\n",
       "       9.70212121e+00, 9.90404040e+00, 1.01059596e+01, 1.03078788e+01,\n",
       "       1.05097980e+01, 1.07117172e+01, 1.09136364e+01, 1.11155556e+01,\n",
       "       1.13174747e+01, 1.15193939e+01, 1.17213131e+01, 1.19232323e+01,\n",
       "       1.21251515e+01, 1.23270707e+01, 1.25289899e+01, 1.27309091e+01,\n",
       "       1.29328283e+01, 1.31347475e+01, 1.33366667e+01, 1.35385859e+01,\n",
       "       1.37405051e+01, 1.39424242e+01, 1.41443434e+01, 1.43462626e+01,\n",
       "       1.45481818e+01, 1.47501010e+01, 1.49520202e+01, 1.51539394e+01,\n",
       "       1.53558586e+01, 1.55577778e+01, 1.57596970e+01, 1.59616162e+01,\n",
       "       1.61635354e+01, 1.63654545e+01, 1.65673737e+01, 1.67692929e+01,\n",
       "       1.69712121e+01, 1.71731313e+01, 1.73750505e+01, 1.75769697e+01,\n",
       "       1.77788889e+01, 1.79808081e+01, 1.81827273e+01, 1.83846465e+01,\n",
       "       1.85865657e+01, 1.87884848e+01, 1.89904040e+01, 1.91923232e+01,\n",
       "       1.93942424e+01, 1.95961616e+01, 1.97980808e+01, 2.00000000e+01])"
      ]
     },
     "execution_count": 109,
     "metadata": {},
     "output_type": "execute_result"
    }
   ],
   "source": [
    "linspace(0.01,20,100)"
   ]
  },
  {
   "cell_type": "code",
   "execution_count": 108,
   "metadata": {},
   "outputs": [
    {
     "data": {
      "text/plain": [
       "array([ 0.35      ,  1.15454545,  1.95909091,  2.76363636,  3.56818182,\n",
       "        4.37272727,  5.17727273,  5.98181818,  6.78636364,  7.59090909,\n",
       "        8.39545455,  9.2       , 10.00454545, 10.80909091, 11.61363636,\n",
       "       12.41818182, 13.22272727, 14.02727273, 14.83181818, 15.63636364,\n",
       "       16.44090909, 17.24545455, 18.05      , 18.85454545, 19.65909091,\n",
       "       20.46363636, 21.26818182, 22.07272727, 22.87727273, 23.68181818,\n",
       "       24.48636364, 25.29090909, 26.09545455, 26.9       , 27.70454545,\n",
       "       28.50909091, 29.31363636, 30.11818182, 30.92272727, 31.72727273,\n",
       "       32.53181818, 33.33636364, 34.14090909, 34.94545455, 35.75      ,\n",
       "       36.55454545, 37.35909091, 38.16363636, 38.96818182, 39.77272727,\n",
       "       40.57727273, 41.38181818, 42.18636364, 42.99090909, 43.79545455,\n",
       "       44.6       , 45.40454545, 46.20909091, 47.01363636, 47.81818182,\n",
       "       48.62272727, 49.42727273, 50.23181818, 51.03636364, 51.84090909,\n",
       "       52.64545455, 53.45      , 54.25454545, 55.05909091, 55.86363636,\n",
       "       56.66818182, 57.47272727, 58.27727273, 59.08181818, 59.88636364,\n",
       "       60.69090909, 61.49545455, 62.3       , 63.10454545, 63.90909091,\n",
       "       64.71363636, 65.51818182, 66.32272727, 67.12727273, 67.93181818,\n",
       "       68.73636364, 69.54090909, 70.34545455, 71.15      , 71.95454545,\n",
       "       72.75909091, 73.56363636, 74.36818182, 75.17272727, 75.97727273,\n",
       "       76.78181818, 77.58636364, 78.39090909, 79.19545455, 80.        ])"
      ]
     },
     "execution_count": 108,
     "metadata": {},
     "output_type": "execute_result"
    }
   ],
   "source": [
    "linspace(0.35,80,100)"
   ]
  },
  {
   "cell_type": "code",
   "execution_count": 104,
   "metadata": {},
   "outputs": [
    {
     "data": {
      "text/plain": [
       "[0.35,\n",
       " 0.35,\n",
       " 0.35,\n",
       " 0.35,\n",
       " 0.35,\n",
       " 0.35,\n",
       " 0.35,\n",
       " 0.35,\n",
       " 0.35,\n",
       " 0.35,\n",
       " 0.35,\n",
       " 0.35,\n",
       " 0.35,\n",
       " 0.35,\n",
       " 0.35,\n",
       " 0.35,\n",
       " 0.35,\n",
       " 0.35,\n",
       " 0.35,\n",
       " 0.35,\n",
       " 0.35,\n",
       " 0.35,\n",
       " 0.35,\n",
       " 0.35,\n",
       " 0.35,\n",
       " 0.35,\n",
       " 0.35,\n",
       " 0.35,\n",
       " 0.35,\n",
       " 0.35,\n",
       " 1.1545454545454545,\n",
       " 1.1545454545454545,\n",
       " 1.1545454545454545,\n",
       " 1.1545454545454545,\n",
       " 1.1545454545454545,\n",
       " 1.1545454545454545,\n",
       " 1.1545454545454545,\n",
       " 1.1545454545454545,\n",
       " 1.1545454545454545,\n",
       " 1.1545454545454545,\n",
       " 1.1545454545454545,\n",
       " 1.1545454545454545,\n",
       " 1.1545454545454545,\n",
       " 1.1545454545454545,\n",
       " 1.1545454545454545,\n",
       " 1.1545454545454545,\n",
       " 1.1545454545454545,\n",
       " 1.1545454545454545,\n",
       " 1.1545454545454545,\n",
       " 1.1545454545454545,\n",
       " 1.1545454545454545,\n",
       " 1.1545454545454545,\n",
       " 1.1545454545454545,\n",
       " 1.1545454545454545,\n",
       " 1.1545454545454545,\n",
       " 1.1545454545454545,\n",
       " 1.1545454545454545,\n",
       " 1.1545454545454545,\n",
       " 1.1545454545454545,\n",
       " 1.1545454545454545,\n",
       " 1.1545454545454545,\n",
       " 1.1545454545454545,\n",
       " 1.1545454545454545,\n",
       " 1.1545454545454545,\n",
       " 1.1545454545454545,\n",
       " 1.1545454545454545,\n",
       " 1.1545454545454545,\n",
       " 1.1545454545454545,\n",
       " 1.1545454545454545,\n",
       " 1.1545454545454545,\n",
       " 1.1545454545454545,\n",
       " 1.1545454545454545,\n",
       " 1.1545454545454545,\n",
       " 1.1545454545454545,\n",
       " 1.1545454545454545,\n",
       " 1.1545454545454545,\n",
       " 1.1545454545454545,\n",
       " 1.1545454545454545,\n",
       " 1.1545454545454545,\n",
       " 1.1545454545454545,\n",
       " 1.1545454545454545,\n",
       " 1.1545454545454545,\n",
       " 1.1545454545454545,\n",
       " 1.1545454545454545,\n",
       " 1.1545454545454545,\n",
       " 1.1545454545454545,\n",
       " 1.1545454545454545,\n",
       " 1.1545454545454545,\n",
       " 1.1545454545454545,\n",
       " 1.1545454545454545,\n",
       " 1.1545454545454545,\n",
       " 1.1545454545454545,\n",
       " 1.1545454545454545,\n",
       " 1.1545454545454545,\n",
       " 1.1545454545454545,\n",
       " 1.1545454545454545,\n",
       " 1.1545454545454545,\n",
       " 1.1545454545454545,\n",
       " 1.1545454545454545,\n",
       " 1.1545454545454545,\n",
       " 1.1545454545454545,\n",
       " 1.1545454545454545,\n",
       " 1.1545454545454545,\n",
       " 1.1545454545454545,\n",
       " 1.1545454545454545,\n",
       " 1.1545454545454545,\n",
       " 1.1545454545454545,\n",
       " 1.1545454545454545,\n",
       " 1.1545454545454545,\n",
       " 1.1545454545454545,\n",
       " 1.959090909090909,\n",
       " 1.959090909090909,\n",
       " 1.959090909090909,\n",
       " 1.959090909090909,\n",
       " 1.959090909090909,\n",
       " 1.959090909090909,\n",
       " 1.959090909090909,\n",
       " 1.959090909090909,\n",
       " 1.959090909090909,\n",
       " 1.959090909090909,\n",
       " 1.959090909090909,\n",
       " 1.959090909090909,\n",
       " 1.959090909090909,\n",
       " 1.959090909090909,\n",
       " 1.959090909090909,\n",
       " 1.959090909090909,\n",
       " 1.959090909090909,\n",
       " 1.959090909090909,\n",
       " 1.959090909090909,\n",
       " 1.959090909090909,\n",
       " 1.959090909090909,\n",
       " 1.959090909090909,\n",
       " 1.959090909090909,\n",
       " 1.959090909090909,\n",
       " 1.959090909090909,\n",
       " 1.959090909090909,\n",
       " 1.959090909090909,\n",
       " 1.959090909090909,\n",
       " 1.959090909090909,\n",
       " 1.959090909090909,\n",
       " 1.959090909090909,\n",
       " 1.959090909090909,\n",
       " 1.959090909090909,\n",
       " 1.959090909090909,\n",
       " 1.959090909090909,\n",
       " 1.959090909090909,\n",
       " 1.959090909090909,\n",
       " 1.959090909090909,\n",
       " 1.959090909090909,\n",
       " 1.959090909090909,\n",
       " 1.959090909090909,\n",
       " 1.959090909090909,\n",
       " 1.959090909090909,\n",
       " 1.959090909090909,\n",
       " 1.959090909090909,\n",
       " 1.959090909090909,\n",
       " 1.959090909090909,\n",
       " 1.959090909090909,\n",
       " 2.7636363636363637,\n",
       " 2.7636363636363637,\n",
       " 2.7636363636363637,\n",
       " 2.7636363636363637,\n",
       " 2.7636363636363637,\n",
       " 2.7636363636363637,\n",
       " 2.7636363636363637,\n",
       " 2.7636363636363637,\n",
       " 2.7636363636363637,\n",
       " 2.7636363636363637,\n",
       " 2.7636363636363637,\n",
       " 2.7636363636363637,\n",
       " 2.7636363636363637,\n",
       " 2.7636363636363637,\n",
       " 2.7636363636363637,\n",
       " 2.7636363636363637,\n",
       " 2.7636363636363637,\n",
       " 2.7636363636363637,\n",
       " 2.7636363636363637,\n",
       " 2.7636363636363637,\n",
       " 2.7636363636363637,\n",
       " 2.7636363636363637,\n",
       " 2.7636363636363637,\n",
       " 2.7636363636363637,\n",
       " 2.7636363636363637,\n",
       " 2.7636363636363637,\n",
       " 2.7636363636363637,\n",
       " 2.7636363636363637,\n",
       " 2.7636363636363637,\n",
       " 2.7636363636363637,\n",
       " 2.7636363636363637,\n",
       " 2.7636363636363637,\n",
       " 2.7636363636363637,\n",
       " 2.7636363636363637,\n",
       " 2.7636363636363637,\n",
       " 3.5681818181818183,\n",
       " 3.5681818181818183,\n",
       " 3.5681818181818183,\n",
       " 3.5681818181818183,\n",
       " 3.5681818181818183,\n",
       " 3.5681818181818183,\n",
       " 3.5681818181818183,\n",
       " 3.5681818181818183,\n",
       " 3.5681818181818183,\n",
       " 3.5681818181818183,\n",
       " 3.5681818181818183,\n",
       " 3.5681818181818183,\n",
       " 3.5681818181818183,\n",
       " 3.5681818181818183,\n",
       " 3.5681818181818183,\n",
       " 3.5681818181818183,\n",
       " 3.5681818181818183,\n",
       " 3.5681818181818183,\n",
       " 3.5681818181818183,\n",
       " 3.5681818181818183,\n",
       " 3.5681818181818183,\n",
       " 3.5681818181818183,\n",
       " 3.5681818181818183,\n",
       " 3.5681818181818183,\n",
       " 3.5681818181818183,\n",
       " 3.5681818181818183,\n",
       " 3.5681818181818183,\n",
       " 4.372727272727272,\n",
       " 4.372727272727272,\n",
       " 4.372727272727272,\n",
       " 4.372727272727272,\n",
       " 4.372727272727272,\n",
       " 4.372727272727272,\n",
       " 4.372727272727272,\n",
       " 4.372727272727272,\n",
       " 4.372727272727272,\n",
       " 4.372727272727272,\n",
       " 4.372727272727272,\n",
       " 4.372727272727272,\n",
       " 4.372727272727272,\n",
       " 4.372727272727272,\n",
       " 4.372727272727272,\n",
       " 4.372727272727272,\n",
       " 4.372727272727272,\n",
       " 4.372727272727272,\n",
       " 4.372727272727272,\n",
       " 4.372727272727272,\n",
       " 4.372727272727272,\n",
       " 4.372727272727272,\n",
       " 5.177272727272727,\n",
       " 5.177272727272727,\n",
       " 5.177272727272727,\n",
       " 5.177272727272727,\n",
       " 5.177272727272727,\n",
       " 5.177272727272727,\n",
       " 5.177272727272727,\n",
       " 5.177272727272727,\n",
       " 5.177272727272727,\n",
       " 5.177272727272727,\n",
       " 5.177272727272727,\n",
       " 5.177272727272727,\n",
       " 5.177272727272727,\n",
       " 5.177272727272727,\n",
       " 5.177272727272727,\n",
       " 5.177272727272727,\n",
       " 5.177272727272727,\n",
       " 5.177272727272727,\n",
       " 5.177272727272727,\n",
       " 5.9818181818181815,\n",
       " 5.9818181818181815,\n",
       " 5.9818181818181815,\n",
       " 5.9818181818181815,\n",
       " 5.9818181818181815,\n",
       " 5.9818181818181815,\n",
       " 5.9818181818181815,\n",
       " 5.9818181818181815,\n",
       " 5.9818181818181815,\n",
       " 5.9818181818181815,\n",
       " 5.9818181818181815,\n",
       " 5.9818181818181815,\n",
       " 5.9818181818181815,\n",
       " 5.9818181818181815,\n",
       " 5.9818181818181815,\n",
       " 5.9818181818181815,\n",
       " 6.786363636363636,\n",
       " 6.786363636363636,\n",
       " 6.786363636363636,\n",
       " 6.786363636363636,\n",
       " 6.786363636363636,\n",
       " 6.786363636363636,\n",
       " 6.786363636363636,\n",
       " 6.786363636363636,\n",
       " 6.786363636363636,\n",
       " 6.786363636363636,\n",
       " 6.786363636363636,\n",
       " 6.786363636363636,\n",
       " 6.786363636363636,\n",
       " 6.786363636363636,\n",
       " 7.590909090909091,\n",
       " 7.590909090909091,\n",
       " 7.590909090909091,\n",
       " 7.590909090909091,\n",
       " 7.590909090909091,\n",
       " 7.590909090909091,\n",
       " 7.590909090909091,\n",
       " 7.590909090909091,\n",
       " 7.590909090909091,\n",
       " 7.590909090909091,\n",
       " 7.590909090909091,\n",
       " 7.590909090909091,\n",
       " 7.590909090909091,\n",
       " 8.395454545454545,\n",
       " 8.395454545454545,\n",
       " 8.395454545454545,\n",
       " 8.395454545454545,\n",
       " 8.395454545454545,\n",
       " 8.395454545454545,\n",
       " 8.395454545454545,\n",
       " 8.395454545454545,\n",
       " 8.395454545454545,\n",
       " 8.395454545454545,\n",
       " 8.395454545454545,\n",
       " 9.2,\n",
       " 9.2,\n",
       " 9.2,\n",
       " 9.2,\n",
       " 9.2,\n",
       " 9.2,\n",
       " 9.2,\n",
       " 9.2,\n",
       " 9.2,\n",
       " 9.2,\n",
       " 10.004545454545454,\n",
       " 10.004545454545454,\n",
       " 10.004545454545454,\n",
       " 10.004545454545454,\n",
       " 10.004545454545454,\n",
       " 10.004545454545454,\n",
       " 10.004545454545454,\n",
       " 10.004545454545454,\n",
       " 10.004545454545454,\n",
       " 10.809090909090909,\n",
       " 10.809090909090909,\n",
       " 10.809090909090909,\n",
       " 10.809090909090909,\n",
       " 10.809090909090909,\n",
       " 10.809090909090909,\n",
       " 10.809090909090909,\n",
       " 10.809090909090909,\n",
       " 10.809090909090909,\n",
       " 11.613636363636363,\n",
       " 11.613636363636363,\n",
       " 11.613636363636363,\n",
       " 11.613636363636363,\n",
       " 11.613636363636363,\n",
       " 11.613636363636363,\n",
       " 11.613636363636363,\n",
       " 11.613636363636363,\n",
       " 12.418181818181818,\n",
       " 12.418181818181818,\n",
       " 12.418181818181818,\n",
       " 12.418181818181818,\n",
       " 12.418181818181818,\n",
       " 12.418181818181818,\n",
       " 12.418181818181818,\n",
       " 13.222727272727273,\n",
       " 13.222727272727273,\n",
       " 13.222727272727273,\n",
       " 13.222727272727273,\n",
       " 13.222727272727273,\n",
       " 13.222727272727273,\n",
       " 13.222727272727273,\n",
       " 13.222727272727273,\n",
       " 14.027272727272727,\n",
       " 14.027272727272727,\n",
       " 14.027272727272727,\n",
       " 14.027272727272727,\n",
       " 14.027272727272727,\n",
       " 14.027272727272727,\n",
       " 14.027272727272727,\n",
       " 14.027272727272727,\n",
       " 14.831818181818182,\n",
       " 14.831818181818182,\n",
       " 14.831818181818182,\n",
       " 14.831818181818182,\n",
       " 14.831818181818182,\n",
       " 14.831818181818182,\n",
       " 14.831818181818182,\n",
       " 15.636363636363637,\n",
       " 15.636363636363637,\n",
       " 15.636363636363637,\n",
       " 15.636363636363637,\n",
       " 15.636363636363637,\n",
       " 15.636363636363637,\n",
       " 15.636363636363637,\n",
       " 16.44090909090909,\n",
       " 16.44090909090909,\n",
       " 16.44090909090909,\n",
       " 16.44090909090909,\n",
       " 16.44090909090909,\n",
       " 16.44090909090909,\n",
       " 16.44090909090909,\n",
       " 17.245454545454546,\n",
       " 17.245454545454546,\n",
       " 17.245454545454546,\n",
       " 17.245454545454546,\n",
       " 17.245454545454546,\n",
       " 17.245454545454546,\n",
       " 18.05,\n",
       " 18.05,\n",
       " 18.05,\n",
       " 18.05,\n",
       " 18.05,\n",
       " 18.05,\n",
       " 18.854545454545455,\n",
       " 18.854545454545455,\n",
       " 18.854545454545455,\n",
       " 18.854545454545455,\n",
       " 18.854545454545455,\n",
       " 18.854545454545455,\n",
       " 19.65909090909091,\n",
       " 19.65909090909091,\n",
       " 19.65909090909091,\n",
       " 19.65909090909091,\n",
       " 19.65909090909091,\n",
       " 19.65909090909091,\n",
       " 20.463636363636365,\n",
       " 20.463636363636365,\n",
       " 20.463636363636365,\n",
       " 20.463636363636365,\n",
       " 20.463636363636365,\n",
       " 21.26818181818182,\n",
       " 21.26818181818182,\n",
       " 21.26818181818182,\n",
       " 21.26818181818182,\n",
       " 21.26818181818182,\n",
       " 22.072727272727274,\n",
       " 22.072727272727274,\n",
       " 22.072727272727274,\n",
       " 22.072727272727274,\n",
       " 22.072727272727274,\n",
       " 22.87727272727273,\n",
       " 22.87727272727273,\n",
       " 22.87727272727273,\n",
       " 22.87727272727273,\n",
       " 22.87727272727273,\n",
       " 23.681818181818183,\n",
       " 23.681818181818183,\n",
       " 23.681818181818183,\n",
       " 23.681818181818183,\n",
       " 23.681818181818183,\n",
       " 24.486363636363638,\n",
       " 24.486363636363638,\n",
       " 24.486363636363638,\n",
       " 24.486363636363638,\n",
       " 24.486363636363638,\n",
       " 25.290909090909093,\n",
       " 25.290909090909093,\n",
       " 25.290909090909093,\n",
       " 25.290909090909093,\n",
       " 26.095454545454547,\n",
       " 26.095454545454547,\n",
       " 26.095454545454547,\n",
       " 26.095454545454547,\n",
       " 26.900000000000002,\n",
       " 26.900000000000002,\n",
       " 26.900000000000002,\n",
       " 26.900000000000002,\n",
       " 27.704545454545457,\n",
       " 27.704545454545457,\n",
       " 27.704545454545457,\n",
       " 27.704545454545457,\n",
       " 28.50909090909091,\n",
       " 28.50909090909091,\n",
       " 28.50909090909091,\n",
       " 28.50909090909091,\n",
       " 29.313636363636366,\n",
       " 29.313636363636366,\n",
       " 29.313636363636366,\n",
       " 29.313636363636366,\n",
       " 30.11818181818182,\n",
       " 30.11818181818182,\n",
       " 30.11818181818182,\n",
       " 30.11818181818182,\n",
       " 30.922727272727276,\n",
       " 30.922727272727276,\n",
       " 30.922727272727276,\n",
       " 30.922727272727276,\n",
       " 31.72727272727273,\n",
       " 31.72727272727273,\n",
       " 31.72727272727273,\n",
       " 31.72727272727273,\n",
       " 32.53181818181818,\n",
       " 32.53181818181818,\n",
       " 32.53181818181818,\n",
       " 32.53181818181818,\n",
       " 33.336363636363636,\n",
       " 33.336363636363636,\n",
       " 33.336363636363636,\n",
       " 34.14090909090909,\n",
       " 34.14090909090909,\n",
       " 34.14090909090909,\n",
       " 34.945454545454545,\n",
       " 34.945454545454545,\n",
       " 34.945454545454545,\n",
       " 35.75,\n",
       " 35.75,\n",
       " 35.75,\n",
       " 36.554545454545455,\n",
       " 36.554545454545455,\n",
       " 36.554545454545455,\n",
       " 37.35909090909091,\n",
       " 37.35909090909091,\n",
       " 37.35909090909091,\n",
       " 38.163636363636364,\n",
       " 38.163636363636364,\n",
       " 38.163636363636364,\n",
       " 38.96818181818182,\n",
       " 38.96818181818182,\n",
       " 38.96818181818182,\n",
       " 39.77272727272727,\n",
       " 39.77272727272727,\n",
       " 39.77272727272727,\n",
       " 40.57727272727273,\n",
       " 40.57727272727273,\n",
       " 40.57727272727273,\n",
       " 41.38181818181818,\n",
       " 41.38181818181818,\n",
       " 41.38181818181818,\n",
       " 42.18636363636364,\n",
       " 42.18636363636364,\n",
       " 42.18636363636364,\n",
       " 42.99090909090909,\n",
       " 42.99090909090909,\n",
       " 42.99090909090909,\n",
       " 43.79545454545455,\n",
       " 43.79545454545455,\n",
       " 43.79545454545455,\n",
       " 44.6,\n",
       " 44.6,\n",
       " 44.6,\n",
       " 45.404545454545456,\n",
       " 45.404545454545456,\n",
       " 45.404545454545456,\n",
       " 46.20909090909091,\n",
       " 46.20909090909091,\n",
       " 46.20909090909091,\n",
       " 47.013636363636365,\n",
       " 47.013636363636365,\n",
       " 47.013636363636365,\n",
       " 47.81818181818182,\n",
       " 47.81818181818182,\n",
       " 47.81818181818182,\n",
       " 48.622727272727275,\n",
       " 48.622727272727275,\n",
       " 48.622727272727275,\n",
       " 49.42727272727273,\n",
       " 49.42727272727273,\n",
       " 50.231818181818184,\n",
       " 50.231818181818184,\n",
       " 51.03636363636364,\n",
       " 51.03636363636364,\n",
       " 51.84090909090909,\n",
       " 51.84090909090909,\n",
       " 52.64545454545455,\n",
       " 52.64545454545455,\n",
       " 53.45,\n",
       " 53.45,\n",
       " 54.25454545454546,\n",
       " 54.25454545454546,\n",
       " 55.05909090909091,\n",
       " 55.05909090909091,\n",
       " 55.86363636363637,\n",
       " 55.86363636363637,\n",
       " 56.66818181818182,\n",
       " 56.66818181818182,\n",
       " 57.472727272727276,\n",
       " 57.472727272727276,\n",
       " 58.27727272727273,\n",
       " 58.27727272727273,\n",
       " 59.081818181818186,\n",
       " 59.081818181818186,\n",
       " 59.88636363636364,\n",
       " 59.88636363636364,\n",
       " 60.690909090909095,\n",
       " 60.690909090909095,\n",
       " 61.49545454545455,\n",
       " 61.49545454545455,\n",
       " 62.300000000000004,\n",
       " 62.300000000000004,\n",
       " 63.10454545454546,\n",
       " 63.10454545454546,\n",
       " 63.909090909090914,\n",
       " 63.909090909090914,\n",
       " 64.71363636363635,\n",
       " 64.71363636363635,\n",
       " 65.51818181818182,\n",
       " 65.51818181818182,\n",
       " 66.32272727272726,\n",
       " 66.32272727272726,\n",
       " 67.12727272727273,\n",
       " 67.12727272727273,\n",
       " 67.93181818181817,\n",
       " 67.93181818181817,\n",
       " 68.73636363636363,\n",
       " 68.73636363636363,\n",
       " 69.54090909090908,\n",
       " 69.54090909090908,\n",
       " 70.34545454545454,\n",
       " 70.34545454545454,\n",
       " 71.14999999999999,\n",
       " 71.14999999999999,\n",
       " 71.95454545454545,\n",
       " 71.95454545454545,\n",
       " 72.7590909090909,\n",
       " 72.7590909090909,\n",
       " 73.56363636363636,\n",
       " 73.56363636363636,\n",
       " 74.36818181818181,\n",
       " 74.36818181818181,\n",
       " 75.17272727272727,\n",
       " 75.17272727272727,\n",
       " 75.97727272727272,\n",
       " 75.97727272727272,\n",
       " 76.78181818181818,\n",
       " 76.78181818181818,\n",
       " 77.58636363636363,\n",
       " 77.58636363636363,\n",
       " 78.39090909090909,\n",
       " 78.39090909090909,\n",
       " 79.19545454545454,\n",
       " 79.19545454545454,\n",
       " 80.0,\n",
       " 80.0,\n",
       " 80.0,\n",
       " 80.0,\n",
       " 80.0,\n",
       " 80.0,\n",
       " 80.0,\n",
       " 80.0,\n",
       " 80.0,\n",
       " 80.0]"
      ]
     },
     "execution_count": 104,
     "metadata": {},
     "output_type": "execute_result"
    }
   ],
   "source": [
    "sys.x_chi"
   ]
  },
  {
   "cell_type": "code",
   "execution_count": 105,
   "metadata": {},
   "outputs": [
    {
     "data": {
      "text/plain": [
       "[14.144343434343433,\n",
       " 14.346262626262625,\n",
       " 14.548181818181817,\n",
       " 14.750101010101009,\n",
       " 14.9520202020202,\n",
       " 15.153939393939394,\n",
       " 15.355858585858586,\n",
       " 15.557777777777778,\n",
       " 15.75969696969697,\n",
       " 15.961616161616162,\n",
       " 16.163535353535355,\n",
       " 16.365454545454547,\n",
       " 16.56737373737374,\n",
       " 16.76929292929293,\n",
       " 16.971212121212123,\n",
       " 17.173131313131314,\n",
       " 17.375050505050506,\n",
       " 17.576969696969698,\n",
       " 17.77888888888889,\n",
       " 17.98080808080808,\n",
       " 18.182727272727274,\n",
       " 18.384646464646465,\n",
       " 18.586565656565657,\n",
       " 18.78848484848485,\n",
       " 18.99040404040404,\n",
       " 19.192323232323233,\n",
       " 19.394242424242425,\n",
       " 19.596161616161616,\n",
       " 19.798080808080808,\n",
       " 20.0,\n",
       " 1.4234343434343435,\n",
       " 1.6253535353535353,\n",
       " 1.8272727272727272,\n",
       " 2.029191919191919,\n",
       " 2.231111111111111,\n",
       " 2.4330303030303027,\n",
       " 2.6349494949494945,\n",
       " 2.8368686868686868,\n",
       " 3.0387878787878786,\n",
       " 3.2407070707070704,\n",
       " 3.4426262626262623,\n",
       " 3.644545454545454,\n",
       " 3.8464646464646464,\n",
       " 4.048383838383838,\n",
       " 4.25030303030303,\n",
       " 4.452222222222222,\n",
       " 4.654141414141414,\n",
       " 4.8560606060606055,\n",
       " 5.057979797979797,\n",
       " 5.259898989898989,\n",
       " 5.461818181818182,\n",
       " 5.663737373737374,\n",
       " 5.865656565656566,\n",
       " 6.067575757575757,\n",
       " 6.269494949494949,\n",
       " 6.471414141414141,\n",
       " 6.673333333333333,\n",
       " 6.875252525252525,\n",
       " 7.077171717171717,\n",
       " 7.279090909090908,\n",
       " 7.4810101010101,\n",
       " 7.682929292929293,\n",
       " 7.884848484848485,\n",
       " 8.086767676767677,\n",
       " 8.288686868686868,\n",
       " 8.49060606060606,\n",
       " 8.692525252525252,\n",
       " 8.894444444444444,\n",
       " 9.096363636363636,\n",
       " 9.298282828282828,\n",
       " 9.50020202020202,\n",
       " 9.702121212121211,\n",
       " 9.904040404040403,\n",
       " 10.105959595959595,\n",
       " 10.307878787878787,\n",
       " 10.509797979797979,\n",
       " 10.71171717171717,\n",
       " 10.913636363636364,\n",
       " 11.115555555555556,\n",
       " 11.317474747474748,\n",
       " 11.51939393939394,\n",
       " 11.721313131313131,\n",
       " 11.923232323232323,\n",
       " 12.125151515151515,\n",
       " 12.327070707070707,\n",
       " 12.528989898989899,\n",
       " 12.73090909090909,\n",
       " 12.932828282828282,\n",
       " 13.134747474747474,\n",
       " 13.336666666666666,\n",
       " 13.538585858585858,\n",
       " 13.74050505050505,\n",
       " 13.942424242424241,\n",
       " 14.144343434343433,\n",
       " 14.346262626262625,\n",
       " 14.548181818181817,\n",
       " 14.750101010101009,\n",
       " 14.9520202020202,\n",
       " 15.153939393939394,\n",
       " 15.355858585858586,\n",
       " 15.557777777777778,\n",
       " 15.75969696969697,\n",
       " 15.961616161616162,\n",
       " 16.163535353535355,\n",
       " 16.365454545454547,\n",
       " 16.56737373737374,\n",
       " 16.76929292929293,\n",
       " 16.971212121212123,\n",
       " 17.173131313131314,\n",
       " 17.375050505050506,\n",
       " 0.6157575757575757,\n",
       " 0.8176767676767677,\n",
       " 1.0195959595959596,\n",
       " 1.2215151515151514,\n",
       " 1.4234343434343435,\n",
       " 1.6253535353535353,\n",
       " 1.8272727272727272,\n",
       " 2.029191919191919,\n",
       " 2.231111111111111,\n",
       " 2.4330303030303027,\n",
       " 2.6349494949494945,\n",
       " 2.8368686868686868,\n",
       " 3.0387878787878786,\n",
       " 3.2407070707070704,\n",
       " 3.4426262626262623,\n",
       " 3.644545454545454,\n",
       " 3.8464646464646464,\n",
       " 4.048383838383838,\n",
       " 4.25030303030303,\n",
       " 4.452222222222222,\n",
       " 4.654141414141414,\n",
       " 4.8560606060606055,\n",
       " 5.057979797979797,\n",
       " 5.259898989898989,\n",
       " 5.461818181818182,\n",
       " 5.663737373737374,\n",
       " 5.865656565656566,\n",
       " 6.067575757575757,\n",
       " 6.269494949494949,\n",
       " 6.471414141414141,\n",
       " 6.673333333333333,\n",
       " 6.875252525252525,\n",
       " 7.077171717171717,\n",
       " 7.279090909090908,\n",
       " 7.4810101010101,\n",
       " 7.682929292929293,\n",
       " 7.884848484848485,\n",
       " 8.086767676767677,\n",
       " 8.288686868686868,\n",
       " 8.49060606060606,\n",
       " 8.692525252525252,\n",
       " 8.894444444444444,\n",
       " 9.096363636363636,\n",
       " 9.298282828282828,\n",
       " 9.50020202020202,\n",
       " 9.702121212121211,\n",
       " 9.904040404040403,\n",
       " 10.105959595959595,\n",
       " 0.41383838383838384,\n",
       " 0.6157575757575757,\n",
       " 0.8176767676767677,\n",
       " 1.0195959595959596,\n",
       " 1.2215151515151514,\n",
       " 1.4234343434343435,\n",
       " 1.6253535353535353,\n",
       " 1.8272727272727272,\n",
       " 2.029191919191919,\n",
       " 2.231111111111111,\n",
       " 2.4330303030303027,\n",
       " 2.6349494949494945,\n",
       " 2.8368686868686868,\n",
       " 3.0387878787878786,\n",
       " 3.2407070707070704,\n",
       " 3.4426262626262623,\n",
       " 3.644545454545454,\n",
       " 3.8464646464646464,\n",
       " 4.048383838383838,\n",
       " 4.25030303030303,\n",
       " 4.452222222222222,\n",
       " 4.654141414141414,\n",
       " 4.8560606060606055,\n",
       " 5.057979797979797,\n",
       " 5.259898989898989,\n",
       " 5.461818181818182,\n",
       " 5.663737373737374,\n",
       " 5.865656565656566,\n",
       " 6.067575757575757,\n",
       " 6.269494949494949,\n",
       " 6.471414141414141,\n",
       " 6.673333333333333,\n",
       " 6.875252525252525,\n",
       " 7.077171717171717,\n",
       " 7.279090909090908,\n",
       " 0.21191919191919192,\n",
       " 0.41383838383838384,\n",
       " 0.6157575757575757,\n",
       " 0.8176767676767677,\n",
       " 1.0195959595959596,\n",
       " 1.2215151515151514,\n",
       " 1.4234343434343435,\n",
       " 1.6253535353535353,\n",
       " 1.8272727272727272,\n",
       " 2.029191919191919,\n",
       " 2.231111111111111,\n",
       " 2.4330303030303027,\n",
       " 2.6349494949494945,\n",
       " 2.8368686868686868,\n",
       " 3.0387878787878786,\n",
       " 3.2407070707070704,\n",
       " 3.4426262626262623,\n",
       " 3.644545454545454,\n",
       " 3.8464646464646464,\n",
       " 4.048383838383838,\n",
       " 4.25030303030303,\n",
       " 4.452222222222222,\n",
       " 4.654141414141414,\n",
       " 4.8560606060606055,\n",
       " 5.057979797979797,\n",
       " 5.259898989898989,\n",
       " 5.461818181818182,\n",
       " 0.21191919191919192,\n",
       " 0.41383838383838384,\n",
       " 0.6157575757575757,\n",
       " 0.8176767676767677,\n",
       " 1.0195959595959596,\n",
       " 1.2215151515151514,\n",
       " 1.4234343434343435,\n",
       " 1.6253535353535353,\n",
       " 1.8272727272727272,\n",
       " 2.029191919191919,\n",
       " 2.231111111111111,\n",
       " 2.4330303030303027,\n",
       " 2.6349494949494945,\n",
       " 2.8368686868686868,\n",
       " 3.0387878787878786,\n",
       " 3.2407070707070704,\n",
       " 3.4426262626262623,\n",
       " 3.644545454545454,\n",
       " 3.8464646464646464,\n",
       " 4.048383838383838,\n",
       " 4.25030303030303,\n",
       " 4.452222222222222,\n",
       " 0.21191919191919192,\n",
       " 0.41383838383838384,\n",
       " 0.6157575757575757,\n",
       " 0.8176767676767677,\n",
       " 1.0195959595959596,\n",
       " 1.2215151515151514,\n",
       " 1.4234343434343435,\n",
       " 1.6253535353535353,\n",
       " 1.8272727272727272,\n",
       " 2.029191919191919,\n",
       " 2.231111111111111,\n",
       " 2.4330303030303027,\n",
       " 2.6349494949494945,\n",
       " 2.8368686868686868,\n",
       " 3.0387878787878786,\n",
       " 3.2407070707070704,\n",
       " 3.4426262626262623,\n",
       " 3.644545454545454,\n",
       " 3.8464646464646464,\n",
       " 0.21191919191919192,\n",
       " 0.41383838383838384,\n",
       " 0.6157575757575757,\n",
       " 0.8176767676767677,\n",
       " 1.0195959595959596,\n",
       " 1.2215151515151514,\n",
       " 1.4234343434343435,\n",
       " 1.6253535353535353,\n",
       " 1.8272727272727272,\n",
       " 2.029191919191919,\n",
       " 2.231111111111111,\n",
       " 2.4330303030303027,\n",
       " 2.6349494949494945,\n",
       " 2.8368686868686868,\n",
       " 3.0387878787878786,\n",
       " 3.2407070707070704,\n",
       " 0.21191919191919192,\n",
       " 0.41383838383838384,\n",
       " 0.6157575757575757,\n",
       " 0.8176767676767677,\n",
       " 1.0195959595959596,\n",
       " 1.2215151515151514,\n",
       " 1.4234343434343435,\n",
       " 1.6253535353535353,\n",
       " 1.8272727272727272,\n",
       " 2.029191919191919,\n",
       " 2.231111111111111,\n",
       " 2.4330303030303027,\n",
       " 2.6349494949494945,\n",
       " 2.8368686868686868,\n",
       " 0.21191919191919192,\n",
       " 0.41383838383838384,\n",
       " 0.6157575757575757,\n",
       " 0.8176767676767677,\n",
       " 1.0195959595959596,\n",
       " 1.2215151515151514,\n",
       " 1.4234343434343435,\n",
       " 1.6253535353535353,\n",
       " 1.8272727272727272,\n",
       " 2.029191919191919,\n",
       " 2.231111111111111,\n",
       " 2.4330303030303027,\n",
       " 2.6349494949494945,\n",
       " 0.21191919191919192,\n",
       " 0.41383838383838384,\n",
       " 0.6157575757575757,\n",
       " 0.8176767676767677,\n",
       " 1.0195959595959596,\n",
       " 1.2215151515151514,\n",
       " 1.4234343434343435,\n",
       " 1.6253535353535353,\n",
       " 1.8272727272727272,\n",
       " 2.029191919191919,\n",
       " 2.231111111111111,\n",
       " 0.21191919191919192,\n",
       " 0.41383838383838384,\n",
       " 0.6157575757575757,\n",
       " 0.8176767676767677,\n",
       " 1.0195959595959596,\n",
       " 1.2215151515151514,\n",
       " 1.4234343434343435,\n",
       " 1.6253535353535353,\n",
       " 1.8272727272727272,\n",
       " 2.029191919191919,\n",
       " 0.21191919191919192,\n",
       " 0.41383838383838384,\n",
       " 0.6157575757575757,\n",
       " 0.8176767676767677,\n",
       " 1.0195959595959596,\n",
       " 1.2215151515151514,\n",
       " 1.4234343434343435,\n",
       " 1.6253535353535353,\n",
       " 1.8272727272727272,\n",
       " 0.21191919191919192,\n",
       " 0.41383838383838384,\n",
       " 0.6157575757575757,\n",
       " 0.8176767676767677,\n",
       " 1.0195959595959596,\n",
       " 1.2215151515151514,\n",
       " 1.4234343434343435,\n",
       " 1.6253535353535353,\n",
       " 1.8272727272727272,\n",
       " 0.21191919191919192,\n",
       " 0.41383838383838384,\n",
       " 0.6157575757575757,\n",
       " 0.8176767676767677,\n",
       " 1.0195959595959596,\n",
       " 1.2215151515151514,\n",
       " 1.4234343434343435,\n",
       " 1.6253535353535353,\n",
       " 0.21191919191919192,\n",
       " 0.41383838383838384,\n",
       " 0.6157575757575757,\n",
       " 0.8176767676767677,\n",
       " 1.0195959595959596,\n",
       " 1.2215151515151514,\n",
       " 1.4234343434343435,\n",
       " 0.01,\n",
       " 0.21191919191919192,\n",
       " 0.41383838383838384,\n",
       " 0.6157575757575757,\n",
       " 0.8176767676767677,\n",
       " 1.0195959595959596,\n",
       " 1.2215151515151514,\n",
       " 1.4234343434343435,\n",
       " 0.01,\n",
       " 0.21191919191919192,\n",
       " 0.41383838383838384,\n",
       " 0.6157575757575757,\n",
       " 0.8176767676767677,\n",
       " 1.0195959595959596,\n",
       " 1.2215151515151514,\n",
       " 1.4234343434343435,\n",
       " 0.01,\n",
       " 0.21191919191919192,\n",
       " 0.41383838383838384,\n",
       " 0.6157575757575757,\n",
       " 0.8176767676767677,\n",
       " 1.0195959595959596,\n",
       " 1.2215151515151514,\n",
       " 0.01,\n",
       " 0.21191919191919192,\n",
       " 0.41383838383838384,\n",
       " 0.6157575757575757,\n",
       " 0.8176767676767677,\n",
       " 1.0195959595959596,\n",
       " 1.2215151515151514,\n",
       " 0.01,\n",
       " 0.21191919191919192,\n",
       " 0.41383838383838384,\n",
       " 0.6157575757575757,\n",
       " 0.8176767676767677,\n",
       " 1.0195959595959596,\n",
       " 1.2215151515151514,\n",
       " 0.01,\n",
       " 0.21191919191919192,\n",
       " 0.41383838383838384,\n",
       " 0.6157575757575757,\n",
       " 0.8176767676767677,\n",
       " 1.0195959595959596,\n",
       " 0.01,\n",
       " 0.21191919191919192,\n",
       " 0.41383838383838384,\n",
       " 0.6157575757575757,\n",
       " 0.8176767676767677,\n",
       " 1.0195959595959596,\n",
       " 0.01,\n",
       " 0.21191919191919192,\n",
       " 0.41383838383838384,\n",
       " 0.6157575757575757,\n",
       " 0.8176767676767677,\n",
       " 1.0195959595959596,\n",
       " 0.01,\n",
       " 0.21191919191919192,\n",
       " 0.41383838383838384,\n",
       " 0.6157575757575757,\n",
       " 0.8176767676767677,\n",
       " 1.0195959595959596,\n",
       " 0.01,\n",
       " 0.21191919191919192,\n",
       " 0.41383838383838384,\n",
       " 0.6157575757575757,\n",
       " 0.8176767676767677,\n",
       " 0.01,\n",
       " 0.21191919191919192,\n",
       " 0.41383838383838384,\n",
       " 0.6157575757575757,\n",
       " 0.8176767676767677,\n",
       " 0.01,\n",
       " 0.21191919191919192,\n",
       " 0.41383838383838384,\n",
       " 0.6157575757575757,\n",
       " 0.8176767676767677,\n",
       " 0.01,\n",
       " 0.21191919191919192,\n",
       " 0.41383838383838384,\n",
       " 0.6157575757575757,\n",
       " 0.8176767676767677,\n",
       " 0.01,\n",
       " 0.21191919191919192,\n",
       " 0.41383838383838384,\n",
       " 0.6157575757575757,\n",
       " 0.8176767676767677,\n",
       " 0.01,\n",
       " 0.21191919191919192,\n",
       " 0.41383838383838384,\n",
       " 0.6157575757575757,\n",
       " 0.8176767676767677,\n",
       " 0.01,\n",
       " 0.21191919191919192,\n",
       " 0.41383838383838384,\n",
       " 0.6157575757575757,\n",
       " 0.01,\n",
       " 0.21191919191919192,\n",
       " 0.41383838383838384,\n",
       " 0.6157575757575757,\n",
       " 0.01,\n",
       " 0.21191919191919192,\n",
       " 0.41383838383838384,\n",
       " 0.6157575757575757,\n",
       " 0.01,\n",
       " 0.21191919191919192,\n",
       " 0.41383838383838384,\n",
       " 0.6157575757575757,\n",
       " 0.01,\n",
       " 0.21191919191919192,\n",
       " 0.41383838383838384,\n",
       " 0.6157575757575757,\n",
       " 0.01,\n",
       " 0.21191919191919192,\n",
       " 0.41383838383838384,\n",
       " 0.6157575757575757,\n",
       " 0.01,\n",
       " 0.21191919191919192,\n",
       " 0.41383838383838384,\n",
       " 0.6157575757575757,\n",
       " 0.01,\n",
       " 0.21191919191919192,\n",
       " 0.41383838383838384,\n",
       " 0.6157575757575757,\n",
       " 0.01,\n",
       " 0.21191919191919192,\n",
       " 0.41383838383838384,\n",
       " 0.6157575757575757,\n",
       " 0.01,\n",
       " 0.21191919191919192,\n",
       " 0.41383838383838384,\n",
       " 0.6157575757575757,\n",
       " 0.01,\n",
       " 0.21191919191919192,\n",
       " 0.41383838383838384,\n",
       " 0.01,\n",
       " 0.21191919191919192,\n",
       " 0.41383838383838384,\n",
       " 0.01,\n",
       " 0.21191919191919192,\n",
       " 0.41383838383838384,\n",
       " 0.01,\n",
       " 0.21191919191919192,\n",
       " 0.41383838383838384,\n",
       " 0.01,\n",
       " 0.21191919191919192,\n",
       " 0.41383838383838384,\n",
       " 0.01,\n",
       " 0.21191919191919192,\n",
       " 0.41383838383838384,\n",
       " 0.01,\n",
       " 0.21191919191919192,\n",
       " 0.41383838383838384,\n",
       " 0.01,\n",
       " 0.21191919191919192,\n",
       " 0.41383838383838384,\n",
       " 0.01,\n",
       " 0.21191919191919192,\n",
       " 0.41383838383838384,\n",
       " 0.01,\n",
       " 0.21191919191919192,\n",
       " 0.41383838383838384,\n",
       " 0.01,\n",
       " 0.21191919191919192,\n",
       " 0.41383838383838384,\n",
       " 0.01,\n",
       " 0.21191919191919192,\n",
       " 0.41383838383838384,\n",
       " 0.01,\n",
       " 0.21191919191919192,\n",
       " 0.41383838383838384,\n",
       " 0.01,\n",
       " 0.21191919191919192,\n",
       " 0.41383838383838384,\n",
       " 0.01,\n",
       " 0.21191919191919192,\n",
       " 0.41383838383838384,\n",
       " 0.01,\n",
       " 0.21191919191919192,\n",
       " 0.41383838383838384,\n",
       " 0.01,\n",
       " 0.21191919191919192,\n",
       " 0.41383838383838384,\n",
       " 0.01,\n",
       " 0.21191919191919192,\n",
       " 0.41383838383838384,\n",
       " 0.01,\n",
       " 0.21191919191919192,\n",
       " 0.41383838383838384,\n",
       " 0.01,\n",
       " 0.21191919191919192,\n",
       " 0.41383838383838384,\n",
       " 0.01,\n",
       " 0.21191919191919192,\n",
       " 0.01,\n",
       " 0.21191919191919192,\n",
       " 0.01,\n",
       " 0.21191919191919192,\n",
       " 0.01,\n",
       " 0.21191919191919192,\n",
       " 0.01,\n",
       " 0.21191919191919192,\n",
       " 0.01,\n",
       " 0.21191919191919192,\n",
       " 0.01,\n",
       " 0.21191919191919192,\n",
       " 0.01,\n",
       " 0.21191919191919192,\n",
       " 0.01,\n",
       " 0.21191919191919192,\n",
       " 0.01,\n",
       " 0.21191919191919192,\n",
       " 0.01,\n",
       " 0.21191919191919192,\n",
       " 0.01,\n",
       " 0.21191919191919192,\n",
       " 0.01,\n",
       " 0.21191919191919192,\n",
       " 0.01,\n",
       " 0.21191919191919192,\n",
       " 0.01,\n",
       " 0.21191919191919192,\n",
       " 0.01,\n",
       " 0.21191919191919192,\n",
       " 0.01,\n",
       " 0.21191919191919192,\n",
       " 0.01,\n",
       " 0.21191919191919192,\n",
       " 0.01,\n",
       " 0.21191919191919192,\n",
       " 0.01,\n",
       " 0.21191919191919192,\n",
       " 0.01,\n",
       " 0.21191919191919192,\n",
       " 0.01,\n",
       " 0.21191919191919192,\n",
       " 0.01,\n",
       " 0.21191919191919192,\n",
       " 0.01,\n",
       " 0.21191919191919192,\n",
       " 0.01,\n",
       " 0.21191919191919192,\n",
       " 0.01,\n",
       " 0.21191919191919192,\n",
       " 0.01,\n",
       " 0.21191919191919192,\n",
       " 0.01,\n",
       " 0.21191919191919192,\n",
       " 0.01,\n",
       " 0.21191919191919192,\n",
       " 0.01,\n",
       " 0.21191919191919192,\n",
       " 0.01,\n",
       " 0.21191919191919192,\n",
       " 0.01,\n",
       " 0.21191919191919192,\n",
       " 0.01,\n",
       " 0.21191919191919192,\n",
       " 0.01,\n",
       " 0.21191919191919192,\n",
       " 0.01,\n",
       " 0.21191919191919192,\n",
       " 0.01,\n",
       " 0.21191919191919192,\n",
       " 0.01,\n",
       " 0.21191919191919192,\n",
       " 0.01,\n",
       " 0.21191919191919192,\n",
       " 0.01,\n",
       " 0.21191919191919192,\n",
       " 4.452222222222222,\n",
       " 5.461818181818182,\n",
       " 6.673333333333333,\n",
       " 8.288686868686868,\n",
       " 18.586565656565657,\n",
       " 18.99040404040404,\n",
       " 19.394242424242425,\n",
       " 19.798080808080808]"
      ]
     },
     "execution_count": 105,
     "metadata": {},
     "output_type": "execute_result"
    }
   ],
   "source": [
    "sys.y_v"
   ]
  },
  {
   "cell_type": "code",
   "execution_count": 94,
   "metadata": {},
   "outputs": [
    {
     "ename": "IndexError",
     "evalue": "list index out of range",
     "output_type": "error",
     "traceback": [
      "\u001b[1;31m---------------------------------------------------------------------------\u001b[0m",
      "\u001b[1;31mIndexError\u001b[0m                                Traceback (most recent call last)",
      "\u001b[1;32mc:\\Users\\kimje\\Desktop\\Project\\Posco\\Cat\\code\\V4_230211_maxFidelity, time(max) .ipynb Cell 10\u001b[0m in \u001b[0;36m<cell line: 10>\u001b[1;34m()\u001b[0m\n\u001b[0;32m      <a href='vscode-notebook-cell:/c%3A/Users/kimje/Desktop/Project/Posco/Cat/code/V4_230211_maxFidelity%2C%20time%28max%29%20.ipynb#X53sZmlsZQ%3D%3D?line=8'>9</a>\u001b[0m         b\u001b[39m.\u001b[39mappend(v)\n\u001b[0;32m     <a href='vscode-notebook-cell:/c%3A/Users/kimje/Desktop/Project/Posco/Cat/code/V4_230211_maxFidelity%2C%20time%28max%29%20.ipynb#X53sZmlsZQ%3D%3D?line=9'>10</a>\u001b[0m \u001b[39mfor\u001b[39;00m i \u001b[39min\u001b[39;00m \u001b[39mrange\u001b[39m(\u001b[39mlen\u001b[39m(c)):\n\u001b[1;32m---> <a href='vscode-notebook-cell:/c%3A/Users/kimje/Desktop/Project/Posco/Cat/code/V4_230211_maxFidelity%2C%20time%28max%29%20.ipynb#X53sZmlsZQ%3D%3D?line=10'>11</a>\u001b[0m     \u001b[39mif\u001b[39;00m c[i]\u001b[39m<\u001b[39m\u001b[39m90\u001b[39m:\n\u001b[0;32m     <a href='vscode-notebook-cell:/c%3A/Users/kimje/Desktop/Project/Posco/Cat/code/V4_230211_maxFidelity%2C%20time%28max%29%20.ipynb#X53sZmlsZQ%3D%3D?line=11'>12</a>\u001b[0m         \u001b[39mdel\u001b[39;00m a[i]\n\u001b[0;32m     <a href='vscode-notebook-cell:/c%3A/Users/kimje/Desktop/Project/Posco/Cat/code/V4_230211_maxFidelity%2C%20time%28max%29%20.ipynb#X53sZmlsZQ%3D%3D?line=12'>13</a>\u001b[0m         \u001b[39mdel\u001b[39;00m b[i]\n",
      "\u001b[1;31mIndexError\u001b[0m: list index out of range"
     ]
    }
   ],
   "source": [
    "x=sys.x_chi\n",
    "y=sys.y_v\n",
    "c=sys.fidelity\n",
    "a=[]\n",
    "b=[]\n",
    "for k in x:\n",
    "    for v in y:\n",
    "        a.append(k)\n",
    "        b.append(v)\n",
    "for i in range(len(c)):\n",
    "    if c[i]<90:\n",
    "        del a[i]\n",
    "        del b[i]\n",
    "        del c[i]\n",
    "    elif c[i]>=90:\n",
    "        pass\n",
    "plt.scatter(a,b,c=c, s=20, cmap=plt.cm.Reds, alpha=1)\n",
    "plt.xlabel('kerr(MHz)')\n",
    "plt.ylabel('ramp speed')\n",
    "plt.colorbar(label='fidelity(%)')\n",
    "name=f\"fidelity90,n=2.6,k=(0.35,80,100),v=(0.01,20,100)\"\n",
    "file_name=f\"C:/Users/kimje/Desktop/Project/Posco/Cat/data/fidelity/230212/{name}.png\"\n",
    "plt.savefig(file_name, format='png', dpi=100, bbox_inches='tight')\n",
    "plt.show()\n",
    "        "
   ]
  },
  {
   "cell_type": "code",
   "execution_count": null,
   "metadata": {},
   "outputs": [
    {
     "data": {
      "text/plain": [
       "(0.998500370278381, 1.3800000000000001)"
      ]
     },
     "metadata": {},
     "output_type": "display_data"
    }
   ],
   "source": [
    "sys.generate(H='adiabatic', spec='ad_exp', speed=20)"
   ]
  },
  {
   "cell_type": "code",
   "execution_count": 65,
   "metadata": {},
   "outputs": [],
   "source": [
    "sys_lin=system(chi=0.75, tau_speed=5, ramp='lin', catsize=4, start=0, stop=2,num=500)\n"
   ]
  },
  {
   "cell_type": "code",
   "execution_count": 66,
   "metadata": {},
   "outputs": [
    {
     "data": {
      "text/plain": [
       "(0.998500370278381, 1.3800000000000001)"
      ]
     },
     "execution_count": 66,
     "metadata": {},
     "output_type": "execute_result"
    }
   ],
   "source": [
    "sys.generate(H='adiabatic', spec='ad_exp', speed=20)"
   ]
  },
  {
   "cell_type": "code",
   "execution_count": 64,
   "metadata": {},
   "outputs": [
    {
     "data": {
      "text/plain": [
       "(0.9994474023327627, 1.932)"
      ]
     },
     "execution_count": 64,
     "metadata": {},
     "output_type": "execute_result"
    }
   ],
   "source": [
    "sys.generate(H='drv+det', spec='ad_exp,ad_det', speed=20)"
   ]
  },
  {
   "cell_type": "code",
   "execution_count": 67,
   "metadata": {},
   "outputs": [
    {
     "data": {
      "text/plain": [
       "(0.9955463654702429, 0.9480000000000001)"
      ]
     },
     "execution_count": 67,
     "metadata": {},
     "output_type": "execute_result"
    }
   ],
   "source": [
    "sys_lin.generate(H='drv+det', spec='ad_lin,ad_det', speed=20)"
   ]
  },
  {
   "cell_type": "code",
   "execution_count": 49,
   "metadata": {},
   "outputs": [
    {
     "name": "stdout",
     "output_type": "stream",
     "text": [
      "[0.75, 0.75, 0.75, 0.75, 0.75, 0.75, 0.75, 0.75, 0.75, 9.555555555555555, 9.555555555555555, 18.36111111111111, 27.166666666666664, 35.97222222222222, 44.77777777777778, 53.58333333333333, 62.388888888888886, 71.19444444444444, 80.0]\n",
      "[2.231111111111111, 4.452222222222222, 6.673333333333333, 8.894444444444444, 11.115555555555554, 13.336666666666666, 15.557777777777778, 17.77888888888889, 20.0, 0.01, 2.231111111111111, 0.01, 0.01, 0.01, 0.01, 0.01, 0.01, 0.01, 0.01]\n",
      "[82.3607, 94.7612, 99.0027, 99.8528, 99.9824, 100.0055, 100.0094, 99.9929, 99.6363, 68.7723, 80.4065, 97.9598, 100.0039, 100.011, 100.011, 100.011, 100.011, 100.011, 100.011]\n"
     ]
    },
    {
     "data": {
      "image/png": "[encoded data removed]",
      "text/plain": [
       "<Figure size 432x288 with 2 Axes>"
      ]
     },
     "metadata": {
      "needs_background": "light"
     },
     "output_type": "display_data"
    }
   ],
   "source": [
    "sys.init_fidelity(0.75, 80, 10, 0.01, 20, 10)"
   ]
  },
  {
   "cell_type": "code",
   "execution_count": 46,
   "metadata": {},
   "outputs": [
    {
     "ename": "KeyboardInterrupt",
     "evalue": "",
     "output_type": "error",
     "traceback": [
      "\u001b[1;31m---------------------------------------------------------------------------\u001b[0m",
      "\u001b[1;31mKeyboardInterrupt\u001b[0m                         Traceback (most recent call last)",
      "\u001b[1;32mc:\\Users\\kimje\\Desktop\\Project\\Posco\\Cat\\code\\V4_230211_maxFidelity, time(max) .ipynb Cell 6\u001b[0m in \u001b[0;36m<cell line: 1>\u001b[1;34m()\u001b[0m\n\u001b[1;32m----> <a href='vscode-notebook-cell:/c%3A/Users/kimje/Desktop/Project/Posco/Cat/code/V4_230211_maxFidelity%2C%20time%28max%29%20.ipynb#X36sZmlsZQ%3D%3D?line=0'>1</a>\u001b[0m sys\u001b[39m.\u001b[39;49minit_fidelity(\u001b[39m0.35\u001b[39;49m, \u001b[39m80\u001b[39;49m, \u001b[39m100\u001b[39;49m, \u001b[39m0.01\u001b[39;49m, \u001b[39m20\u001b[39;49m, \u001b[39m100\u001b[39;49m)\n",
      "\u001b[1;32mc:\\Users\\kimje\\Desktop\\Project\\Posco\\Cat\\code\\V4_230211_maxFidelity, time(max) .ipynb Cell 6\u001b[0m in \u001b[0;36msystem.init_fidelity\u001b[1;34m(self, kstart, kstop, knum, vstart, vstop, vnum)\u001b[0m\n\u001b[0;32m     <a href='vscode-notebook-cell:/c%3A/Users/kimje/Desktop/Project/Posco/Cat/code/V4_230211_maxFidelity%2C%20time%28max%29%20.ipynb#X36sZmlsZQ%3D%3D?line=56'>57</a>\u001b[0m f\u001b[39m=\u001b[39m[]\n\u001b[0;32m     <a href='vscode-notebook-cell:/c%3A/Users/kimje/Desktop/Project/Posco/Cat/code/V4_230211_maxFidelity%2C%20time%28max%29%20.ipynb#X36sZmlsZQ%3D%3D?line=57'>58</a>\u001b[0m \u001b[39mfor\u001b[39;00m i \u001b[39min\u001b[39;00m \u001b[39mrange\u001b[39m(\u001b[39mlen\u001b[39m(\u001b[39mself\u001b[39m\u001b[39m.\u001b[39mtlist)):\n\u001b[1;32m---> <a href='vscode-notebook-cell:/c%3A/Users/kimje/Desktop/Project/Posco/Cat/code/V4_230211_maxFidelity%2C%20time%28max%29%20.ipynb#X36sZmlsZQ%3D%3D?line=58'>59</a>\u001b[0m     f\u001b[39m.\u001b[39mappend(fidelity(\u001b[39mself\u001b[39;49m\u001b[39m.\u001b[39;49mexpectedcat, result\u001b[39m.\u001b[39;49mstates[i]))\n\u001b[0;32m     <a href='vscode-notebook-cell:/c%3A/Users/kimje/Desktop/Project/Posco/Cat/code/V4_230211_maxFidelity%2C%20time%28max%29%20.ipynb#X36sZmlsZQ%3D%3D?line=59'>60</a>\u001b[0m maxfid\u001b[39m=\u001b[39m\u001b[39mmax\u001b[39m(f)\n\u001b[0;32m     <a href='vscode-notebook-cell:/c%3A/Users/kimje/Desktop/Project/Posco/Cat/code/V4_230211_maxFidelity%2C%20time%28max%29%20.ipynb#X36sZmlsZQ%3D%3D?line=60'>61</a>\u001b[0m \u001b[39m# x.append(chi)\u001b[39;00m\n\u001b[0;32m     <a href='vscode-notebook-cell:/c%3A/Users/kimje/Desktop/Project/Posco/Cat/code/V4_230211_maxFidelity%2C%20time%28max%29%20.ipynb#X36sZmlsZQ%3D%3D?line=61'>62</a>\u001b[0m \u001b[39m# y.append(v)\u001b[39;00m\n\u001b[0;32m     <a href='vscode-notebook-cell:/c%3A/Users/kimje/Desktop/Project/Posco/Cat/code/V4_230211_maxFidelity%2C%20time%28max%29%20.ipynb#X36sZmlsZQ%3D%3D?line=62'>63</a>\u001b[0m \u001b[39m# fid_color.append(round(maxfid*100,4))\u001b[39;00m\n\u001b[0;32m     <a href='vscode-notebook-cell:/c%3A/Users/kimje/Desktop/Project/Posco/Cat/code/V4_230211_maxFidelity%2C%20time%28max%29%20.ipynb#X36sZmlsZQ%3D%3D?line=63'>64</a>\u001b[0m \u001b[39m# f.clear()\u001b[39;00m\n",
      "File \u001b[1;32mc:\\Users\\kimje\\anaconda3\\envs\\qutip\\lib\\site-packages\\qutip\\metrics.py:79\u001b[0m, in \u001b[0;36mfidelity\u001b[1;34m(A, B)\u001b[0m\n\u001b[0;32m     72\u001b[0m     \u001b[39mraise\u001b[39;00m \u001b[39mTypeError\u001b[39;00m(\u001b[39m'\u001b[39m\u001b[39mDensity matrices do not have same dimensions.\u001b[39m\u001b[39m'\u001b[39m)\n\u001b[0;32m     74\u001b[0m \u001b[39m# We don't actually need the whole matrix here, just the trace\u001b[39;00m\n\u001b[0;32m     75\u001b[0m \u001b[39m# of its square root, so let's just get its eigenenergies instead.\u001b[39;00m\n\u001b[0;32m     76\u001b[0m \u001b[39m# We also truncate negative eigenvalues to avoid nan propagation;\u001b[39;00m\n\u001b[0;32m     77\u001b[0m \u001b[39m# even for positive semidefinite matrices, small negative eigenvalues\u001b[39;00m\n\u001b[0;32m     78\u001b[0m \u001b[39m# can be reported.\u001b[39;00m\n\u001b[1;32m---> 79\u001b[0m eig_vals \u001b[39m=\u001b[39m (sqrtmA \u001b[39m*\u001b[39;49m B \u001b[39m*\u001b[39;49m sqrtmA)\u001b[39m.\u001b[39meigenenergies()\n\u001b[0;32m     80\u001b[0m \u001b[39mreturn\u001b[39;00m \u001b[39mfloat\u001b[39m(np\u001b[39m.\u001b[39mreal(np\u001b[39m.\u001b[39msqrt(eig_vals[eig_vals \u001b[39m>\u001b[39m \u001b[39m0\u001b[39m])\u001b[39m.\u001b[39msum()))\n",
      "File \u001b[1;32mc:\\Users\\kimje\\anaconda3\\envs\\qutip\\lib\\site-packages\\qutip\\qobj.py:492\u001b[0m, in \u001b[0;36mQobj.__mul__\u001b[1;34m(self, other)\u001b[0m\n\u001b[0;32m    490\u001b[0m \u001b[39mif\u001b[39;00m \u001b[39misinstance\u001b[39m(other, Qobj):\n\u001b[0;32m    491\u001b[0m     \u001b[39mif\u001b[39;00m \u001b[39mself\u001b[39m\u001b[39m.\u001b[39mdims[\u001b[39m1\u001b[39m] \u001b[39m==\u001b[39m other\u001b[39m.\u001b[39mdims[\u001b[39m0\u001b[39m]:\n\u001b[1;32m--> 492\u001b[0m         out \u001b[39m=\u001b[39m Qobj()\n\u001b[0;32m    493\u001b[0m         out\u001b[39m.\u001b[39mdata \u001b[39m=\u001b[39m \u001b[39mself\u001b[39m\u001b[39m.\u001b[39mdata \u001b[39m*\u001b[39m other\u001b[39m.\u001b[39mdata\n\u001b[0;32m    494\u001b[0m         dims \u001b[39m=\u001b[39m [\u001b[39mself\u001b[39m\u001b[39m.\u001b[39mdims[\u001b[39m0\u001b[39m], other\u001b[39m.\u001b[39mdims[\u001b[39m1\u001b[39m]]\n",
      "File \u001b[1;32mc:\\Users\\kimje\\anaconda3\\envs\\qutip\\lib\\site-packages\\qutip\\qobj.py:335\u001b[0m, in \u001b[0;36mQobj.__init__\u001b[1;34m(self, inpt, dims, shape, type, isherm, copy, fast, superrep, isunitary)\u001b[0m\n\u001b[0;32m    329\u001b[0m         \u001b[39mself\u001b[39m\u001b[39m.\u001b[39msuperrep \u001b[39m=\u001b[39m \u001b[39m'\u001b[39m\u001b[39msuper\u001b[39m\u001b[39m'\u001b[39m\n\u001b[0;32m    331\u001b[0m \u001b[39m# While the obvious check would be != that would fail valid\u001b[39;00m\n\u001b[0;32m    332\u001b[0m \u001b[39m# use cases such as enr_fock and other enr_ functions.\u001b[39;00m\n\u001b[0;32m    333\u001b[0m \u001b[39m# This does leave open the possibility of data still being\u001b[39;00m\n\u001b[0;32m    334\u001b[0m \u001b[39m# misused such as Qobj(complex[n**2][1], dims = [[n],[n]])\u001b[39;00m\n\u001b[1;32m--> 335\u001b[0m \u001b[39mif\u001b[39;00m (\u001b[39mself\u001b[39m\u001b[39m.\u001b[39m_data\u001b[39m.\u001b[39mshape[\u001b[39m0\u001b[39m] \u001b[39m>\u001b[39m np\u001b[39m.\u001b[39;49mprod(np\u001b[39m.\u001b[39;49mhstack(\u001b[39mself\u001b[39;49m\u001b[39m.\u001b[39;49mdims[\u001b[39m0\u001b[39;49m])) \u001b[39mor\u001b[39;00m\n\u001b[0;32m    336\u001b[0m    \u001b[39mself\u001b[39m\u001b[39m.\u001b[39m_data\u001b[39m.\u001b[39mshape[\u001b[39m1\u001b[39m] \u001b[39m>\u001b[39m np\u001b[39m.\u001b[39mprod(np\u001b[39m.\u001b[39mhstack(\u001b[39mself\u001b[39m\u001b[39m.\u001b[39mdims[\u001b[39m1\u001b[39m]))) \u001b[39mand\u001b[39;00m \\\n\u001b[0;32m    337\u001b[0m    \u001b[39mself\u001b[39m\u001b[39m.\u001b[39mtype \u001b[39m!=\u001b[39m \u001b[39m'\u001b[39m\u001b[39msuper\u001b[39m\u001b[39m'\u001b[39m:\n\u001b[0;32m    339\u001b[0m     \u001b[39mraise\u001b[39;00m \u001b[39mValueError\u001b[39;00m(\u001b[39mf\u001b[39m\u001b[39m\"\u001b[39m\u001b[39mQobj has smaller dims \u001b[39m\u001b[39m{\u001b[39;00m\u001b[39mself\u001b[39m\u001b[39m.\u001b[39mdims\u001b[39m}\u001b[39;00m\u001b[39m \u001b[39m\u001b[39m\"\u001b[39m \u001b[39m+\u001b[39m\n\u001b[0;32m    340\u001b[0m                      \u001b[39mf\u001b[39m\u001b[39m\"\u001b[39m\u001b[39mthan underlying shape \u001b[39m\u001b[39m{\u001b[39;00m\u001b[39mself\u001b[39m\u001b[39m.\u001b[39m_data\u001b[39m.\u001b[39mshape\u001b[39m}\u001b[39;00m\u001b[39m\"\u001b[39m)\n\u001b[0;32m    342\u001b[0m \u001b[39m# clear type cache\u001b[39;00m\n",
      "File \u001b[1;32m<__array_function__ internals>:180\u001b[0m, in \u001b[0;36mprod\u001b[1;34m(*args, **kwargs)\u001b[0m\n",
      "File \u001b[1;32mc:\\Users\\kimje\\anaconda3\\envs\\qutip\\lib\\site-packages\\numpy\\core\\fromnumeric.py:3088\u001b[0m, in \u001b[0;36mprod\u001b[1;34m(a, axis, dtype, out, keepdims, initial, where)\u001b[0m\n\u001b[0;32m   2970\u001b[0m \u001b[39m@array_function_dispatch\u001b[39m(_prod_dispatcher)\n\u001b[0;32m   2971\u001b[0m \u001b[39mdef\u001b[39;00m \u001b[39mprod\u001b[39m(a, axis\u001b[39m=\u001b[39m\u001b[39mNone\u001b[39;00m, dtype\u001b[39m=\u001b[39m\u001b[39mNone\u001b[39;00m, out\u001b[39m=\u001b[39m\u001b[39mNone\u001b[39;00m, keepdims\u001b[39m=\u001b[39mnp\u001b[39m.\u001b[39m_NoValue,\n\u001b[0;32m   2972\u001b[0m          initial\u001b[39m=\u001b[39mnp\u001b[39m.\u001b[39m_NoValue, where\u001b[39m=\u001b[39mnp\u001b[39m.\u001b[39m_NoValue):\n\u001b[0;32m   2973\u001b[0m     \u001b[39m\"\"\"\u001b[39;00m\n\u001b[0;32m   2974\u001b[0m \u001b[39m    Return the product of array elements over a given axis.\u001b[39;00m\n\u001b[0;32m   2975\u001b[0m \n\u001b[1;32m   (...)\u001b[0m\n\u001b[0;32m   3086\u001b[0m \u001b[39m    10\u001b[39;00m\n\u001b[0;32m   3087\u001b[0m \u001b[39m    \"\"\"\u001b[39;00m\n\u001b[1;32m-> 3088\u001b[0m     \u001b[39mreturn\u001b[39;00m _wrapreduction(a, np\u001b[39m.\u001b[39;49mmultiply, \u001b[39m'\u001b[39;49m\u001b[39mprod\u001b[39;49m\u001b[39m'\u001b[39;49m, axis, dtype, out,\n\u001b[0;32m   3089\u001b[0m                           keepdims\u001b[39m=\u001b[39;49mkeepdims, initial\u001b[39m=\u001b[39;49minitial, where\u001b[39m=\u001b[39;49mwhere)\n",
      "File \u001b[1;32mc:\\Users\\kimje\\anaconda3\\envs\\qutip\\lib\\site-packages\\numpy\\core\\fromnumeric.py:70\u001b[0m, in \u001b[0;36m_wrapreduction\u001b[1;34m(obj, ufunc, method, axis, dtype, out, **kwargs)\u001b[0m\n\u001b[0;32m     69\u001b[0m \u001b[39mdef\u001b[39;00m \u001b[39m_wrapreduction\u001b[39m(obj, ufunc, method, axis, dtype, out, \u001b[39m*\u001b[39m\u001b[39m*\u001b[39mkwargs):\n\u001b[1;32m---> 70\u001b[0m     passkwargs \u001b[39m=\u001b[39m {k: v \u001b[39mfor\u001b[39;00m k, v \u001b[39min\u001b[39;00m kwargs\u001b[39m.\u001b[39mitems()\n\u001b[0;32m     71\u001b[0m                   \u001b[39mif\u001b[39;00m v \u001b[39mis\u001b[39;00m \u001b[39mnot\u001b[39;00m np\u001b[39m.\u001b[39m_NoValue}\n\u001b[0;32m     73\u001b[0m     \u001b[39mif\u001b[39;00m \u001b[39mtype\u001b[39m(obj) \u001b[39mis\u001b[39;00m \u001b[39mnot\u001b[39;00m mu\u001b[39m.\u001b[39mndarray:\n\u001b[0;32m     74\u001b[0m         \u001b[39mtry\u001b[39;00m:\n",
      "File \u001b[1;32mc:\\Users\\kimje\\anaconda3\\envs\\qutip\\lib\\site-packages\\numpy\\core\\fromnumeric.py:70\u001b[0m, in \u001b[0;36m<dictcomp>\u001b[1;34m(.0)\u001b[0m\n\u001b[0;32m     69\u001b[0m \u001b[39mdef\u001b[39;00m \u001b[39m_wrapreduction\u001b[39m(obj, ufunc, method, axis, dtype, out, \u001b[39m*\u001b[39m\u001b[39m*\u001b[39mkwargs):\n\u001b[1;32m---> 70\u001b[0m     passkwargs \u001b[39m=\u001b[39m {k: v \u001b[39mfor\u001b[39;00m k, v \u001b[39min\u001b[39;00m kwargs\u001b[39m.\u001b[39mitems()\n\u001b[0;32m     71\u001b[0m                   \u001b[39mif\u001b[39;00m v \u001b[39mis\u001b[39;00m \u001b[39mnot\u001b[39;00m np\u001b[39m.\u001b[39m_NoValue}\n\u001b[0;32m     73\u001b[0m     \u001b[39mif\u001b[39;00m \u001b[39mtype\u001b[39m(obj) \u001b[39mis\u001b[39;00m \u001b[39mnot\u001b[39;00m mu\u001b[39m.\u001b[39mndarray:\n\u001b[0;32m     74\u001b[0m         \u001b[39mtry\u001b[39;00m:\n",
      "\u001b[1;31mKeyboardInterrupt\u001b[0m: "
     ]
    }
   ],
   "source": [
    "sys.init_fidelity(0.35, 80, 100, 0.01, 20, 100)"
   ]
  },
  {
   "cell_type": "code",
   "execution_count": null,
   "metadata": {},
   "outputs": [
    {
     "name": "stdout",
     "output_type": "stream",
     "text": [
      "[0.75, 0.75, 0.75]\n",
      "[5.0, 7.5, 10.0]\n",
      "[96.8406, 99.5558, 99.9414]\n"
     ]
    },
    {
     "data": {
      "image/png": "[encoded data removed]",
      "text/plain": [
       "<Figure size 432x288 with 2 Axes>"
      ]
     },
     "metadata": {},
     "output_type": "display_data"
    }
   ],
   "source": [
    "sys.init_fidelity(0.75, 80, 3, 5, 10, 3)"
   ]
  },
  {
   "cell_type": "code",
   "execution_count": null,
   "metadata": {},
   "outputs": [
    {
     "name": "stdout",
     "output_type": "stream",
     "text": [
      "[0.75, 0.75, 0.75, 40.375, 40.375, 40.375, 80.0, 80.0, 80.0]\n",
      "[5.0, 7.5, 10.0, 5.0, 7.5, 10.0, 5.0, 7.5, 10.0]\n",
      "[96.8406, 99.5558, 99.9414, 19.1488, 19.1395, 19.1379, 19.138, 19.1374, 19.1373]\n"
     ]
    },
    {
     "data": {
      "image/png": "[encoded data removed]",
      "text/plain": [
       "<Figure size 432x288 with 2 Axes>"
      ]
     },
     "metadata": {},
     "output_type": "display_data"
    }
   ],
   "source": [
    "sys.init_fidelity(0.75, 80, 3, 5, 10, 3)"
   ]
  },
  {
   "cell_type": "code",
   "execution_count": 26,
   "metadata": {},
   "outputs": [
    {
     "data": {
      "image/png": "[encoded data removed]",
      "text/plain": [
       "<Figure size 432x288 with 2 Axes>"
      ]
     },
     "metadata": {
      "needs_background": "light"
     },
     "output_type": "display_data"
    }
   ],
   "source": [
    "sys.init_fidelity() #10000 pt 275min"
   ]
  },
  {
   "cell_type": "code",
   "execution_count": 10,
   "metadata": {},
   "outputs": [
    {
     "data": {
      "text/plain": [
       "(0.9985003605227244, 1.3800000000000001)"
      ]
     },
     "execution_count": 10,
     "metadata": {},
     "output_type": "execute_result"
    }
   ],
   "source": [
    "sys.generate('adiabatic','K',  20)"
   ]
  },
  {
   "cell_type": "code",
   "execution_count": 32,
   "metadata": {},
   "outputs": [],
   "source": [
    "sys=system(-0.75, 5, 'ad_exp', 4)"
   ]
  },
  {
   "cell_type": "code",
   "execution_count": 33,
   "metadata": {},
   "outputs": [
    {
     "data": {
      "text/plain": [
       "(0.9985003634474527, 1.3800000000000001)"
      ]
     },
     "execution_count": 33,
     "metadata": {},
     "output_type": "execute_result"
    }
   ],
   "source": [
    "sys.generate('adiabatic','K', 0, 2, 500, 20)"
   ]
  },
  {
   "cell_type": "code",
   "execution_count": 34,
   "metadata": {},
   "outputs": [],
   "source": [
    "sys=system(-0.075, 5, 'ad_exp', 4)"
   ]
  },
  {
   "cell_type": "code",
   "execution_count": 35,
   "metadata": {},
   "outputs": [
    {
     "data": {
      "text/plain": [
       "(0.9985142334532595, 13.787999999999998)"
      ]
     },
     "execution_count": 35,
     "metadata": {},
     "output_type": "execute_result"
    }
   ],
   "source": [
    "sys.generate('adiabatic','0.1K', 0, 18, 500, 20)"
   ]
  },
  {
   "cell_type": "code",
   "execution_count": 36,
   "metadata": {},
   "outputs": [],
   "source": [
    "sys=system(75, 5, 'ad_exp', 4)"
   ]
  },
  {
   "cell_type": "code",
   "execution_count": 37,
   "metadata": {},
   "outputs": [
    {
     "data": {
      "text/plain": [
       "(0.9982953398900526, 0.014)"
      ]
     },
     "execution_count": 37,
     "metadata": {},
     "output_type": "execute_result"
    }
   ],
   "source": [
    "sys.generate('adiabatic','100K', 0, 0.1, 500, 20)"
   ]
  },
  {
   "cell_type": "code",
   "execution_count": null,
   "metadata": {},
   "outputs": [],
   "source": []
  },
  {
   "cell_type": "code",
   "execution_count": null,
   "metadata": {},
   "outputs": [],
   "source": []
  },
  {
   "cell_type": "code",
   "execution_count": null,
   "metadata": {},
   "outputs": [],
   "source": []
  },
  {
   "cell_type": "code",
   "execution_count": null,
   "metadata": {},
   "outputs": [],
   "source": []
  }
 ],
 "metadata": {
  "kernelspec": {
   "display_name": "qutip",
   "language": "python",
   "name": "python3"
  },
  "language_info": {
   "codemirror_mode": {
    "name": "ipython",
    "version": 3
   },
   "file_extension": ".py",
   "mimetype": "text/x-python",
   "name": "python",
   "nbconvert_exporter": "python",
   "pygments_lexer": "ipython3",
   "version": "3.9.12"
  },
  "orig_nbformat": 4,
  "vscode": {
   "interpreter": {
    "hash": "7a589a19ec3db10b92f36ace0ea9ad5e5e5cf2b41d1bfa5969087b22bf53177d"
   }
  }
 },
 "nbformat": 4,
 "nbformat_minor": 2
}
