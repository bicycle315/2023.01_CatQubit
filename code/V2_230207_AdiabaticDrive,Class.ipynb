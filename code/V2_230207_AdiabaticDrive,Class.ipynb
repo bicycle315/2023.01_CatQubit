{
 "cells": [
  {
   "cell_type": "code",
   "execution_count": 1,
   "metadata": {},
   "outputs": [
    {
     "data": {
      "text/plain": [
       "'c:\\\\Users\\\\kimje\\\\Desktop\\\\Project\\\\Posco\\\\Cat\\\\code'"
      ]
     },
     "execution_count": 1,
     "metadata": {},
     "output_type": "execute_result"
    }
   ],
   "source": [
    "import os\n",
    "os.getcwd()\n"
   ]
  },
  {
   "cell_type": "code",
   "execution_count": 29,
   "metadata": {},
   "outputs": [],
   "source": [
    "from datetime import date\n",
    "from qutip import *\n",
    "from numpy import *\n",
    "import matplotlib as mpl\n",
    "import matplotlib.pyplot as plt\n",
    "from matplotlib import animation\n",
    "from sympy import Derivative, symbols"
   ]
  },
  {
   "cell_type": "code",
   "execution_count": 2,
   "metadata": {},
   "outputs": [],
   "source": [
    "def plot_wigner(rho, fig=None, ax=None):\n",
    "    if fig is None or ax is None:\n",
    "        fig, ax=plt.subplots(1,1,figsize=(8,8))\n",
    "    if isket(rho):\n",
    "        rho=ket2dm(rho)\n",
    "    xvec=linspace(-7.5, 7.5, 200)\n",
    "\n",
    "    W=wigner(rho,xvec,xvec)\n",
    "    wlim=abs(W).max()\n",
    "\n",
    "    ax.contourf(xvec, xvec, W, 100, norm=mpl.colors.Normalize(-wlim,wlim), cmap=mpl.cm.get_cmap('RdBu'))\n",
    "    ax.set_xlabel(r'x1', fontsize=16)\n",
    "    ax.set_ylabel(r'x2', fontsize=16)\n",
    "    return fig, ax\n"
   ]
  },
  {
   "cell_type": "code",
   "execution_count": 142,
   "metadata": {},
   "outputs": [],
   "source": [
    "class Kerr:\n",
    "    def __init__(self, chi):\n",
    "        self.chi=chi*2*pi\n",
    "        self.tau=5/self.chi\n",
    "        self.N=15\n",
    "        self.a=destroy(self.N)\n",
    "        self.ad=self.a.dag()\n",
    "        self.H0=self.chi*self.ad*self.ad*self.a*self.a\n",
    "        self.Hx=self.ad*self.ad+self.a*self.a\n",
    "        self.Hy=self.ad*self.ad-self.a*self.a\n",
    "        self.zero=basis(self.N, 0)\n",
    "        self.one=basis(self.N, 1)\n",
    "    def Epx(self, t, args):\n",
    "        return 4*self.chi*(1-exp((-(t)**4)/(self.tau**4)))\n",
    "    def Epy(self, t,args):\n",
    "        # Ep= 4*self.chi*(1-exp((-(t)**4)/(self.tau**4)))\n",
    "        # alpha_0=sqrt(Ep/self.chi)\n",
    "        # alpha_prime=0.5*(1/sqrt(4*(1-exp((-(t)**4)/(self.tau**4)))))*((-4)*exp((-(t)**4)/(self.tau**4)))*((-4)*(t**3)/(self.tau**4))\n",
    "        # N_alpha=1/(sqrt(2*(1-exp((-2)*(Ep/self.chi)))))\n",
    "        # return (1j*alpha_prime)/((1+2*alpha_0)*(N_alpha))\n",
    "        return 3*t\n",
    "    def solve(self, H, spec, alpha, start, stop, num, speed):\n",
    "        psi=coherent(self.N, alpha)\n",
    "        tlist=linspace(start, stop, num)\n",
    "        n=len(tlist)\n",
    "        if H=='adiabatic':\n",
    "            H=[self.H0,[self.Hx, self.Epx]]\n",
    "        elif H=='nonadiabatic':\n",
    "            H=[self.H0,[self.Hx, self.Epx],[self.Hy, self.Epy]]\n",
    "        elif H=='test':\n",
    "            H=[self.H0,[self.Hy, self.Epy]]\n",
    "        result=mesolve(H, psi, tlist, [], [])\n",
    "        fig, ax= plt.subplots(1,1,figsize=(8,8))\n",
    "        def update(frame):\n",
    "            plot_wigner(result.states[frame*speed], fig=fig, ax=ax)\n",
    "        ani=animation.FuncAnimation(fig, update, frames=int(n/speed))\n",
    "        FFwriter=animation.FFMpegWriter()\n",
    "        name=f\"{spec},N={self.N},alpha={round(alpha,1)},t=({start},{stop},{num}).mp4\"\n",
    "        file_name=f\"C:/Users/kimje/Desktop/Project/Posco/Cat/animation/{name}.mp4\"\n",
    "        ani.save(file_name, writer=FFwriter)\n",
    "        plt.close()"
   ]
  },
  {
   "cell_type": "code",
   "execution_count": 143,
   "metadata": {},
   "outputs": [],
   "source": [
    "system=Kerr(-0.75)"
   ]
  },
  {
   "cell_type": "code",
   "execution_count": 144,
   "metadata": {},
   "outputs": [],
   "source": [
    "system.solve('nonadiabatic', 'check2', 0, 0.0001, 5, 500, 20)"
   ]
  },
  {
   "cell_type": "code",
   "execution_count": null,
   "metadata": {},
   "outputs": [
    {
     "name": "stderr",
     "output_type": "stream",
     "text": [
      "C:\\Users\\kimje\\AppData\\Local\\Temp\\ipykernel_15076\\3991908976.py:18: RuntimeWarning: divide by zero encountered in double_scalars\n",
      "  alpha_prime=0.5*(1/sqrt(4*(1-exp((-(t)**4)/(self.tau**4)))))*((-4)*exp((-(t)**4)/(self.tau**4)))*((-4)*(t**3)/(self.tau**4))\n",
      "C:\\Users\\kimje\\AppData\\Local\\Temp\\ipykernel_15076\\3991908976.py:18: RuntimeWarning: invalid value encountered in double_scalars\n",
      "  alpha_prime=0.5*(1/sqrt(4*(1-exp((-(t)**4)/(self.tau**4)))))*((-4)*exp((-(t)**4)/(self.tau**4)))*((-4)*(t**3)/(self.tau**4))\n",
      "C:\\Users\\kimje\\AppData\\Local\\Temp\\ipykernel_15076\\3991908976.py:19: RuntimeWarning: divide by zero encountered in double_scalars\n",
      "  N_alpha=1/(sqrt(2*(1-exp((-2)*(Ep/self.chi)))))\n"
     ]
    }
   ],
   "source": [
    "system.solve('test', 'check', 0, 0.0001, 5, 500, 20)"
   ]
  },
  {
   "cell_type": "code",
   "execution_count": null,
   "metadata": {},
   "outputs": [
    {
     "name": "stderr",
     "output_type": "stream",
     "text": [
      "C:\\Users\\kimje\\AppData\\Local\\Temp\\ipykernel_15076\\3997619331.py:18: RuntimeWarning: divide by zero encountered in double_scalars\n",
      "  alpha_prime=0.3*(1/sqrt(4*(1-exp((-(t)**4)/(self.tau**4)))))*((-4)*exp((-(t)**4)/(self.tau**4)))*((-4)*(t**3)/(self.tau**4))\n",
      "C:\\Users\\kimje\\AppData\\Local\\Temp\\ipykernel_15076\\3997619331.py:18: RuntimeWarning: invalid value encountered in double_scalars\n",
      "  alpha_prime=0.3*(1/sqrt(4*(1-exp((-(t)**4)/(self.tau**4)))))*((-4)*exp((-(t)**4)/(self.tau**4)))*((-4)*(t**3)/(self.tau**4))\n",
      "C:\\Users\\kimje\\AppData\\Local\\Temp\\ipykernel_15076\\3997619331.py:19: RuntimeWarning: divide by zero encountered in double_scalars\n",
      "  N_alpha=1/(sqrt(2*(1-exp((-2)*(Ep/self.chi)))))\n"
     ]
    },
    {
     "ename": "Exception",
     "evalue": "ODE integration error: Try to increase the allowed number of substeps by increasing the nsteps parameter in the Options class.",
     "output_type": "error",
     "traceback": [
      "\u001b[1;31m---------------------------------------------------------------------------\u001b[0m\n",
      "\u001b[1;31mException\u001b[0m                                 Traceback (most recent call last)\n",
      "\u001b[1;32mc:\\Users\\kimje\\Desktop\\Project\\Posco\\Cat\\code\\V2_230207_AdiabaticDrive.ipynb Cell 6\u001b[0m in \u001b[0;36m<cell line: 1>\u001b[1;34m()\u001b[0m\n",
      "\u001b[1;32m----> <a href='vscode-notebook-cell:/c%3A/Users/kimje/Desktop/Project/Posco/Cat/code/V2_230207_AdiabaticDrive.ipynb#X35sZmlsZQ%3D%3D?line=0'>1</a>\u001b[0m system\u001b[39m.\u001b[39;49msolve(\u001b[39m'\u001b[39;49m\u001b[39mnonadiabatic\u001b[39;49m\u001b[39m'\u001b[39;49m, \u001b[39m'\u001b[39;49m\u001b[39mNA\u001b[39;49m\u001b[39m'\u001b[39;49m, \u001b[39m0\u001b[39;49m, \u001b[39m0.0001\u001b[39;49m, \u001b[39m50\u001b[39;49m, \u001b[39m500\u001b[39;49m, \u001b[39m20\u001b[39;49m)\n",
      "\n",
      "\u001b[1;32mc:\\Users\\kimje\\Desktop\\Project\\Posco\\Cat\\code\\V2_230207_AdiabaticDrive.ipynb Cell 6\u001b[0m in \u001b[0;36mKerr.solve\u001b[1;34m(self, H, spec, alpha, start, stop, num, speed)\u001b[0m\n",
      "\u001b[0;32m     <a href='vscode-notebook-cell:/c%3A/Users/kimje/Desktop/Project/Posco/Cat/code/V2_230207_AdiabaticDrive.ipynb#X35sZmlsZQ%3D%3D?line=26'>27</a>\u001b[0m \u001b[39melif\u001b[39;00m H\u001b[39m==\u001b[39m\u001b[39m'\u001b[39m\u001b[39mnonadiabatic\u001b[39m\u001b[39m'\u001b[39m:\n",
      "\u001b[0;32m     <a href='vscode-notebook-cell:/c%3A/Users/kimje/Desktop/Project/Posco/Cat/code/V2_230207_AdiabaticDrive.ipynb#X35sZmlsZQ%3D%3D?line=27'>28</a>\u001b[0m     H\u001b[39m=\u001b[39m[\u001b[39mself\u001b[39m\u001b[39m.\u001b[39mH0,[\u001b[39mself\u001b[39m\u001b[39m.\u001b[39mHx, \u001b[39mself\u001b[39m\u001b[39m.\u001b[39mEpx],[\u001b[39mself\u001b[39m\u001b[39m.\u001b[39mHy, \u001b[39mself\u001b[39m\u001b[39m.\u001b[39mEpy]]\n",
      "\u001b[1;32m---> <a href='vscode-notebook-cell:/c%3A/Users/kimje/Desktop/Project/Posco/Cat/code/V2_230207_AdiabaticDrive.ipynb#X35sZmlsZQ%3D%3D?line=28'>29</a>\u001b[0m result\u001b[39m=\u001b[39mmesolve(H, psi, tlist, [], [])\n",
      "\u001b[0;32m     <a href='vscode-notebook-cell:/c%3A/Users/kimje/Desktop/Project/Posco/Cat/code/V2_230207_AdiabaticDrive.ipynb#X35sZmlsZQ%3D%3D?line=29'>30</a>\u001b[0m fig, ax\u001b[39m=\u001b[39m plt\u001b[39m.\u001b[39msubplots(\u001b[39m1\u001b[39m,\u001b[39m1\u001b[39m,figsize\u001b[39m=\u001b[39m(\u001b[39m8\u001b[39m,\u001b[39m8\u001b[39m))\n",
      "\u001b[0;32m     <a href='vscode-notebook-cell:/c%3A/Users/kimje/Desktop/Project/Posco/Cat/code/V2_230207_AdiabaticDrive.ipynb#X35sZmlsZQ%3D%3D?line=30'>31</a>\u001b[0m \u001b[39mdef\u001b[39;00m \u001b[39mupdate\u001b[39m(frame):\n",
      "\n",
      "File \u001b[1;32mc:\\Users\\kimje\\anaconda3\\envs\\qutip\\lib\\site-packages\\qutip\\mesolve.py:217\u001b[0m, in \u001b[0;36mmesolve\u001b[1;34m(H, rho0, tlist, c_ops, e_ops, args, options, progress_bar, _safe_mode)\u001b[0m\n",
      "\u001b[0;32m    205\u001b[0m use_mesolve \u001b[39m=\u001b[39m ((c_ops \u001b[39mand\u001b[39;00m \u001b[39mlen\u001b[39m(c_ops) \u001b[39m>\u001b[39m \u001b[39m0\u001b[39m)\n",
      "\u001b[0;32m    206\u001b[0m                \u001b[39mor\u001b[39;00m (\u001b[39mnot\u001b[39;00m isket(rho0))\n",
      "\u001b[0;32m    207\u001b[0m                \u001b[39mor\u001b[39;00m (\u001b[39misinstance\u001b[39m(H, Qobj) \u001b[39mand\u001b[39;00m issuper(H))\n",
      "\u001b[1;32m   (...)\u001b[0m\n",
      "\u001b[0;32m    213\u001b[0m                \u001b[39mor\u001b[39;00m (\u001b[39mnot\u001b[39;00m \u001b[39misinstance\u001b[39m(H, (Qobj, QobjEvo)) \u001b[39mand\u001b[39;00m callable(H) \u001b[39mand\u001b[39;00m\n",
      "\u001b[0;32m    214\u001b[0m                         options\u001b[39m.\u001b[39mrhs_with_state))\n",
      "\u001b[0;32m    216\u001b[0m \u001b[39mif\u001b[39;00m \u001b[39mnot\u001b[39;00m use_mesolve:\n",
      "\u001b[1;32m--> 217\u001b[0m     \u001b[39mreturn\u001b[39;00m sesolve(H, rho0, tlist, e_ops\u001b[39m=\u001b[39;49me_ops, args\u001b[39m=\u001b[39;49margs, options\u001b[39m=\u001b[39;49moptions,\n",
      "\u001b[0;32m    218\u001b[0m                    progress_bar\u001b[39m=\u001b[39;49mprogress_bar, _safe_mode\u001b[39m=\u001b[39;49m_safe_mode)\n",
      "\u001b[0;32m    220\u001b[0m \u001b[39mif\u001b[39;00m isket(rho0):\n",
      "\u001b[0;32m    221\u001b[0m     rho0 \u001b[39m=\u001b[39m ket2dm(rho0)\n",
      "\n",
      "File \u001b[1;32mc:\\Users\\kimje\\anaconda3\\envs\\qutip\\lib\\site-packages\\qutip\\sesolve.py:136\u001b[0m, in \u001b[0;36msesolve\u001b[1;34m(H, psi0, tlist, e_ops, args, options, progress_bar, _safe_mode)\u001b[0m\n",
      "\u001b[0;32m    133\u001b[0m     v \u001b[39m=\u001b[39m psi0\u001b[39m.\u001b[39mfull()\u001b[39m.\u001b[39mravel(\u001b[39m'\u001b[39m\u001b[39mF\u001b[39m\u001b[39m'\u001b[39m)\n",
      "\u001b[0;32m    134\u001b[0m     func(\u001b[39m0.\u001b[39m, v, \u001b[39m*\u001b[39mode_args) \u001b[39m+\u001b[39m v\n",
      "\u001b[1;32m--> 136\u001b[0m res \u001b[39m=\u001b[39m _generic_ode_solve(func, ode_args, psi0, tlist, e_ops, options,\n",
      "\u001b[0;32m    137\u001b[0m                          progress_bar, dims\u001b[39m=\u001b[39;49mpsi0\u001b[39m.\u001b[39;49mdims)\n",
      "\u001b[0;32m    138\u001b[0m \u001b[39mif\u001b[39;00m e_ops_dict:\n",
      "\u001b[0;32m    139\u001b[0m     res\u001b[39m.\u001b[39mexpect \u001b[39m=\u001b[39m {e: res\u001b[39m.\u001b[39mexpect[n]\n",
      "\u001b[0;32m    140\u001b[0m                   \u001b[39mfor\u001b[39;00m n, e \u001b[39min\u001b[39;00m \u001b[39menumerate\u001b[39m(e_ops_dict\u001b[39m.\u001b[39mkeys())}\n",
      "\n",
      "File \u001b[1;32mc:\\Users\\kimje\\anaconda3\\envs\\qutip\\lib\\site-packages\\qutip\\sesolve.py:329\u001b[0m, in \u001b[0;36m_generic_ode_solve\u001b[1;34m(func, ode_args, psi0, tlist, e_ops, opt, progress_bar, dims)\u001b[0m\n",
      "\u001b[0;32m    327\u001b[0m progress_bar\u001b[39m.\u001b[39mupdate(t_idx)\n",
      "\u001b[0;32m    328\u001b[0m \u001b[39mif\u001b[39;00m \u001b[39mnot\u001b[39;00m r\u001b[39m.\u001b[39msuccessful():\n",
      "\u001b[1;32m--> 329\u001b[0m     \u001b[39mraise\u001b[39;00m \u001b[39mException\u001b[39;00m(\u001b[39m\"\u001b[39m\u001b[39mODE integration error: Try to increase \u001b[39m\u001b[39m\"\u001b[39m\n",
      "\u001b[0;32m    330\u001b[0m                     \u001b[39m\"\u001b[39m\u001b[39mthe allowed number of substeps by increasing \u001b[39m\u001b[39m\"\u001b[39m\n",
      "\u001b[0;32m    331\u001b[0m                     \u001b[39m\"\u001b[39m\u001b[39mthe nsteps parameter in the Options class.\u001b[39m\u001b[39m\"\u001b[39m)\n",
      "\u001b[0;32m    332\u001b[0m \u001b[39m# get the current state / oper data if needed\u001b[39;00m\n",
      "\u001b[0;32m    333\u001b[0m \u001b[39mif\u001b[39;00m opt\u001b[39m.\u001b[39mstore_states \u001b[39mor\u001b[39;00m opt\u001b[39m.\u001b[39mnormalize_output \\\n",
      "\u001b[0;32m    334\u001b[0m    \u001b[39mor\u001b[39;00m n_expt_op \u001b[39m>\u001b[39m \u001b[39m0\u001b[39m \u001b[39mor\u001b[39;00m expt_callback:\n",
      "\n",
      "\u001b[1;31mException\u001b[0m: ODE integration error: Try to increase the allowed number of substeps by increasing the nsteps parameter in the Options class."
     ]
    }
   ],
   "source": [
    "system.solve('nonadiabatic', 'NA', 0, 0.0001, 50, 500, 20)"
   ]
  },
  {
   "cell_type": "code",
   "execution_count": 134,
   "metadata": {},
   "outputs": [],
   "source": [
    "system.solve('adiabatic', 'AD', 0, 0.0001, 5, 500, 20)"
   ]
  },
  {
   "cell_type": "code",
   "execution_count": 73,
   "metadata": {},
   "outputs": [],
   "source": [
    "cat=coherent(15,sqrt(4.8))+coherent(15,-1*sqrt(4.8))"
   ]
  },
  {
   "cell_type": "code",
   "execution_count": 75,
   "metadata": {},
   "outputs": [],
   "source": [
    "result=mesolve(H_adiabatic, coherent(15,0),linspace(0,2,500),[],[])"
   ]
  },
  {
   "cell_type": "code",
   "execution_count": 80,
   "metadata": {},
   "outputs": [
    {
     "data": {
      "text/plain": [
       "0.007128563905758775"
      ]
     },
     "execution_count": 80,
     "metadata": {},
     "output_type": "execute_result"
    }
   ],
   "source": [
    "t=result.states[499]\n",
    "fidelity(cat, t)"
   ]
  },
  {
   "cell_type": "code",
   "execution_count": 81,
   "metadata": {},
   "outputs": [
    {
     "data": {
      "text/plain": [
       "(<Figure size 432x432 with 1 Axes>,\n",
       " <AxesSubplot:title={'center':'Wigner function'}, xlabel='$\\\\rm{Re}(\\\\alpha)$', ylabel='$\\\\rm{Im}(\\\\alpha)$'>)"
      ]
     },
     "execution_count": 81,
     "metadata": {},
     "output_type": "execute_result"
    },
    {
     "data": {
      "image/png": "[encoded data removed]",
      "text/plain": [
       "<Figure size 432x432 with 1 Axes>"
      ]
     },
     "metadata": {
      "needs_background": "light"
     },
     "output_type": "display_data"
    }
   ],
   "source": [
    "plot_wigner(cat)"
   ]
  },
  {
   "cell_type": "code",
   "execution_count": 74,
   "metadata": {},
   "outputs": [],
   "source": [
    "N=15\n",
    "a=destroy(N)\n",
    "chi=-0.75*2*pi\n",
    "Ep=3.7*2*pi \n",
    "H_=chi*a.dag()*a.dag()*a*a+Ep*(a.dag()*a.dag()+a*a)\n",
    "\n",
    "tau=5/chi\n",
    "def Epx(t, args):\n",
    "    return 4*chi*(1-exp((-(t)**4)/(tau**4)))\n",
    "def Epy(t,args):\n",
    "    Ep= 4*chi*(1-exp((-(t)**4)/(tau**4)))\n",
    "    alpha_0=sqrt(Ep/chi)\n",
    "    alpha_prime=0.5*(1/sqrt(4*(1-exp((-(t)**4)/(tau**4)))))*((-4)*exp((-(t)**4)/(tau**4)))*((-4)*(t**3)/(tau**4))\n",
    "    N_alpha=1/(sqrt(2*(1-exp((-2)*(Ep/chi)))))\n",
    "    return (1j*alpha_prime)/((1+2*alpha_0)*(N_alpha))\n",
    "H0=chi*a.dag()*a.dag()*a*a\n",
    "H1=a.dag()*a.dag()+a*a\n",
    "H2=a.dag()*a.dag()-a*a\n",
    "H_adiabatic=[H0, [H1, Epx]]\n",
    "H_NonAdia=[H0,[H1,Epx], [H2,Epy]]\n",
    "test=[H0, [H2,Epy]]\n",
    "\n"
   ]
  },
  {
   "cell_type": "code",
   "execution_count": 8,
   "metadata": {},
   "outputs": [],
   "source": [
    "def solve(H,spec, N, alpha, start, stop, num, speed):\n",
    "    psi=coherent(N, alpha)\n",
    "    tlist=linspace(start, stop, num)\n",
    "    n=len(tlist)\n",
    "    result=mesolve(H, psi, tlist, [], [])\n",
    "    fig, ax= plt.subplots(1,1,figsize=(8,8))\n",
    "    def update(frame):\n",
    "        plot_wigner(result.states[frame*speed], fig=fig, ax=ax)\n",
    "    ani=animation.FuncAnimation(fig, update, frames=int(n/speed))\n",
    "    FFwriter=animation.FFMpegWriter()\n",
    "    name=f\"{spec},N={N},alpha={round(alpha,1)},t=({start},{stop},{num}).mp4\"\n",
    "    file_name=f\"C:/Users/kimje/Desktop/Project/Posco/Cat/animation/{name}.mp4\"\n",
    "    ani.save(file_name, writer=FFwriter)\n",
    "    plt.close()\n",
    "    # ani.save(name , writer=FFwriter)"
   ]
  },
  {
   "cell_type": "code",
   "execution_count": 53,
   "metadata": {},
   "outputs": [],
   "source": [
    "def solve_(H,spec,state, start, stop, num, speed):\n",
    "    tlist=linspace(start, stop, num)\n",
    "    n=len(tlist)\n",
    "    result=mesolve(H, state, tlist, [], [])\n",
    "    fig, ax= plt.subplots(1,1,figsize=(8,8))\n",
    "    def update(frame):\n",
    "        plot_wigner(result.states[frame*speed], fig=fig, ax=ax)\n",
    "    ani=animation.FuncAnimation(fig, update, frames=int(n/speed))\n",
    "    FFwriter=animation.FFMpegWriter()\n",
    "    name=f\"{spec},N={N},t=({start},{stop},{num}).mp4\"\n",
    "    file_name=f\"C:/Users/kimje/Desktop/Project/Posco/Cat/animation/{name}.mp4\"\n",
    "    ani.save(file_name, writer=FFwriter)\n",
    "    plt.close()\n",
    "    # ani.save(name , writer=FFwriter)"
   ]
  },
  {
   "cell_type": "code",
   "execution_count": 56,
   "metadata": {},
   "outputs": [],
   "source": [
    "solve_(H_adiabatic, 'one', basis(15,1),0,2,500,20)"
   ]
  },
  {
   "cell_type": "code",
   "execution_count": 57,
   "metadata": {},
   "outputs": [],
   "source": [
    "solve_(H_adiabatic, 'zero', basis(15,0),0,2,500,20)"
   ]
  },
  {
   "attachments": {},
   "cell_type": "markdown",
   "metadata": {},
   "source": [
    "### adiabatic drive vs constant drive\n",
    "- Kerr stregnth ~ time\n"
   ]
  },
  {
   "cell_type": "code",
   "execution_count": 15,
   "metadata": {},
   "outputs": [],
   "source": [
    "solve(H_adiabatic, 'adiabatic', 15, 0,0, 26.67, 500 ,5)"
   ]
  },
  {
   "cell_type": "code",
   "execution_count": 16,
   "metadata": {},
   "outputs": [],
   "source": [
    "solve(H_2p, '2p', 15, 0,0, 26.67, 500 ,5)"
   ]
  },
  {
   "cell_type": "code",
   "execution_count": 26,
   "metadata": {},
   "outputs": [],
   "source": [
    "solve(H_adiabatic, '4K', 15, 0,0, 26.67, 500 ,5)"
   ]
  },
  {
   "cell_type": "code",
   "execution_count": 24,
   "metadata": {},
   "outputs": [],
   "source": [
    "solve(H_adiabatic, '0.1K', 15, 0,0, 26.67, 500 ,5)"
   ]
  },
  {
   "attachments": {},
   "cell_type": "markdown",
   "metadata": {},
   "source": [
    "### nonadiabatic"
   ]
  },
  {
   "cell_type": "code",
   "execution_count": 52,
   "metadata": {},
   "outputs": [
    {
     "name": "stderr",
     "output_type": "stream",
     "text": [
      "C:\\Users\\kimje\\AppData\\Local\\Temp\\ipykernel_15076\\2635694210.py:13: RuntimeWarning: divide by zero encountered in double_scalars\n",
      "  alpha_prime=0.5*(1/sqrt(4*(1-exp((-(t)**4)/(tau**4)))))*((-4)*exp((-(t)**4)/(tau**4)))*((-4)*(t**3)/(tau**4))\n",
      "C:\\Users\\kimje\\AppData\\Local\\Temp\\ipykernel_15076\\2635694210.py:13: RuntimeWarning: invalid value encountered in double_scalars\n",
      "  alpha_prime=0.5*(1/sqrt(4*(1-exp((-(t)**4)/(tau**4)))))*((-4)*exp((-(t)**4)/(tau**4)))*((-4)*(t**3)/(tau**4))\n",
      "C:\\Users\\kimje\\AppData\\Local\\Temp\\ipykernel_15076\\2635694210.py:14: RuntimeWarning: divide by zero encountered in double_scalars\n",
      "  N_alpha=1/(sqrt(2*(1-exp((-2)*(Ep/chi)))))\n"
     ]
    }
   ],
   "source": [
    "solve(H_NonAdia, 'nonadia', 15, 0, 0.0001, 2, 500 ,5)"
   ]
  },
  {
   "cell_type": "code",
   "execution_count": null,
   "metadata": {},
   "outputs": [
    {
     "name": "stderr",
     "output_type": "stream",
     "text": [
      "C:\\Users\\kimje\\AppData\\Local\\Temp\\ipykernel_15076\\2635694210.py:13: RuntimeWarning: divide by zero encountered in double_scalars\n",
      "  alpha_prime=0.5*(1/sqrt(4*(1-exp((-(t)**4)/(tau**4)))))*((-4)*exp((-(t)**4)/(tau**4)))*((-4)*(t**3)/(tau**4))\n",
      "C:\\Users\\kimje\\AppData\\Local\\Temp\\ipykernel_15076\\2635694210.py:13: RuntimeWarning: invalid value encountered in double_scalars\n",
      "  alpha_prime=0.5*(1/sqrt(4*(1-exp((-(t)**4)/(tau**4)))))*((-4)*exp((-(t)**4)/(tau**4)))*((-4)*(t**3)/(tau**4))\n",
      "C:\\Users\\kimje\\AppData\\Local\\Temp\\ipykernel_15076\\2635694210.py:14: RuntimeWarning: divide by zero encountered in double_scalars\n",
      "  N_alpha=1/(sqrt(2*(1-exp((-2)*(Ep/chi)))))\n"
     ]
    }
   ],
   "source": [
    "solve(H_NonAdia, 'nonadia', 15, 0, 0.0001, 26.67, 500 ,5)"
   ]
  },
  {
   "cell_type": "code",
   "execution_count": 50,
   "metadata": {},
   "outputs": [
    {
     "name": "stderr",
     "output_type": "stream",
     "text": [
      "C:\\Users\\kimje\\AppData\\Local\\Temp\\ipykernel_15076\\2635694210.py:13: RuntimeWarning: divide by zero encountered in double_scalars\n",
      "  alpha_prime=0.5*(1/sqrt(4*(1-exp((-(t)**4)/(tau**4)))))*((-4)*exp((-(t)**4)/(tau**4)))*((-4)*(t**3)/(tau**4))\n",
      "C:\\Users\\kimje\\AppData\\Local\\Temp\\ipykernel_15076\\2635694210.py:13: RuntimeWarning: invalid value encountered in double_scalars\n",
      "  alpha_prime=0.5*(1/sqrt(4*(1-exp((-(t)**4)/(tau**4)))))*((-4)*exp((-(t)**4)/(tau**4)))*((-4)*(t**3)/(tau**4))\n",
      "C:\\Users\\kimje\\AppData\\Local\\Temp\\ipykernel_15076\\2635694210.py:14: RuntimeWarning: divide by zero encountered in double_scalars\n",
      "  N_alpha=1/(sqrt(2*(1-exp((-2)*(Ep/chi)))))\n"
     ]
    }
   ],
   "source": [
    "solve(test, 'test', 15, 0, 0.01, 26.67, 500 ,20)"
   ]
  },
  {
   "cell_type": "code",
   "execution_count": null,
   "metadata": {},
   "outputs": [],
   "source": []
  }
 ],
 "metadata": {
  "kernelspec": {
   "display_name": "qutip",
   "language": "python",
   "name": "python3"
  },
  "language_info": {
   "codemirror_mode": {
    "name": "ipython",
    "version": 3
   },
   "file_extension": ".py",
   "mimetype": "text/x-python",
   "name": "python",
   "nbconvert_exporter": "python",
   "pygments_lexer": "ipython3",
   "version": "3.9.12"
  },
  "orig_nbformat": 4,
  "vscode": {
   "interpreter": {
    "hash": "7a589a19ec3db10b92f36ace0ea9ad5e5e5cf2b41d1bfa5969087b22bf53177d"
   }
  }
 },
 "nbformat": 4,
 "nbformat_minor": 2
}
