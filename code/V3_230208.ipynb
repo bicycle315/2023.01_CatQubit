{
 "cells": [
  {
   "cell_type": "code",
   "execution_count": 1,
   "metadata": {},
   "outputs": [],
   "source": [
    "from datetime import date\n",
    "from qutip import *\n",
    "from numpy import *\n",
    "import matplotlib as mpl\n",
    "import matplotlib.pyplot as plt\n",
    "from matplotlib import animation"
   ]
  },
  {
   "cell_type": "code",
   "execution_count": 2,
   "metadata": {},
   "outputs": [],
   "source": [
    "def plot_wigner(rho, fig=None, ax=None):\n",
    "    if fig is None or ax is None:\n",
    "        fig, ax=plt.subplots(1,1,figsize=(8,8))\n",
    "    if isket(rho):\n",
    "        rho=ket2dm(rho)\n",
    "    xvec=linspace(-7.5, 7.5, 200)\n",
    "\n",
    "    W=wigner(rho,xvec,xvec)\n",
    "    wlim=abs(W).max()\n",
    "\n",
    "    ax.contourf(xvec, xvec, W, 100, norm=mpl.colors.Normalize(-wlim,wlim), cmap=mpl.cm.get_cmap('RdBu'))\n",
    "    ax.set_xlabel(r'x1', fontsize=16)\n",
    "    ax.set_ylabel(r'x2', fontsize=16)\n",
    "    return fig, ax"
   ]
  },
  {
   "cell_type": "code",
   "execution_count": 16,
   "metadata": {},
   "outputs": [],
   "source": [
    "#Puri\n",
    "class Kerr:\n",
    "    def __init__(self, chi):\n",
    "        self.chi=chi*2*pi\n",
    "        self.tau=5/self.chi\n",
    "        self.N=50\n",
    "        self.a=destroy(self.N)\n",
    "        self.ad=self.a.dag()\n",
    "        self.H0=self.chi*self.ad*self.ad*self.a*self.a\n",
    "        self.Hx=self.ad*self.ad+self.a*self.a\n",
    "        self.Hy=self.ad*self.ad-self.a*self.a\n",
    "        self.zero=basis(self.N, 0)\n",
    "        self.one=basis(self.N, 1)\n",
    "    def Epx(self, t, args):\n",
    "        #return 10*t**2\n",
    "        # if t<=5 :\n",
    "        #     return 4*self.chi*(1-exp((-(t)**4)/(self.tau**4)))\n",
    "        # if t>5 :\n",
    "        #     return 0\n",
    "        return 17.75*t\n",
    "        #return 4*self.chi*(1-exp((-(t)**4)/(self.tau**4)))\n",
    "    def Epy(self, t,args):\n",
    "        Ep= 4*self.chi*(1-exp((-(t)**4)/(self.tau**4)))\n",
    "        alpha_0=sqrt(Ep/self.chi)\n",
    "        alpha_prime=0.5*(1/sqrt(4*(1-exp((-(t)**4)/(self.tau**4)))))*((-4)*exp((-(t)**4)/(self.tau**4)))*((-4)*(t**3)/(self.tau**4))\n",
    "        N_alpha=1/(sqrt(2*(1-exp((-2)*(Ep/self.chi)))))\n",
    "        return (1j*alpha_prime)/((1+2*alpha_0)*(N_alpha))\n",
    "        #return 100\n",
    "    def solve(self, H, spec, alpha, start, stop, num, speed):\n",
    "        psi=coherent(self.N, alpha)\n",
    "        tlist=linspace(start, stop, num)\n",
    "        n=len(tlist)\n",
    "        if H=='adiabatic':\n",
    "            H=[self.H0,[self.Hx, self.Epx]]\n",
    "        elif H=='nonadiabatic':\n",
    "            H=[self.H0,[self.Hx, self.Epx],[self.Hy, self.Epy]]\n",
    "        elif H=='test':\n",
    "            H=[self.H0]\n",
    "        result=mesolve(H, psi, tlist, [], [])\n",
    "        fig, ax= plt.subplots(1,1,figsize=(8,8))\n",
    "        def update(frame):\n",
    "            plot_wigner(result.states[frame*speed], fig=fig, ax=ax)\n",
    "        ani=animation.FuncAnimation(fig, update, frames=int(n/speed))\n",
    "        FFwriter=animation.FFMpegWriter()\n",
    "        name=f\"{spec},N={self.N},alpha={round(alpha,1)},t=({start},{stop},{num}).mp4\"\n",
    "        file_name=f\"C:/Users/kimje/Desktop/Project/Posco/Cat/animation/{name}.mp4\"\n",
    "        ani.save(file_name, writer=FFwriter)\n",
    "        plt.close()"
   ]
  },
  {
   "cell_type": "code",
   "execution_count": 17,
   "metadata": {},
   "outputs": [],
   "source": [
    "system=Kerr(-0.75)"
   ]
  },
  {
   "cell_type": "code",
   "execution_count": 105,
   "metadata": {},
   "outputs": [],
   "source": [
    "system.solve('test', 'test', 0, 0, 10, 500, 20)"
   ]
  },
  {
   "cell_type": "code",
   "execution_count": 108,
   "metadata": {},
   "outputs": [],
   "source": [
    "system.solve('adiabatic', 'a=2', 2, 0, 10, 500, 20)"
   ]
  },
  {
   "cell_type": "code",
   "execution_count": 19,
   "metadata": {},
   "outputs": [
    {
     "data": {
      "text/plain": [
       "0.9999999999999999"
      ]
     },
     "execution_count": 19,
     "metadata": {},
     "output_type": "execute_result"
    }
   ],
   "source": [
    "tan(pi/4)"
   ]
  },
  {
   "cell_type": "code",
   "execution_count": 18,
   "metadata": {},
   "outputs": [
    {
     "ename": "KeyboardInterrupt",
     "evalue": "",
     "output_type": "error",
     "traceback": [
      "\u001b[1;31m---------------------------------------------------------------------------\u001b[0m",
      "\u001b[1;31mKeyboardInterrupt\u001b[0m                         Traceback (most recent call last)",
      "\u001b[1;32mc:\\Users\\kimje\\Desktop\\Project\\Posco\\Cat\\code\\V3_230208.ipynb Cell 7\u001b[0m in \u001b[0;36m<cell line: 1>\u001b[1;34m()\u001b[0m\n\u001b[1;32m----> <a href='vscode-notebook-cell:/c%3A/Users/kimje/Desktop/Project/Posco/Cat/code/V3_230208.ipynb#W6sZmlsZQ%3D%3D?line=0'>1</a>\u001b[0m system\u001b[39m.\u001b[39;49msolve(\u001b[39m'\u001b[39;49m\u001b[39madiabatic\u001b[39;49m\u001b[39m'\u001b[39;49m, \u001b[39m'\u001b[39;49m\u001b[39mpuri\u001b[39;49m\u001b[39m'\u001b[39;49m, \u001b[39m0\u001b[39;49m, \u001b[39m0\u001b[39;49m, \u001b[39m20\u001b[39;49m, \u001b[39m6000\u001b[39;49m, \u001b[39m20\u001b[39;49m)\n",
      "\u001b[1;32mc:\\Users\\kimje\\Desktop\\Project\\Posco\\Cat\\code\\V3_230208.ipynb Cell 7\u001b[0m in \u001b[0;36mKerr.solve\u001b[1;34m(self, H, spec, alpha, start, stop, num, speed)\u001b[0m\n\u001b[0;32m     <a href='vscode-notebook-cell:/c%3A/Users/kimje/Desktop/Project/Posco/Cat/code/V3_230208.ipynb#W6sZmlsZQ%3D%3D?line=44'>45</a>\u001b[0m name\u001b[39m=\u001b[39m\u001b[39mf\u001b[39m\u001b[39m\"\u001b[39m\u001b[39m{\u001b[39;00mspec\u001b[39m}\u001b[39;00m\u001b[39m,N=\u001b[39m\u001b[39m{\u001b[39;00m\u001b[39mself\u001b[39m\u001b[39m.\u001b[39mN\u001b[39m}\u001b[39;00m\u001b[39m,alpha=\u001b[39m\u001b[39m{\u001b[39;00m\u001b[39mround\u001b[39m(alpha,\u001b[39m1\u001b[39m)\u001b[39m}\u001b[39;00m\u001b[39m,t=(\u001b[39m\u001b[39m{\u001b[39;00mstart\u001b[39m}\u001b[39;00m\u001b[39m,\u001b[39m\u001b[39m{\u001b[39;00mstop\u001b[39m}\u001b[39;00m\u001b[39m,\u001b[39m\u001b[39m{\u001b[39;00mnum\u001b[39m}\u001b[39;00m\u001b[39m).mp4\u001b[39m\u001b[39m\"\u001b[39m\n\u001b[0;32m     <a href='vscode-notebook-cell:/c%3A/Users/kimje/Desktop/Project/Posco/Cat/code/V3_230208.ipynb#W6sZmlsZQ%3D%3D?line=45'>46</a>\u001b[0m file_name\u001b[39m=\u001b[39m\u001b[39mf\u001b[39m\u001b[39m\"\u001b[39m\u001b[39mC:/Users/kimje/Desktop/Project/Posco/Cat/animation/\u001b[39m\u001b[39m{\u001b[39;00mname\u001b[39m}\u001b[39;00m\u001b[39m.mp4\u001b[39m\u001b[39m\"\u001b[39m\n\u001b[1;32m---> <a href='vscode-notebook-cell:/c%3A/Users/kimje/Desktop/Project/Posco/Cat/code/V3_230208.ipynb#W6sZmlsZQ%3D%3D?line=46'>47</a>\u001b[0m ani\u001b[39m.\u001b[39;49msave(file_name, writer\u001b[39m=\u001b[39;49mFFwriter)\n\u001b[0;32m     <a href='vscode-notebook-cell:/c%3A/Users/kimje/Desktop/Project/Posco/Cat/code/V3_230208.ipynb#W6sZmlsZQ%3D%3D?line=47'>48</a>\u001b[0m plt\u001b[39m.\u001b[39mclose()\n",
      "File \u001b[1;32mc:\\Users\\kimje\\anaconda3\\envs\\qutip\\lib\\site-packages\\matplotlib\\animation.py:1089\u001b[0m, in \u001b[0;36mAnimation.save\u001b[1;34m(self, filename, writer, fps, dpi, codec, bitrate, extra_args, metadata, extra_anim, savefig_kwargs, progress_callback)\u001b[0m\n\u001b[0;32m   1086\u001b[0m \u001b[39mfor\u001b[39;00m data \u001b[39min\u001b[39;00m \u001b[39mzip\u001b[39m(\u001b[39m*\u001b[39m[a\u001b[39m.\u001b[39mnew_saved_frame_seq() \u001b[39mfor\u001b[39;00m a \u001b[39min\u001b[39;00m all_anim]):\n\u001b[0;32m   1087\u001b[0m     \u001b[39mfor\u001b[39;00m anim, d \u001b[39min\u001b[39;00m \u001b[39mzip\u001b[39m(all_anim, data):\n\u001b[0;32m   1088\u001b[0m         \u001b[39m# TODO: See if turning off blit is really necessary\u001b[39;00m\n\u001b[1;32m-> 1089\u001b[0m         anim\u001b[39m.\u001b[39;49m_draw_next_frame(d, blit\u001b[39m=\u001b[39;49m\u001b[39mFalse\u001b[39;49;00m)\n\u001b[0;32m   1090\u001b[0m         \u001b[39mif\u001b[39;00m progress_callback \u001b[39mis\u001b[39;00m \u001b[39mnot\u001b[39;00m \u001b[39mNone\u001b[39;00m:\n\u001b[0;32m   1091\u001b[0m             progress_callback(frame_number, total_frames)\n",
      "File \u001b[1;32mc:\\Users\\kimje\\anaconda3\\envs\\qutip\\lib\\site-packages\\matplotlib\\animation.py:1125\u001b[0m, in \u001b[0;36mAnimation._draw_next_frame\u001b[1;34m(self, framedata, blit)\u001b[0m\n\u001b[0;32m   1123\u001b[0m \u001b[39mself\u001b[39m\u001b[39m.\u001b[39m_pre_draw(framedata, blit)\n\u001b[0;32m   1124\u001b[0m \u001b[39mself\u001b[39m\u001b[39m.\u001b[39m_draw_frame(framedata)\n\u001b[1;32m-> 1125\u001b[0m \u001b[39mself\u001b[39;49m\u001b[39m.\u001b[39;49m_post_draw(framedata, blit)\n",
      "File \u001b[1;32mc:\\Users\\kimje\\anaconda3\\envs\\qutip\\lib\\site-packages\\matplotlib\\animation.py:1150\u001b[0m, in \u001b[0;36mAnimation._post_draw\u001b[1;34m(self, framedata, blit)\u001b[0m\n\u001b[0;32m   1148\u001b[0m     \u001b[39mself\u001b[39m\u001b[39m.\u001b[39m_blit_draw(\u001b[39mself\u001b[39m\u001b[39m.\u001b[39m_drawn_artists)\n\u001b[0;32m   1149\u001b[0m \u001b[39melse\u001b[39;00m:\n\u001b[1;32m-> 1150\u001b[0m     \u001b[39mself\u001b[39;49m\u001b[39m.\u001b[39;49m_fig\u001b[39m.\u001b[39;49mcanvas\u001b[39m.\u001b[39;49mdraw_idle()\n",
      "File \u001b[1;32mc:\\Users\\kimje\\anaconda3\\envs\\qutip\\lib\\site-packages\\matplotlib\\backend_bases.py:2060\u001b[0m, in \u001b[0;36mFigureCanvasBase.draw_idle\u001b[1;34m(self, *args, **kwargs)\u001b[0m\n\u001b[0;32m   2058\u001b[0m \u001b[39mif\u001b[39;00m \u001b[39mnot\u001b[39;00m \u001b[39mself\u001b[39m\u001b[39m.\u001b[39m_is_idle_drawing:\n\u001b[0;32m   2059\u001b[0m     \u001b[39mwith\u001b[39;00m \u001b[39mself\u001b[39m\u001b[39m.\u001b[39m_idle_draw_cntx():\n\u001b[1;32m-> 2060\u001b[0m         \u001b[39mself\u001b[39m\u001b[39m.\u001b[39mdraw(\u001b[39m*\u001b[39margs, \u001b[39m*\u001b[39m\u001b[39m*\u001b[39mkwargs)\n",
      "File \u001b[1;32mc:\\Users\\kimje\\anaconda3\\envs\\qutip\\lib\\site-packages\\matplotlib\\backends\\backend_agg.py:436\u001b[0m, in \u001b[0;36mFigureCanvasAgg.draw\u001b[1;34m(self)\u001b[0m\n\u001b[0;32m    432\u001b[0m \u001b[39m# Acquire a lock on the shared font cache.\u001b[39;00m\n\u001b[0;32m    433\u001b[0m \u001b[39mwith\u001b[39;00m RendererAgg\u001b[39m.\u001b[39mlock, \\\n\u001b[0;32m    434\u001b[0m      (\u001b[39mself\u001b[39m\u001b[39m.\u001b[39mtoolbar\u001b[39m.\u001b[39m_wait_cursor_for_draw_cm() \u001b[39mif\u001b[39;00m \u001b[39mself\u001b[39m\u001b[39m.\u001b[39mtoolbar\n\u001b[0;32m    435\u001b[0m       \u001b[39melse\u001b[39;00m nullcontext()):\n\u001b[1;32m--> 436\u001b[0m     \u001b[39mself\u001b[39;49m\u001b[39m.\u001b[39;49mfigure\u001b[39m.\u001b[39;49mdraw(\u001b[39mself\u001b[39;49m\u001b[39m.\u001b[39;49mrenderer)\n\u001b[0;32m    437\u001b[0m     \u001b[39m# A GUI class may be need to update a window using this draw, so\u001b[39;00m\n\u001b[0;32m    438\u001b[0m     \u001b[39m# don't forget to call the superclass.\u001b[39;00m\n\u001b[0;32m    439\u001b[0m     \u001b[39msuper\u001b[39m()\u001b[39m.\u001b[39mdraw()\n",
      "File \u001b[1;32mc:\\Users\\kimje\\anaconda3\\envs\\qutip\\lib\\site-packages\\matplotlib\\artist.py:73\u001b[0m, in \u001b[0;36m_finalize_rasterization.<locals>.draw_wrapper\u001b[1;34m(artist, renderer, *args, **kwargs)\u001b[0m\n\u001b[0;32m     71\u001b[0m \u001b[39m@wraps\u001b[39m(draw)\n\u001b[0;32m     72\u001b[0m \u001b[39mdef\u001b[39;00m \u001b[39mdraw_wrapper\u001b[39m(artist, renderer, \u001b[39m*\u001b[39margs, \u001b[39m*\u001b[39m\u001b[39m*\u001b[39mkwargs):\n\u001b[1;32m---> 73\u001b[0m     result \u001b[39m=\u001b[39m draw(artist, renderer, \u001b[39m*\u001b[39margs, \u001b[39m*\u001b[39m\u001b[39m*\u001b[39mkwargs)\n\u001b[0;32m     74\u001b[0m     \u001b[39mif\u001b[39;00m renderer\u001b[39m.\u001b[39m_rasterizing:\n\u001b[0;32m     75\u001b[0m         renderer\u001b[39m.\u001b[39mstop_rasterizing()\n",
      "File \u001b[1;32mc:\\Users\\kimje\\anaconda3\\envs\\qutip\\lib\\site-packages\\matplotlib\\artist.py:50\u001b[0m, in \u001b[0;36mallow_rasterization.<locals>.draw_wrapper\u001b[1;34m(artist, renderer)\u001b[0m\n\u001b[0;32m     47\u001b[0m     \u001b[39mif\u001b[39;00m artist\u001b[39m.\u001b[39mget_agg_filter() \u001b[39mis\u001b[39;00m \u001b[39mnot\u001b[39;00m \u001b[39mNone\u001b[39;00m:\n\u001b[0;32m     48\u001b[0m         renderer\u001b[39m.\u001b[39mstart_filter()\n\u001b[1;32m---> 50\u001b[0m     \u001b[39mreturn\u001b[39;00m draw(artist, renderer)\n\u001b[0;32m     51\u001b[0m \u001b[39mfinally\u001b[39;00m:\n\u001b[0;32m     52\u001b[0m     \u001b[39mif\u001b[39;00m artist\u001b[39m.\u001b[39mget_agg_filter() \u001b[39mis\u001b[39;00m \u001b[39mnot\u001b[39;00m \u001b[39mNone\u001b[39;00m:\n",
      "File \u001b[1;32mc:\\Users\\kimje\\anaconda3\\envs\\qutip\\lib\\site-packages\\matplotlib\\figure.py:2837\u001b[0m, in \u001b[0;36mFigure.draw\u001b[1;34m(self, renderer)\u001b[0m\n\u001b[0;32m   2834\u001b[0m         \u001b[39m# ValueError can occur when resizing a window.\u001b[39;00m\n\u001b[0;32m   2836\u001b[0m \u001b[39mself\u001b[39m\u001b[39m.\u001b[39mpatch\u001b[39m.\u001b[39mdraw(renderer)\n\u001b[1;32m-> 2837\u001b[0m mimage\u001b[39m.\u001b[39;49m_draw_list_compositing_images(\n\u001b[0;32m   2838\u001b[0m     renderer, \u001b[39mself\u001b[39;49m, artists, \u001b[39mself\u001b[39;49m\u001b[39m.\u001b[39;49msuppressComposite)\n\u001b[0;32m   2840\u001b[0m \u001b[39mfor\u001b[39;00m sfig \u001b[39min\u001b[39;00m \u001b[39mself\u001b[39m\u001b[39m.\u001b[39msubfigs:\n\u001b[0;32m   2841\u001b[0m     sfig\u001b[39m.\u001b[39mdraw(renderer)\n",
      "File \u001b[1;32mc:\\Users\\kimje\\anaconda3\\envs\\qutip\\lib\\site-packages\\matplotlib\\image.py:132\u001b[0m, in \u001b[0;36m_draw_list_compositing_images\u001b[1;34m(renderer, parent, artists, suppress_composite)\u001b[0m\n\u001b[0;32m    130\u001b[0m \u001b[39mif\u001b[39;00m not_composite \u001b[39mor\u001b[39;00m \u001b[39mnot\u001b[39;00m has_images:\n\u001b[0;32m    131\u001b[0m     \u001b[39mfor\u001b[39;00m a \u001b[39min\u001b[39;00m artists:\n\u001b[1;32m--> 132\u001b[0m         a\u001b[39m.\u001b[39;49mdraw(renderer)\n\u001b[0;32m    133\u001b[0m \u001b[39melse\u001b[39;00m:\n\u001b[0;32m    134\u001b[0m     \u001b[39m# Composite any adjacent images together\u001b[39;00m\n\u001b[0;32m    135\u001b[0m     image_group \u001b[39m=\u001b[39m []\n",
      "File \u001b[1;32mc:\\Users\\kimje\\anaconda3\\envs\\qutip\\lib\\site-packages\\matplotlib\\artist.py:50\u001b[0m, in \u001b[0;36mallow_rasterization.<locals>.draw_wrapper\u001b[1;34m(artist, renderer)\u001b[0m\n\u001b[0;32m     47\u001b[0m     \u001b[39mif\u001b[39;00m artist\u001b[39m.\u001b[39mget_agg_filter() \u001b[39mis\u001b[39;00m \u001b[39mnot\u001b[39;00m \u001b[39mNone\u001b[39;00m:\n\u001b[0;32m     48\u001b[0m         renderer\u001b[39m.\u001b[39mstart_filter()\n\u001b[1;32m---> 50\u001b[0m     \u001b[39mreturn\u001b[39;00m draw(artist, renderer)\n\u001b[0;32m     51\u001b[0m \u001b[39mfinally\u001b[39;00m:\n\u001b[0;32m     52\u001b[0m     \u001b[39mif\u001b[39;00m artist\u001b[39m.\u001b[39mget_agg_filter() \u001b[39mis\u001b[39;00m \u001b[39mnot\u001b[39;00m \u001b[39mNone\u001b[39;00m:\n",
      "File \u001b[1;32mc:\\Users\\kimje\\anaconda3\\envs\\qutip\\lib\\site-packages\\matplotlib\\axes\\_base.py:3091\u001b[0m, in \u001b[0;36m_AxesBase.draw\u001b[1;34m(self, renderer)\u001b[0m\n\u001b[0;32m   3088\u001b[0m         a\u001b[39m.\u001b[39mdraw(renderer)\n\u001b[0;32m   3089\u001b[0m     renderer\u001b[39m.\u001b[39mstop_rasterizing()\n\u001b[1;32m-> 3091\u001b[0m mimage\u001b[39m.\u001b[39;49m_draw_list_compositing_images(\n\u001b[0;32m   3092\u001b[0m     renderer, \u001b[39mself\u001b[39;49m, artists, \u001b[39mself\u001b[39;49m\u001b[39m.\u001b[39;49mfigure\u001b[39m.\u001b[39;49msuppressComposite)\n\u001b[0;32m   3094\u001b[0m renderer\u001b[39m.\u001b[39mclose_group(\u001b[39m'\u001b[39m\u001b[39maxes\u001b[39m\u001b[39m'\u001b[39m)\n\u001b[0;32m   3095\u001b[0m \u001b[39mself\u001b[39m\u001b[39m.\u001b[39mstale \u001b[39m=\u001b[39m \u001b[39mFalse\u001b[39;00m\n",
      "File \u001b[1;32mc:\\Users\\kimje\\anaconda3\\envs\\qutip\\lib\\site-packages\\matplotlib\\image.py:132\u001b[0m, in \u001b[0;36m_draw_list_compositing_images\u001b[1;34m(renderer, parent, artists, suppress_composite)\u001b[0m\n\u001b[0;32m    130\u001b[0m \u001b[39mif\u001b[39;00m not_composite \u001b[39mor\u001b[39;00m \u001b[39mnot\u001b[39;00m has_images:\n\u001b[0;32m    131\u001b[0m     \u001b[39mfor\u001b[39;00m a \u001b[39min\u001b[39;00m artists:\n\u001b[1;32m--> 132\u001b[0m         a\u001b[39m.\u001b[39;49mdraw(renderer)\n\u001b[0;32m    133\u001b[0m \u001b[39melse\u001b[39;00m:\n\u001b[0;32m    134\u001b[0m     \u001b[39m# Composite any adjacent images together\u001b[39;00m\n\u001b[0;32m    135\u001b[0m     image_group \u001b[39m=\u001b[39m []\n",
      "File \u001b[1;32mc:\\Users\\kimje\\anaconda3\\envs\\qutip\\lib\\site-packages\\matplotlib\\artist.py:50\u001b[0m, in \u001b[0;36mallow_rasterization.<locals>.draw_wrapper\u001b[1;34m(artist, renderer)\u001b[0m\n\u001b[0;32m     47\u001b[0m     \u001b[39mif\u001b[39;00m artist\u001b[39m.\u001b[39mget_agg_filter() \u001b[39mis\u001b[39;00m \u001b[39mnot\u001b[39;00m \u001b[39mNone\u001b[39;00m:\n\u001b[0;32m     48\u001b[0m         renderer\u001b[39m.\u001b[39mstart_filter()\n\u001b[1;32m---> 50\u001b[0m     \u001b[39mreturn\u001b[39;00m draw(artist, renderer)\n\u001b[0;32m     51\u001b[0m \u001b[39mfinally\u001b[39;00m:\n\u001b[0;32m     52\u001b[0m     \u001b[39mif\u001b[39;00m artist\u001b[39m.\u001b[39mget_agg_filter() \u001b[39mis\u001b[39;00m \u001b[39mnot\u001b[39;00m \u001b[39mNone\u001b[39;00m:\n",
      "File \u001b[1;32mc:\\Users\\kimje\\anaconda3\\envs\\qutip\\lib\\site-packages\\matplotlib\\collections.py:989\u001b[0m, in \u001b[0;36m_CollectionWithSizes.draw\u001b[1;34m(self, renderer)\u001b[0m\n\u001b[0;32m    987\u001b[0m \u001b[39m@artist\u001b[39m\u001b[39m.\u001b[39mallow_rasterization\n\u001b[0;32m    988\u001b[0m \u001b[39mdef\u001b[39;00m \u001b[39mdraw\u001b[39m(\u001b[39mself\u001b[39m, renderer):\n\u001b[1;32m--> 989\u001b[0m     \u001b[39mself\u001b[39;49m\u001b[39m.\u001b[39;49mset_sizes(\u001b[39mself\u001b[39;49m\u001b[39m.\u001b[39;49m_sizes, \u001b[39mself\u001b[39;49m\u001b[39m.\u001b[39;49mfigure\u001b[39m.\u001b[39;49mdpi)\n\u001b[0;32m    990\u001b[0m     \u001b[39msuper\u001b[39m()\u001b[39m.\u001b[39mdraw(renderer)\n",
      "File \u001b[1;32mc:\\Users\\kimje\\anaconda3\\envs\\qutip\\lib\\site-packages\\matplotlib\\collections.py:985\u001b[0m, in \u001b[0;36m_CollectionWithSizes.set_sizes\u001b[1;34m(self, sizes, dpi)\u001b[0m\n\u001b[0;32m    983\u001b[0m     \u001b[39mself\u001b[39m\u001b[39m.\u001b[39m_transforms[:, \u001b[39m1\u001b[39m, \u001b[39m1\u001b[39m] \u001b[39m=\u001b[39m scale\n\u001b[0;32m    984\u001b[0m     \u001b[39mself\u001b[39m\u001b[39m.\u001b[39m_transforms[:, \u001b[39m2\u001b[39m, \u001b[39m2\u001b[39m] \u001b[39m=\u001b[39m \u001b[39m1.0\u001b[39m\n\u001b[1;32m--> 985\u001b[0m \u001b[39mself\u001b[39m\u001b[39m.\u001b[39mstale \u001b[39m=\u001b[39m \u001b[39mTrue\u001b[39;00m\n",
      "File \u001b[1;32mc:\\Users\\kimje\\anaconda3\\envs\\qutip\\lib\\site-packages\\matplotlib\\artist.py:301\u001b[0m, in \u001b[0;36mArtist.stale\u001b[1;34m(self, val)\u001b[0m\n\u001b[0;32m    298\u001b[0m     \u001b[39mreturn\u001b[39;00m\n\u001b[0;32m    300\u001b[0m \u001b[39mif\u001b[39;00m val \u001b[39mand\u001b[39;00m \u001b[39mself\u001b[39m\u001b[39m.\u001b[39mstale_callback \u001b[39mis\u001b[39;00m \u001b[39mnot\u001b[39;00m \u001b[39mNone\u001b[39;00m:\n\u001b[1;32m--> 301\u001b[0m     \u001b[39mself\u001b[39;49m\u001b[39m.\u001b[39;49mstale_callback(\u001b[39mself\u001b[39;49m, val)\n",
      "File \u001b[1;32mc:\\Users\\kimje\\anaconda3\\envs\\qutip\\lib\\site-packages\\matplotlib\\artist.py:83\u001b[0m, in \u001b[0;36m_stale_axes_callback\u001b[1;34m(self, val)\u001b[0m\n\u001b[0;32m     81\u001b[0m \u001b[39mdef\u001b[39;00m \u001b[39m_stale_axes_callback\u001b[39m(\u001b[39mself\u001b[39m, val):\n\u001b[0;32m     82\u001b[0m     \u001b[39mif\u001b[39;00m \u001b[39mself\u001b[39m\u001b[39m.\u001b[39maxes:\n\u001b[1;32m---> 83\u001b[0m         \u001b[39mself\u001b[39m\u001b[39m.\u001b[39maxes\u001b[39m.\u001b[39mstale \u001b[39m=\u001b[39m val\n",
      "File \u001b[1;32mc:\\Users\\kimje\\anaconda3\\envs\\qutip\\lib\\site-packages\\matplotlib\\artist.py:292\u001b[0m, in \u001b[0;36mArtist.stale\u001b[1;34m(self, val)\u001b[0m\n\u001b[0;32m    290\u001b[0m \u001b[39m@stale\u001b[39m\u001b[39m.\u001b[39msetter\n\u001b[0;32m    291\u001b[0m \u001b[39mdef\u001b[39;00m \u001b[39mstale\u001b[39m(\u001b[39mself\u001b[39m, val):\n\u001b[1;32m--> 292\u001b[0m     \u001b[39mself\u001b[39m\u001b[39m.\u001b[39m_stale \u001b[39m=\u001b[39m val\n\u001b[0;32m    294\u001b[0m     \u001b[39m# if the artist is animated it does not take normal part in the\u001b[39;00m\n\u001b[0;32m    295\u001b[0m     \u001b[39m# draw stack and is not expected to be drawn as part of the normal\u001b[39;00m\n\u001b[0;32m    296\u001b[0m     \u001b[39m# draw loop (when not saving) so do not propagate this change\u001b[39;00m\n\u001b[0;32m    297\u001b[0m     \u001b[39mif\u001b[39;00m \u001b[39mself\u001b[39m\u001b[39m.\u001b[39mget_animated():\n",
      "\u001b[1;31mKeyboardInterrupt\u001b[0m: "
     ]
    },
    {
     "data": {
      "image/png": "[encoded data removed]",
      "text/plain": [
       "<Figure size 576x576 with 1 Axes>"
      ]
     },
     "metadata": {
      "needs_background": "light"
     },
     "output_type": "display_data"
    }
   ],
   "source": [
    "system.solve('adiabatic', 'puri', 0, 0, 20, 6000, 20)"
   ]
  },
  {
   "cell_type": "code",
   "execution_count": null,
   "metadata": {},
   "outputs": [],
   "source": [
    "system.solve('adiabatic', 'Ex=3t', 0, 0.0001, 5, 500, 20)"
   ]
  },
  {
   "cell_type": "code",
   "execution_count": 84,
   "metadata": {},
   "outputs": [],
   "source": [
    "system.solve('adiabatic', 'Ex=10t^2', 0, 0.0001, 10, 5000, 20)"
   ]
  },
  {
   "cell_type": "code",
   "execution_count": 95,
   "metadata": {},
   "outputs": [
    {
     "name": "stderr",
     "output_type": "stream",
     "text": [
      "C:\\Users\\kimje\\AppData\\Local\\Temp\\ipykernel_24328\\2852437822.py:20: RuntimeWarning: divide by zero encountered in double_scalars\n",
      "  alpha_prime=0.5*(1/sqrt(4*(1-exp((-(t)**4)/(self.tau**4)))))*((-4)*exp((-(t)**4)/(self.tau**4)))*((-4)*(t**3)/(self.tau**4))\n",
      "C:\\Users\\kimje\\AppData\\Local\\Temp\\ipykernel_24328\\2852437822.py:20: RuntimeWarning: invalid value encountered in double_scalars\n",
      "  alpha_prime=0.5*(1/sqrt(4*(1-exp((-(t)**4)/(self.tau**4)))))*((-4)*exp((-(t)**4)/(self.tau**4)))*((-4)*(t**3)/(self.tau**4))\n",
      "C:\\Users\\kimje\\AppData\\Local\\Temp\\ipykernel_24328\\2852437822.py:21: RuntimeWarning: divide by zero encountered in double_scalars\n",
      "  N_alpha=1/(sqrt(2*(1-exp((-2)*(Ep/self.chi)))))\n"
     ]
    }
   ],
   "source": [
    "system.solve('nonadiabatic', 'Ey=100', 0, 0.0001, 5, 500, 20)"
   ]
  },
  {
   "cell_type": "code",
   "execution_count": null,
   "metadata": {},
   "outputs": [],
   "source": []
  },
  {
   "cell_type": "code",
   "execution_count": null,
   "metadata": {},
   "outputs": [],
   "source": []
  },
  {
   "cell_type": "code",
   "execution_count": null,
   "metadata": {},
   "outputs": [],
   "source": []
  },
  {
   "cell_type": "code",
   "execution_count": 73,
   "metadata": {},
   "outputs": [],
   "source": [
    "cat=coherent(15,sqrt(4.8))+coherent(15,-1*sqrt(4.8))"
   ]
  },
  {
   "cell_type": "code",
   "execution_count": 75,
   "metadata": {},
   "outputs": [],
   "source": [
    "result=mesolve(H_adiabatic, coherent(15,0),linspace(0,2,500),[],[])"
   ]
  },
  {
   "cell_type": "code",
   "execution_count": 80,
   "metadata": {},
   "outputs": [
    {
     "data": {
      "text/plain": [
       "0.007128563905758775"
      ]
     },
     "execution_count": 80,
     "metadata": {},
     "output_type": "execute_result"
    }
   ],
   "source": [
    "t=result.states[499]\n",
    "fidelity(cat, t)"
   ]
  },
  {
   "cell_type": "code",
   "execution_count": 81,
   "metadata": {},
   "outputs": [
    {
     "data": {
      "text/plain": [
       "(<Figure size 432x432 with 1 Axes>,\n",
       " <AxesSubplot:title={'center':'Wigner function'}, xlabel='$\\\\rm{Re}(\\\\alpha)$', ylabel='$\\\\rm{Im}(\\\\alpha)$'>)"
      ]
     },
     "execution_count": 81,
     "metadata": {},
     "output_type": "execute_result"
    },
    {
     "data": {
      "image/png": "[encoded data removed]",
      "text/plain": [
       "<Figure size 432x432 with 1 Axes>"
      ]
     },
     "metadata": {
      "needs_background": "light"
     },
     "output_type": "display_data"
    }
   ],
   "source": [
    "plot_wigner(cat)"
   ]
  },
  {
   "cell_type": "code",
   "execution_count": 74,
   "metadata": {},
   "outputs": [],
   "source": [
    "N=15\n",
    "a=destroy(N)\n",
    "chi=-0.75*2*pi\n",
    "Ep=3.7*2*pi \n",
    "H_=chi*a.dag()*a.dag()*a*a+Ep*(a.dag()*a.dag()+a*a)\n",
    "\n",
    "tau=5/chi\n",
    "def Epx(t, args):\n",
    "    return 4*chi*(1-exp((-(t)**4)/(tau**4)))\n",
    "def Epy(t,args):\n",
    "    Ep= 4*chi*(1-exp((-(t)**4)/(tau**4)))\n",
    "    alpha_0=sqrt(Ep/chi)\n",
    "    alpha_prime=0.5*(1/sqrt(4*(1-exp((-(t)**4)/(tau**4)))))*((-4)*exp((-(t)**4)/(tau**4)))*((-4)*(t**3)/(tau**4))\n",
    "    N_alpha=1/(sqrt(2*(1-exp((-2)*(Ep/chi)))))\n",
    "    return (1j*alpha_prime)/((1+2*alpha_0)*(N_alpha))\n",
    "H0=chi*a.dag()*a.dag()*a*a\n",
    "H1=a.dag()*a.dag()+a*a\n",
    "H2=a.dag()*a.dag()-a*a\n",
    "H_adiabatic=[H0, [H1, Epx]]\n",
    "H_NonAdia=[H0,[H1,Epx], [H2,Epy]]\n",
    "test=[H0, [H2,Epy]]\n",
    "\n"
   ]
  },
  {
   "cell_type": "code",
   "execution_count": 8,
   "metadata": {},
   "outputs": [],
   "source": [
    "def solve(H,spec, N, alpha, start, stop, num, speed):\n",
    "    psi=coherent(N, alpha)\n",
    "    tlist=linspace(start, stop, num)\n",
    "    n=len(tlist)\n",
    "    result=mesolve(H, psi, tlist, [], [])\n",
    "    fig, ax= plt.subplots(1,1,figsize=(8,8))\n",
    "    def update(frame):\n",
    "        plot_wigner(result.states[frame*speed], fig=fig, ax=ax)\n",
    "    ani=animation.FuncAnimation(fig, update, frames=int(n/speed))\n",
    "    FFwriter=animation.FFMpegWriter()\n",
    "    name=f\"{spec},N={N},alpha={round(alpha,1)},t=({start},{stop},{num}).mp4\"\n",
    "    file_name=f\"C:/Users/kimje/Desktop/Project/Posco/Cat/animation/{name}.mp4\"\n",
    "    ani.save(file_name, writer=FFwriter)\n",
    "    plt.close()\n",
    "    # ani.save(name , writer=FFwriter)"
   ]
  },
  {
   "cell_type": "code",
   "execution_count": 53,
   "metadata": {},
   "outputs": [],
   "source": [
    "def solve_(H,spec,state, start, stop, num, speed):\n",
    "    tlist=linspace(start, stop, num)\n",
    "    n=len(tlist)\n",
    "    result=mesolve(H, state, tlist, [], [])\n",
    "    fig, ax= plt.subplots(1,1,figsize=(8,8))\n",
    "    def update(frame):\n",
    "        plot_wigner(result.states[frame*speed], fig=fig, ax=ax)\n",
    "    ani=animation.FuncAnimation(fig, update, frames=int(n/speed))\n",
    "    FFwriter=animation.FFMpegWriter()\n",
    "    name=f\"{spec},N={N},t=({start},{stop},{num}).mp4\"\n",
    "    file_name=f\"C:/Users/kimje/Desktop/Project/Posco/Cat/animation/{name}.mp4\"\n",
    "    ani.save(file_name, writer=FFwriter)\n",
    "    plt.close()\n",
    "    # ani.save(name , writer=FFwriter)"
   ]
  },
  {
   "cell_type": "code",
   "execution_count": 56,
   "metadata": {},
   "outputs": [],
   "source": [
    "solve_(H_adiabatic, 'one', basis(15,1),0,2,500,20)"
   ]
  },
  {
   "cell_type": "code",
   "execution_count": 57,
   "metadata": {},
   "outputs": [],
   "source": [
    "solve_(H_adiabatic, 'zero', basis(15,0),0,2,500,20)"
   ]
  },
  {
   "attachments": {},
   "cell_type": "markdown",
   "metadata": {},
   "source": [
    "### adiabatic drive vs constant drive\n",
    "- Kerr stregnth ~ time\n"
   ]
  },
  {
   "cell_type": "code",
   "execution_count": 15,
   "metadata": {},
   "outputs": [],
   "source": [
    "solve(H_adiabatic, 'adiabatic', 15, 0,0, 26.67, 500 ,5)"
   ]
  },
  {
   "cell_type": "code",
   "execution_count": 16,
   "metadata": {},
   "outputs": [],
   "source": [
    "solve(H_2p, '2p', 15, 0,0, 26.67, 500 ,5)"
   ]
  },
  {
   "cell_type": "code",
   "execution_count": 26,
   "metadata": {},
   "outputs": [],
   "source": [
    "solve(H_adiabatic, '4K', 15, 0,0, 26.67, 500 ,5)"
   ]
  },
  {
   "cell_type": "code",
   "execution_count": 24,
   "metadata": {},
   "outputs": [],
   "source": [
    "solve(H_adiabatic, '0.1K', 15, 0,0, 26.67, 500 ,5)"
   ]
  },
  {
   "attachments": {},
   "cell_type": "markdown",
   "metadata": {},
   "source": [
    "### nonadiabatic"
   ]
  },
  {
   "cell_type": "code",
   "execution_count": 52,
   "metadata": {},
   "outputs": [
    {
     "name": "stderr",
     "output_type": "stream",
     "text": [
      "C:\\Users\\kimje\\AppData\\Local\\Temp\\ipykernel_15076\\2635694210.py:13: RuntimeWarning: divide by zero encountered in double_scalars\n",
      "  alpha_prime=0.5*(1/sqrt(4*(1-exp((-(t)**4)/(tau**4)))))*((-4)*exp((-(t)**4)/(tau**4)))*((-4)*(t**3)/(tau**4))\n",
      "C:\\Users\\kimje\\AppData\\Local\\Temp\\ipykernel_15076\\2635694210.py:13: RuntimeWarning: invalid value encountered in double_scalars\n",
      "  alpha_prime=0.5*(1/sqrt(4*(1-exp((-(t)**4)/(tau**4)))))*((-4)*exp((-(t)**4)/(tau**4)))*((-4)*(t**3)/(tau**4))\n",
      "C:\\Users\\kimje\\AppData\\Local\\Temp\\ipykernel_15076\\2635694210.py:14: RuntimeWarning: divide by zero encountered in double_scalars\n",
      "  N_alpha=1/(sqrt(2*(1-exp((-2)*(Ep/chi)))))\n"
     ]
    }
   ],
   "source": [
    "solve(H_NonAdia, 'nonadia', 15, 0, 0.0001, 2, 500 ,5)"
   ]
  },
  {
   "cell_type": "code",
   "execution_count": null,
   "metadata": {},
   "outputs": [
    {
     "name": "stderr",
     "output_type": "stream",
     "text": [
      "C:\\Users\\kimje\\AppData\\Local\\Temp\\ipykernel_15076\\2635694210.py:13: RuntimeWarning: divide by zero encountered in double_scalars\n",
      "  alpha_prime=0.5*(1/sqrt(4*(1-exp((-(t)**4)/(tau**4)))))*((-4)*exp((-(t)**4)/(tau**4)))*((-4)*(t**3)/(tau**4))\n",
      "C:\\Users\\kimje\\AppData\\Local\\Temp\\ipykernel_15076\\2635694210.py:13: RuntimeWarning: invalid value encountered in double_scalars\n",
      "  alpha_prime=0.5*(1/sqrt(4*(1-exp((-(t)**4)/(tau**4)))))*((-4)*exp((-(t)**4)/(tau**4)))*((-4)*(t**3)/(tau**4))\n",
      "C:\\Users\\kimje\\AppData\\Local\\Temp\\ipykernel_15076\\2635694210.py:14: RuntimeWarning: divide by zero encountered in double_scalars\n",
      "  N_alpha=1/(sqrt(2*(1-exp((-2)*(Ep/chi)))))\n"
     ]
    }
   ],
   "source": [
    "solve(H_NonAdia, 'nonadia', 15, 0, 0.0001, 26.67, 500 ,5)"
   ]
  },
  {
   "cell_type": "code",
   "execution_count": 50,
   "metadata": {},
   "outputs": [
    {
     "name": "stderr",
     "output_type": "stream",
     "text": [
      "C:\\Users\\kimje\\AppData\\Local\\Temp\\ipykernel_15076\\2635694210.py:13: RuntimeWarning: divide by zero encountered in double_scalars\n",
      "  alpha_prime=0.5*(1/sqrt(4*(1-exp((-(t)**4)/(tau**4)))))*((-4)*exp((-(t)**4)/(tau**4)))*((-4)*(t**3)/(tau**4))\n",
      "C:\\Users\\kimje\\AppData\\Local\\Temp\\ipykernel_15076\\2635694210.py:13: RuntimeWarning: invalid value encountered in double_scalars\n",
      "  alpha_prime=0.5*(1/sqrt(4*(1-exp((-(t)**4)/(tau**4)))))*((-4)*exp((-(t)**4)/(tau**4)))*((-4)*(t**3)/(tau**4))\n",
      "C:\\Users\\kimje\\AppData\\Local\\Temp\\ipykernel_15076\\2635694210.py:14: RuntimeWarning: divide by zero encountered in double_scalars\n",
      "  N_alpha=1/(sqrt(2*(1-exp((-2)*(Ep/chi)))))\n"
     ]
    }
   ],
   "source": [
    "solve(test, 'test', 15, 0, 0.01, 26.67, 500 ,20)"
   ]
  },
  {
   "cell_type": "code",
   "execution_count": null,
   "metadata": {},
   "outputs": [],
   "source": []
  }
 ],
 "metadata": {
  "kernelspec": {
   "display_name": "qutip",
   "language": "python",
   "name": "python3"
  },
  "language_info": {
   "codemirror_mode": {
    "name": "ipython",
    "version": 3
   },
   "file_extension": ".py",
   "mimetype": "text/x-python",
   "name": "python",
   "nbconvert_exporter": "python",
   "pygments_lexer": "ipython3",
   "version": "3.9.12"
  },
  "orig_nbformat": 4,
  "vscode": {
   "interpreter": {
    "hash": "7a589a19ec3db10b92f36ace0ea9ad5e5e5cf2b41d1bfa5969087b22bf53177d"
   }
  }
 },
 "nbformat": 4,
 "nbformat_minor": 2
}
